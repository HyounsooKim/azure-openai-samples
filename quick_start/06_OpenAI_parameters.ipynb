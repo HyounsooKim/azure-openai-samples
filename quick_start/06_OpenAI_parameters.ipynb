{
 "cells": [
  {
   "cell_type": "markdown",
   "metadata": {},
   "source": [
    "# Parameters available for OpenAI's GPT model"
   ]
  },
  {
   "cell_type": "code",
   "execution_count": 1,
   "metadata": {},
   "outputs": [],
   "source": [
    "import os\n",
    "from openai import AzureOpenAI\n",
    "from dotenv import load_dotenv\n",
    "load_dotenv()\n",
    "\n",
    "client = AzureOpenAI(\n",
    "    azure_endpoint = os.getenv(\"AZURE_OPENAI_ENDPOINT\",\"\").strip(),\n",
    "    api_key        = os.getenv(\"AZURE_OPENAI_API_KEY\"),\n",
    "    api_version    = os.getenv(\"OPENAI_API_VERSION\")\n",
    ")\n",
    "\n",
    "deployment_name = os.getenv('DEPLOYMENT_NAME')\n",
    "SEED=123"
   ]
  },
  {
   "attachments": {},
   "cell_type": "markdown",
   "metadata": {},
   "source": [
    "# temperature\n",
    "\n",
    "Defaults to 1\n",
    "\n",
    "The default value of the `temperature` parameter is typically 1. This parameter is used to adjust the predictability and diversity of the generated text. A higher value results in more diverse and unpredictable text, while a lower value generates more consistent and predictable results.\n",
    "\n",
    "- Set close to 1: This is the default setting, allowing the model to generate responses with high creativity and diversity. It offers the most balanced results and can create varied and less predictable responses.\n",
    "- Set close to 0: The model chooses the most probable words, generating highly consistent and predictable text.\n",
    "- Set greater than 1: The model generates more creative and unpredictable text, but it might sometimes deviate from the topic or produce less consistent results.\n",
    "\n",
    "In general, it's recommended to adjust either the Temperature or Top_p values but not both simultaneously."
   ]
  },
  {
   "cell_type": "code",
   "execution_count": 2,
   "metadata": {},
   "outputs": [],
   "source": [
    "def call_openai(num_times, messages, temperature=1, use_seed=False):\n",
    "    for i in range(num_times):\n",
    "        if use_seed:\n",
    "            response = client.chat.completions.create(\n",
    "                model=deployment_name,\n",
    "                messages = [{\"role\":\"system\", \"content\":\"You are a helpful assistant.\"},\n",
    "                            {\"role\":\"user\",\"content\": messages}],\n",
    "                    max_tokens=60,\n",
    "                    seed=SEED,\n",
    "                    temperature = temperature\n",
    "            )\n",
    "        else:\n",
    "            response = client.chat.completions.create(\n",
    "                model=deployment_name,\n",
    "                messages = [{\"role\":\"system\", \"content\":\"You are a helpful assistant.\"},\n",
    "                            {\"role\":\"user\",\"content\": messages}],\n",
    "                    max_tokens=60,\n",
    "                    temperature = temperature\n",
    "            )\n",
    "        \n",
    "        print(str(i+1) + \": \" + response.choices[0].message.content)"
   ]
  },
  {
   "cell_type": "code",
   "execution_count": 3,
   "metadata": {},
   "outputs": [
    {
     "name": "stdout",
     "output_type": "stream",
     "text": [
      "1: It was a quiet evening in the small coastal town of Eventide, where the sea always seemed to whisper secrets to those who cared to listen. The sun had just dipped below the horizon, painting the sky in hues of amber and violet. The old lighthouse, perched on the edge of the rocky cliffs\n",
      "2: Sure! Here's the beginning of a story:\n",
      "\n",
      "---\n",
      "\n",
      "The wind whispered through the towering pines as dusk settled over the quiet town of Alderwood. Nestled between jagged mountain peaks and a serene, silver lake, the town seemed timeless—untouched by the chaos of the modern world. Yet,\n",
      "3: On the edge of a quiet, mist-shrouded forest, there stood a tiny, weathered cottage with a crooked chimney that puffed out occasional wisps of lavender-colored smoke. The villagers from the nearby town rarely ventured near it, spinning tales of enchantments and whispered promises of both danger and\n",
      "4: It was a quiet morning in the small town of Alderwood, where the forest whispered ancient secrets and the cobblestone streets shimmered with last night's rain. Claire Bellamy stood on the porch of her family’s creaky old house, sipping coffee and watching the mist roll off the hills. She\n",
      "5: The sun dipped low across the horizon, painting the sky in hues of amber and rose. In the quiet town of Willowbrook, where cobblestone streets wound like veins through the heart of the village, a peculiar hush had settled. The town's clock tower, an ancient relic as old as the\n",
      "6: The wind whispered through the tall pines, carrying with it the faint scent of rain as twilight settled over the secluded mountain village of Ellensreach. Nestled deep in a valley shrouded in mist, the village seemed timeless—its cobblestone streets and wooden cottages untouched by the modern world\n",
      "7: The wind howled through the dense forest, carrying whispers of secrets too old to remember. In the small, forgotten hamlet of Blackthorn Hollow, nestled between the shadowy pines, an unnatural stillness hung in the air. The village had long been a place of quiet isolation, its handful\n",
      "8: The wind whispered through the tall pines as the last rays of sunlight dipped below the horizon, bathing the countryside in an amber glow. In the shadow of a crumbling stone tower, nestled deep within the forgotten woods, a young girl knelt beside a patch of wildflowers. Her name was El\n",
      "9: The rain poured down in steady sheets, drumming against the cracked roof of the old diner perched at the edge of Highway 27. The flickering neon sign outside proclaimed \"Eddy's Diner\" in stubborn defiance of time and rust, though the “E” had long since burned out\n",
      "10: It was a quiet morning in the small town of Willowbrook—too quiet, Emma thought, as she sipped her coffee by the bay window. The air outside was heavy, blanketed in a mist so thick it blurred the edges of the world. Normally, the cobblestone streets would hum\n"
     ]
    }
   ],
   "source": [
    "call_openai(10, 'Start a story')"
   ]
  },
  {
   "cell_type": "code",
   "execution_count": 4,
   "metadata": {},
   "outputs": [
    {
     "name": "stdout",
     "output_type": "stream",
     "text": [
      "1: It was a quiet, misty morning in the small coastal town of Bramblewick. The sea breeze carried the faint scent of salt and seaweed through the narrow cobblestone streets, where shopkeepers were just beginning to open their shutters and sweep their doorsteps. At the edge of town,\n",
      "2: The morning sun poured through the cracks in the old wooden shutters, painting golden stripes across the worn floorboards of the tiny cottage. A faint smell of earth and lavender hung in the air as Elara stretched, her fingers brushing against the rough quilt that had kept her warm through the night.\n",
      "\n",
      "Today was\n",
      "3: The sun dipped low on the horizon, painting the sky in hues of amber and crimson. A soft breeze carried the scent of salt and wildflowers across the rugged cliffs of Seaborne Isle, a place whispered about in both caution and wonder by mainlanders. At the edge of the cliff, a\n",
      "4: The wind howled through the narrow streets of the quiet village, carrying with it the faint scent of salt from the distant sea. In the dim glow of an old streetlamp, a girl named Elara stood clutching a small, weathered satchel. Inside it lay a peculiar object: a\n",
      "5: The wind whispered secrets through the tall pines as the last rays of sunlight melted into the horizon. Deep in the heart of the forest, where the trees grew so close together that their branches wove a canopy of shadows, a small cabin sat nestled in a clearing. It had been abandoned for years\n",
      "6: The wind howled through the dense forest, carrying the scent of pine and the faint, metallic tang of an approaching storm. Deep within the trees, a young girl named Lila crouched beside a moss-covered boulder, her heart pounding in her chest. She clutched a small, worn\n",
      "7: The rain had been falling for hours, turning the narrow dirt path into a slick ribbon of mud winding through the dense forest. Elena tightened her grip on the old leather satchel slung across her shoulder, its contents far too precious to risk losing to the storm. Each step was a careful calculation,\n",
      "8: The air was thick with the scent of pine and earth as the sun dipped below the horizon, casting streaks of amber and crimson across the sky. In the quiet town of Willow's Edge, nestled at the foot of a sprawling forest, a peculiar tradition was about to unfold. Every year, on\n",
      "9: Sure! Here's the beginning of a story:\n",
      "\n",
      "---\n",
      "\n",
      "The wind whispered through the trees, carrying with it the faint scent of rain and something else—something ancient. Deep in the heart of Eldermere Forest, where sunlight struggled to break through the dense canopy, a young woman named Calla knelt\n",
      "10: The wind whispered through the tall pines as the first rays of dawn crept over the horizon, painting the sky in hues of gold and lavender. In the quiet town of Evermere, nestled deep within a valley surrounded by ancient forests, a peculiar stillness hung in the air. It was the\n"
     ]
    }
   ],
   "source": [
    "call_openai(10, 'Start a story', temperature = 0.7)"
   ]
  },
  {
   "cell_type": "markdown",
   "metadata": {},
   "source": [
    "`seed` parameter is used to ensure reproducibility of the model's output. `seed` provides an initialization value for the random number generator, ensuring the same output for the same input when called with the same `seed`. It can be particularly useful in scenarios requiring reproducibility for experiments or when providing consistent responses to multiple users. Situations where it can be applied:\n",
    "- When reproducibility is crucial\n",
    "- Ensuring consistency in user experiences\n",
    "- A/B testing.\n",
    "\n",
    "When using `seed` for reproducible results, ensure that other model parameters (e.g., temperature, max_tokens, etc.) remain unchanged to get consistent outputs."
   ]
  },
  {
   "cell_type": "code",
   "execution_count": 5,
   "metadata": {},
   "outputs": [
    {
     "name": "stdout",
     "output_type": "stream",
     "text": [
      "1: On the outskirts of a small, mist-shrouded village nestled deep within an ancient forest, there stood a crumbling stone tower. It had been there for as long as anyone could remember, its jagged silhouette a constant presence on the horizon. The villagers called it the Watcher's Spire,\n",
      "2: On the outskirts of a small, mist-shrouded village nestled deep within an ancient forest, there stood a crumbling stone tower. It had been there for as long as anyone could remember, its jagged silhouette a constant presence on the horizon. The villagers called it the Watcher's Spire,\n",
      "3: On the outskirts of a small, mist-shrouded village nestled deep within an ancient forest, there stood a crumbling stone tower. It had been there for as long as anyone could remember, its jagged silhouette a constant presence on the horizon. The villagers called it the Watcher's Spire,\n",
      "4: On the outskirts of a small, mist-shrouded village nestled deep within an ancient forest, there stood a crumbling stone tower. It had been there for as long as anyone could remember, its jagged silhouette a constant presence on the horizon. The villagers called it the Watcher's Spire,\n",
      "5: On the outskirts of a small, mist-shrouded village nestled deep within an ancient forest, there stood a crumbling stone tower. It had been there for as long as anyone could remember, its jagged silhouette a constant presence on the horizon. The villagers called it the Watcher's Spire,\n",
      "6: On the outskirts of a small, mist-shrouded village nestled deep within an ancient forest, there stood a crumbling stone tower. It had been there for as long as anyone could remember, its jagged silhouette a constant presence on the horizon. The villagers called it the Watcher's Spire,\n",
      "7: On the outskirts of a small, mist-shrouded village nestled deep within an ancient forest, there stood a crumbling stone tower. It had been there for as long as anyone could remember, its jagged silhouette a constant presence on the horizon. The villagers called it the Watcher's Spire,\n",
      "8: On the outskirts of a small, mist-shrouded village nestled deep within an ancient forest, there stood a crumbling stone tower. It had been there for as long as anyone could remember, its jagged silhouette a constant presence on the horizon. The villagers called it the Watcher's Spire,\n",
      "9: On the outskirts of a small, mist-shrouded village nestled deep within an ancient forest, there stood a crumbling stone tower. It had been there for as long as anyone could remember, its jagged silhouette a constant presence on the horizon. The villagers called it the Watcher's Spire,\n",
      "10: On the outskirts of a small, mist-shrouded village nestled deep within an ancient forest, there stood a crumbling stone tower. It had been there for as long as anyone could remember, its jagged silhouette a constant presence on the horizon. The villagers whispered of strange lights flickering in its\n"
     ]
    }
   ],
   "source": [
    "call_openai(10, 'Start a story', temperature = 0.7, use_seed=True)"
   ]
  },
  {
   "cell_type": "code",
   "execution_count": 6,
   "metadata": {},
   "outputs": [
    {
     "name": "stdout",
     "output_type": "stream",
     "text": [
      "1: Sure! Here's the beginning of a story:\n",
      "\n",
      "---\n",
      "\n",
      "The wind carried whispers of the unknown as the small village of Wrenhaven settled into the quiet of twilight. Nestled between rolling hills and a dense, ancient forest, the village had always been a place of routine and simplicity. But tonight, an\n",
      "2: Sure! Here's the beginning of a story:\n",
      "\n",
      "---\n",
      "\n",
      "The wind carried the scent of rain as the first drops began to patter against the cobblestone streets. In the small, sleepy town of Alderwick, twilight had settled like a soft blanket, casting long shadows from the lanterns that swayed\n",
      "3: Sure! Here's the beginning of a story:\n",
      "\n",
      "---\n",
      "\n",
      "The wind carried the scent of rain as the first drops began to fall on the quiet town of Alder Hollow. Nestled between rolling hills and dense forests, the town seemed to hold its breath, waiting for the storm to come alive. On the edge\n",
      "4: Sure! Here's the beginning of a story:\n",
      "\n",
      "---\n",
      "\n",
      "The wind carried the scent of rain as the first drops began to patter against the cobblestone streets. In the small town of Eldermere, the twilight hour wrapped the world in hues of gold and deep violet, casting long shadows across the\n",
      "5: Sure! Here's the beginning of a story:\n",
      "\n",
      "---\n",
      "\n",
      "The wind carried the scent of rain as the first drops began to patter against the cobblestone streets. In the small town of Eldermere, tucked between misty hills and shadowy forests, the air always felt thick with secrets. Lantern\n",
      "6: Sure! Here's the beginning of a story:\n",
      "\n",
      "---\n",
      "\n",
      "The wind carried the scent of rain as the first drops began to patter against the cobblestone streets. In the small, sleepy town of Alderwick, twilight had settled like a comfortable blanket, casting long shadows from the lanterns that swayed\n",
      "7: Sure! Here's the beginning of a story:\n",
      "\n",
      "---\n",
      "\n",
      "The wind carried whispers of the unknown as the small village of Wrenhaven settled into the quiet of twilight. Nestled between rolling hills and a dense, ancient forest, the village had always been a place of routine and simplicity. But tonight, an\n",
      "8: Sure! Here's the beginning of a story:\n",
      "\n",
      "---\n",
      "\n",
      "The wind carried the scent of rain as the first drops began to patter against the cobblestone streets. In the small town of Eldermere, tucked between misty hills and shadowy woods, the air always felt thick with secrets. Tonight\n",
      "9: Sure! Here's the beginning of a story:\n",
      "\n",
      "---\n",
      "\n",
      "The wind carried the scent of rain as the first drops began to patter against the cobblestone streets. In the small town of Eldermere, the sky was painted in hues of deep gray, casting long shadows over the crooked rooftops and\n",
      "10: The wind howled through the narrow streets of the old town, carrying with it the scent of rain and the faint aroma of baked bread from a distant bakery. Beneath the flickering glow of a streetlamp stood a figure, cloaked in a long, tattered coat that seemed to ripple like\n"
     ]
    }
   ],
   "source": [
    "SEED = 456\n",
    "call_openai(10, 'Start a story', temperature=0.7, use_seed=True)"
   ]
  },
  {
   "cell_type": "code",
   "execution_count": null,
   "metadata": {},
   "outputs": [],
   "source": []
  }
 ],
 "metadata": {
  "kernelspec": {
   "display_name": "Python 3",
   "language": "python",
   "name": "python3"
  },
  "language_info": {
   "codemirror_mode": {
    "name": "ipython",
    "version": 3
   },
   "file_extension": ".py",
   "mimetype": "text/x-python",
   "name": "python",
   "nbconvert_exporter": "python",
   "pygments_lexer": "ipython3",
   "version": "3.11.4"
  }
 },
 "nbformat": 4,
 "nbformat_minor": 2
}
