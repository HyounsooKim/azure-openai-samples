{
    "cells": [
        {
            "cell_type": "markdown",
            "metadata": {},
            "source": [
                "You can create a service using the CLI commands below.\n",
                "This practice session will follow the screenshots provided on p.47-p.55 of [this document](http://azure.studydev.com/openai/aoai_2024_pe_02.pdf) to access resources in the Azure Portal and create GPT models.\n",
                "\n",
                "- Save the Azure OpenAI Endpoint URL, Azure OpenAI API Key, and GPT model deployment name (deployment_id) used for creation in a .env file.\n",
                "- If the .env file does not exist, copy the .env.sample file and rename it.\n",
                "- The following commands are examples of using the CLI; developers can move on from here [to the next section](./02_OpenAI_getting_started.ipynb).\n",
                "- Updated on 2024-12-10 (Major model updated to the latest version, code modifications)."
            ]
        },
        {
            "cell_type": "markdown",
            "metadata": {},
            "source": [
                "# Resource Creation Guide for Prompt Engineering Workshop - CLI Version\n",
                "This guide is for preparing infrastructure in advance when conducting large-scale Prompt Engineering Workshop training for enterprise-level events.\n",
                "If the event lasts for more than two days and involves a hackathon with more than 10 developers, this guide covers the resource creation and permission management process.\n",
                "\n",
                "***The CLI code below is intended for Infra team members preparing the workshop.***\n",
                "For individuals, there is no need to create resources on such a large scale as shown below."
            ]
        },
        {
            "cell_type": "markdown",
            "metadata": {},
            "source": [
                "## 1. Create Subscription and Approve AOAI\n",
                "- Create an Azure account.\n",
                "- Create a Subscription (team count = subscriptions * regions).\n",
                "  - Determine the number of subscriptions needed as follows. Creating multiple subscriptions in advance helps overcome quotas (API limits).\n",
                "  - For example, if there are 75 participants divided into 15 teams, create 1 subscription and 10 regions (eastus, eastus2, westus3, canadaeast, uksouth, swedencentral, francecentral, norwayeast, japaneast, southindia).\n",
                "  - Example: 10 teams = 1 subscription * 10 regions, 20 teams = 1 subscription * 10 regions * 2, 30 teams = 1 subscription * 10 regions * 3.\n",
                "  - If exceeding 30 teams, add more subscriptions as needed."
            ]
        },
        {
            "cell_type": "markdown",
            "metadata": {},
            "source": [
                "## 2. Pre-create Resource Groups and Resources per Subscription\n",
                "- Once OpenAI usage is approved for each subscription, pre-create Resource Groups and resources (Azure OpenAI Resource) to save time during workshops and hackathons.\n",
                "  - Perform RBAC mapping in advance so that users participating in the event can access designated resources.\n",
                "  - During the workshop, control service access permissions for participants based on [Contributor](https://learn.microsoft.com/en-us/azure/role-based-access-control/built-in-roles#contributor). After the workshop ends, remove all permissions, adhering to the principle of granting minimal privileges.\n",
                "  - Use the following regions that support `text-embedding-3-large`, `GPT-4o`, and `GPT-4o mini` simultaneously as of 2024-12-10:\n",
                "    - eastus, eastus2, westus3, canadaeast, uksouth, swedencentral, francecentral, norwayeast, japaneast, southindia\n",
                "\n",
                "- **Example of Resource Creation via CLI**\n",
                "Follow your company’s naming convention. Execute the commands below for each pre-created subscription.\n",
                "These commands can be initiated by launching the `Cloud Shell (PowerShell)` from the search bar at the top of the Azure Portal.\n",
                "\n",
                "It is recommended to customize and execute these CLI commands in a Jupyter Notebook afterward.\n",
                "\n",
                "| Step | Task | CLI Command |\n",
                "|---|---|---|\n",
                "|01|Check active tenant|```az account show```|\n",
                "|02|Set subscription|```az account set --subscription \"xxxxxxxxx-xxxxx-xxxx-xxxx-xxxxxxxxxxx\"```|\n",
                "|03|Create resource group|```az group create --name companython-2024-rg --location eastus```|\n",
                "|04|Create OpenAI region resource 01|```az cognitiveservices account create -g companython-2024-rg -n companython-2024-pt-01 --custom-domain companython-2024-pt-01 --kind OpenAI --sku s0 -l eastus```|\n",
                "|05|Create OpenAI region resource 02|```az cognitiveservices account create -g companython-2024-rg -n companython-2024-pt-02 --custom-domain companython-2024-pt-02 --kind OpenAI --sku s0 -l eastus2```|\n",
                "|06|Create OpenAI region resource 03|```az cognitiveservices account create -g companython-2024-rg -n companython-2024-pt-03 --custom-domain companython-2024-pt-03 --kind OpenAI --sku s0 -l westus3```|\n",
                "|07|Create OpenAI region resource 04|```az cognitiveservices account create -g companython-2024-rg -n companython-2024-pt-04 --custom-domain companython-2024-pt-04 --kind OpenAI --sku s0 -l canadaeast```|\n",
                "|08|Create OpenAI region resource 05|```az cognitiveservices account create -g companython-2024-rg -n companython-2024-pt-05 --custom-domain companython-2024-pt-05 --kind OpenAI --sku s0 -l uksouth```|\n",
                "|09|Create OpenAI region resource 06|```az cognitiveservices account create -g companython-2024-rg -n companython-2024-pt-06 --custom-domain companython-2024-pt-06 --kind OpenAI --sku s0 -l swedencentral```|\n",
                "|10|Create OpenAI region resource 07|```az cognitiveservices account create -g companython-2024-rg -n companython-2024-pt-07 --custom-domain companython-2024-pt-07 --kind OpenAI --sku s0 -l francecentral```|\n",
                "|11|Create OpenAI region resource 08|```az cognitiveservices account create -g companython-2024-rg -n companython-2024-pt-08 --custom-domain companython-2024-pt-08 --kind OpenAI --sku s0 -l norwayeast```|\n",
                "|12|Create OpenAI region resource 09|```az cognitiveservices account create -g companython-2024-rg -n companython-2024-pt-09 --custom-domain companython-2024-pt-09 --kind OpenAI --sku s0 -l japaneast```|\n",
                "|13|Create OpenAI region resource 10|```az cognitiveservices account create -g companython-2024-rg -n companython-2024-pt-10 --custom-domain companython-2024-pt-10 --kind OpenAI --sku s0 -l southindia```|"
            ]
        },
        {
            "cell_type": "markdown",
            "metadata": {},
            "source": [
                "***Customization Required!*** - Change the prefix names for `prompthon_name` or `prompthon_team_name` per subscription. Ensure these values are globally unique.\n",
                "If there are multiple subscriptions, repeat step 2 for each new subscription after completing step 3."
            ]
        },
        {
            "cell_type": "code",
            "execution_count": 6,
            "metadata": {},
            "outputs": [],
            "source": [
                "company_event_name = \"companython-2024\""
            ]
        },
        {
            "cell_type": "markdown",
            "metadata": {},
            "source": [
                "Below is a guide on logging into Azure CLI from the current device."
            ]
        },
        {
            "cell_type": "code",
            "execution_count": null,
            "metadata": {},
            "outputs": [],
            "source": [
                "!az config set core.login_experience_v2=off\n",
                "!az login --use-device-code"
            ]
        },
        {
            "cell_type": "code",
            "execution_count": null,
            "metadata": {},
            "outputs": [],
            "source": [
                "!az account show"
            ]
        },
        {
            "cell_type": "markdown",
            "metadata": {},
            "source": [
                "***Customization Required!*** - Copy and replace the `id` value of the subscription used for Prompthon below. (If already selected above, this step can be skipped.)"
            ]
        },
        {
            "cell_type": "code",
            "execution_count": null,
            "metadata": {},
            "outputs": [],
            "source": [
                "!az account set --subscription \"xxxxxxxx-xxxx-xxxx-xxxx-xxxxxxxxxxxx\""
            ]
        },
        {
            "cell_type": "markdown",
            "metadata": {},
            "source": [
                "Create a `Resource Group` to manage resources collectively during the workshop or hackathon. All subsequent resources will be managed based on this `Resource Group`."
            ]
        },
        {
            "cell_type": "code",
            "execution_count": null,
            "metadata": {},
            "outputs": [],
            "source": [
                "!az group create --name $company_event_name\"-rg\" --location eastus"
            ]
        },
        {
            "cell_type": "markdown",
            "metadata": {},
            "source": [
                "Create resources for each region per subscription. (Each region’s resource takes about 1 minute to create.)\n",
                "Below is an example for creating 25 teams, and up to 30 resources can be created per subscription."
            ]
        },
        {
            "cell_type": "code",
            "execution_count": null,
            "metadata": {},
            "outputs": [],
            "source": [
                "total_resources = 25\n",
                "region_list = ['eastus', 'eastus2', 'westus3', 'canadaeast', 'uksouth', 'swedencentral', 'francecentral', 'norwayeast', 'japaneast', 'southindia']\n",
                "region_list = region_list * (total_resources // len(region_list)) + region_list[:total_resources % len(region_list)]\n",
                "\n",
                "for i in range(0, len(region_list)):\n",
                "    number = str(i).zfill(2)\n",
                "    create_openai_resource = (f'az cognitiveservices account create -g {company_event_name}-rg -n {company_event_name}-pt-{number} --custom-domain {company_event_name}-pt-{number} --kind OpenAI --sku s0 -l {region_list[i]}')\n",
                "    !{create_openai_resource}"
            ]
        },
        {
            "cell_type": "markdown",
            "metadata": {},
            "source": [
                "If additional subscriptions are available, repeat the above steps for each subscription based on its subscription ID."
            ]
        },
        {
            "cell_type": "markdown",
            "metadata": {},
            "source": [
                "## 3. Deploy Azure OpenAI Models\n",
                "Deploy models to each Azure OpenAI resource created above.\n",
                "Deploy three models (text-embedding-3-large, gpt-4o, gpt-4o-mini) for each resource (repeat the deployment for all resources created in step 2.4).\n",
                "Deploying three models per region takes approximately 10 seconds."
            ]
        },
        {
            "cell_type": "markdown",
            "metadata": {},
            "source": [
                "| Step | Task | CLI Command |\n",
                "|---|---|---|\n",
                "|1|Deploy embedding API|```az cognitiveservices account deployment create --name companython-2024-pt-01 --resource-group companython-2024-rg --deployment-name text-embedding-3-large --model-name text-embedding-3-large --model-version \"1\" --model-format OpenAI --sku-capacity \"100\" --sku-name \"Standard\"```|\n",
                "|2|Deploy gpt-4o as Global Standard API|```az cognitiveservices account deployment create --name companython-2024-pt-01 --resource-group companython-2024-rg --deployment-name gpt-4og --model-name gpt-4o --model-version \"2024-08-06\" --model-format OpenAI --sku-capacity \"100\" --sku-name \"GlobalStandard\"```|\n",
                "|3|Deploy gpt-4o mini as Global Standard API|```az cognitiveservices account deployment create --name companython-2024-pt-01 --resource-group companython-2024-rg --deployment-name gpt-4o --model-name gpt-4o --model-version \"2024-07-18\" --model-format OpenAI --sku-capacity \"100\" --sku-name \"GlobalStandard\"```|"
            ]
        },
        {
            "cell_type": "code",
            "execution_count": null,
            "metadata": {},
            "outputs": [],
            "source": [
                "for i in range(0, len(region_list)):\n",
                "    number = str(i).zfill(2)\n",
                "    text_embedding_model = (f'az cognitiveservices account deployment create --name {company_event_name}-pt-{number} --resource-group {company_event_name}-rg --deployment-name text-embedding-3-large --model-name text-embedding-3-large --model-version \"1\" --model-format OpenAI --sku-capacity \"100\" --sku-name \"Standard\"')\n",
                "    gpt_4o_model =         (f'az cognitiveservices account deployment create --name {company_event_name}-pt-{number} --resource-group {company_event_name}-rg --deployment-name gpt-4o --model-name gpt-4o --model-version \"2024-08-06\" --model-format OpenAI --sku-capacity \"100\" --sku-name \"GlobalStandard\"')\n",
                "    gpt_4o_mini_model =    (f'az cognitiveservices account deployment create --name {company_event_name}-pt-{number} --resource-group {company_event_name}-rg --deployment-name gpt-4o-mini --model-name gpt-4o-mini --model-version \"2024-07-18\" --model-format OpenAI --sku-capacity \"100\" --sku-name \"GlobalStandard\"')\n",
                "    !{text_embedding_model}\n",
                "    !{gpt_4o_model}\n",
                "    !{gpt_4o_mini_model}"
            ]
        },
        {
            "cell_type": "markdown",
            "metadata": {},
            "source": [
                "## 4. Register Users\n",
                "Register users in Microsoft Entra ID. For ease of management, create groups per team or hackathon group.\n",
                "Assign the registered users to these groups.\n",
                "- Use the following CLI command to register users: [Reference Documentation](https://learn.microsoft.com/en-us/cli/azure/ad/user?view=azure-cli-latest#az-ad-user-create).\n",
                "```az ad user create --display-name myuser --password password --user-principal-name myuser@contoso.com```"
            ]
        },
        {
            "cell_type": "markdown",
            "metadata": {},
            "source": [
                "## 5. Granting Resource Permissions\n",
                "In addition to user registration, register participants in Microsoft Entra ID and grant them access to Azure OpenAI, AI Search, Blob Storage, and AI Foundry.  \n",
                "For quick experimentation and testing during the hackathon, it is recommended to assign [\"Contributor\"](https://learn.microsoft.com/en-us/azure/role-based-access-control/built-in-roles#contributor) role to participants for the subscription. Group-based management is also possible.\n",
                "\n",
                "Following the principle of granting minimal privileges is considered a best practice; ensure to revoke permissions immediately after the hackathon ends.  \n",
                "If you want to configure access based on **minimum privilege security best practices**, follow these steps:  \n",
                "- Go to the IAM of the Resource Groups created in steps 2–3 and assign the following roles to the respective groups (OpenAI, AI Search, Storage Account permissions).  \n",
                "- If you want to use the Add your data feature in Azure OpenAI Studio to connect RAG services (AI Search and Blob Storage connection), it is recommended to register the subscription ID with the Contributor role. This avoids the cumbersome process of repeatedly setting permissions for Blob Storage every time an AI Search service is created. [Learn more about the structure](https://learn.microsoft.com/en-us/azure/ai-services/openai/how-to/use-your-data-securely)."
            ]
        },
        {
            "cell_type": "markdown",
            "metadata": {},
            "source": [
                "By following the above method, Azure services can be used for practice without granting Owner permissions to users or groups at the subscription level.  \n",
                "If you want to use other services such as OCR, Text-to-speech, Speech-to-Text, App Services (instant chatbot service deployment), or Promptflow, you can assign the necessary roles for these services individually. However, it is worth noting that handling permission requests from dozens of users on the day of the hackathon can be cumbersome.  \n",
                "  \n",
                "Once this process is complete, ensure that users can access the resources and activate the services by logging in beforehand and testing their usage in Azure OpenAI Playground. This preparation is ideal if there is a 1–2 week period from subscription creation to user access testing."
            ]
        },
        {
            "cell_type": "markdown",
            "metadata": {},
            "source": [
                "## 6. Resource Deletion Method\n",
                "Resources should be deleted in reverse order of creation.  \n",
                "Before deleting resources, it is recommended to delete the models deployed in the Azure OpenAI resources and then delete the Resource Groups one by one.  \n",
                "If you delete resources without deleting the models first, there may be issues where quotas for deployed models remain as if they are still allocated."
            ]
        },
        {
            "cell_type": "markdown",
            "metadata": {},
            "source": [
                "### 6.1 Deleting Deployed Azure OpenAI Models"
            ]
        },
        {
            "cell_type": "code",
            "execution_count": null,
            "metadata": {},
            "outputs": [],
            "source": [
                "for i in range(0, len(region_list)):\n",
                "    number = str(i).zfill(2)\n",
                "    text_embedding_model = (f'az cognitiveservices account deployment delete --name {company_event_name}-pt-{number} --resource-group {company_event_name}-rg --deployment-name text-embedding-3-large')\n",
                "    gpt_4o_model =         (f'az cognitiveservices account deployment delete --name {company_event_name}-pt-{number} --resource-group {company_event_name}-rg --deployment-name gpt-4o')\n",
                "    gpt_4o_mini_model =    (f'az cognitiveservices account deployment delete --name {company_event_name}-pt-{number} --resource-group {company_event_name}-rg --deployment-name gpt-4o-mini')\n",
                "    !{text_embedding_model}\n",
                "    !{gpt_4o_model}\n",
                "    !{gpt_4o_mini_model}"
            ]
        },
        {
            "cell_type": "markdown",
            "metadata": {},
            "source": [
                "### 6.2 Deleting Deployed Azure OpenAI Resources\n",
                "Deleting resources per region takes approximately 10 seconds.  \n",
                "(Ensure the models are deleted before deleting the resources.)"
            ]
        },
        {
            "cell_type": "code",
            "execution_count": null,
            "metadata": {},
            "outputs": [],
            "source": [
                "for i in range(0, len(region_list)):\n",
                "    number = str(i).zfill(2)\n",
                "    delete_openai_resource = (f'az cognitiveservices account delete -g {company_event_name}-rg -n {company_event_name}-pt-{number}')\n",
                "    !{delete_openai_resource}"
            ]
        },
        {
            "cell_type": "markdown",
            "metadata": {},
            "source": [
                "### 6.1 Deleting Deployed Azure OpenAI Models"
            ]
        },
        {
            "cell_type": "code",
            "execution_count": null,
            "metadata": {},
            "outputs": [],
            "source": [
                "for i in range(0, len(region_list)):\n",
                "    number = str(i).zfill(2)\n",
                "    text_embedding_model = (f'az cognitiveservices account deployment delete --name {company_event_name}-pt-{number} --resource-group {company_event_name}-rg --deployment-name text-embedding-3-large')\n",
                "    gpt_4o_model =         (f'az cognitiveservices account deployment delete --name {company_event_name}-pt-{number} --resource-group {company_event_name}-rg --deployment-name gpt-4o')\n",
                "    gpt_4o_mini_model =    (f'az cognitiveservices account deployment delete --name {company_event_name}-pt-{number} --resource-group {company_event_name}-rg --deployment-name gpt-4o-mini')\n",
                "    !{text_embedding_model}\n",
                "    !{gpt_4o_model}\n",
                "    !{gpt_4o_mini_model}"
            ]
        },
        {
            "cell_type": "markdown",
            "metadata": {},
            "source": [
                "### 6.2 Deleting Deployed Azure OpenAI Resources\n",
                "Deleting resources per region takes approximately 10 seconds. (Ensure the models are deleted before deleting the resources.)"
            ]
        },
        {
            "cell_type": "code",
            "execution_count": null,
            "metadata": {},
            "outputs": [],
            "source": [
                "for i in range(0, len(region_list)):\n",
                "    number = str(i).zfill(2)\n",
                "    delete_openai_resource = (f'az cognitiveservices account delete -g {company_event_name}-rg -n {company_event_name}-pt-{number}')\n",
                "    !{delete_openai_resource}"
            ]
        }
    ],
    "metadata": {
        "kernelspec": {
            "display_name": "Python 3",
            "language": "python",
            "name": "python3"
        },
        "language_info": {
            "codemirror_mode": {
                "name": "ipython",
                "version": 3
            },
            "file_extension": ".py",
            "mimetype": "text/x-python",
            "name": "python",
            "nbconvert_exporter": "python",
            "pygments_lexer": "ipython3",
            "version": "3.11.4"
        },
        "orig_nbformat": 4
    },
    "nbformat": 4,
    "nbformat_minor": 2
}
