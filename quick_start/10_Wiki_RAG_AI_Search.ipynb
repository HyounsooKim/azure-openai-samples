{
 "cells": [
  {
   "attachments": {},
   "cell_type": "markdown",
   "metadata": {},
   "source": [
    "# Demo: OpenAI Large Language Model Chain of Thoughts Demo\n",
    "\n",
    "In this demo, we use the GPT-3 model to analyze natural queries, retrieve additional information using a knowledge base, and answer questions.  \n",
    "2. Utilizing Azure AI Search: We examine how the Wikipedia search engine created on the first day can be utilized."
   ]
  },
  {
   "cell_type": "code",
   "execution_count": 1,
   "metadata": {},
   "outputs": [],
   "source": [
    "import os\n",
    "import json\n",
    "import requests\n",
    "from openai import AzureOpenAI\n",
    "from dotenv import load_dotenv\n",
    "load_dotenv()\n",
    "\n",
    "client = AzureOpenAI(\n",
    "    azure_endpoint = os.getenv(\"AZURE_OPENAI_ENDPOINT\",\"\").strip(),\n",
    "    api_key        = os.getenv(\"AZURE_OPENAI_API_KEY\"),\n",
    "    api_version    = os.getenv(\"OPENAI_API_VERSION\")\n",
    ")\n",
    "\n",
    "deployment_name = os.getenv('DEPLOYMENT_NAME')"
   ]
  },
  {
   "cell_type": "markdown",
   "metadata": {},
   "source": [
    "## 2. How to search based on your own data using AI Search  \n",
    "\n",
    "The RAG (Retrieval-Augmented Generation) model combines an information retrieval system with a language model to retrieve relevant data for a given question and generate an answer based on that information. In this process, the Azure AI Search service plays a pivotal role.\n",
    "\n",
    "1. Search efficiency: Azure AI Search provides the capability to quickly retrieve relevant information from large datasets. The RAG model uses such search engines to efficiently find documents or data related to the given question, enabling it to generate more accurate answers.  \n",
    "\n",
    "2. Accuracy and reliability of information: Azure AI Search enhances the precision of search results using various optimization techniques and algorithms. This helps the RAG model base its answers on more reliable information.  \n",
    "\n",
    "3. Scalability and availability: As a cloud-based service, Azure AI Search is highly scalable and accessible from anywhere at any time. The RAG model leverages this cloud service to meet the search needs for datasets of varying sizes and scopes.  \n",
    "\n",
    "4. Customizability and adaptability: Azure AI Search allows users to finely tune and optimize the search algorithm. This enables the RAG model to tailor its search capabilities to specific domains or question types, which contributes to enhancing the overall quality of the answers.  \n",
    "\n",
    "> The following processes assume prior configurations have been completed:\n",
    "- The search engine indexes have been created using the Wikipedia document file, which includes vector data provided by OpenAI, uploaded to [http://azure.studydev.com/openai/vector_sample.csv](http://azure.studydev.com/openai/vector_sample.csv).\n",
    "- Tutorial video on how to index vector data into the Azure AI Search engine: [https://www.youtube.com/watch?v=XsqPjHYZD04](https://www.youtube.com/watch?v=XsqPjHYZD04)"
   ]
  },
  {
   "cell_type": "code",
   "execution_count": 2,
   "metadata": {},
   "outputs": [],
   "source": [
    "# Azure Cognitive Search\n",
    "# Create an SDK client\n",
    "# endpoint = os.getenv(\"OPENAI_API_ENDPOINT\")\n",
    "from azure.core.credentials import AzureKeyCredential\n",
    "from azure.search.documents import SearchClient\n",
    "from azure.search.documents.models import VectorizedQuery\n",
    "\n",
    "endpoint    = os.getenv('AZURE_AI_SEARCH_ENDPOINT')\n",
    "credential  = AzureKeyCredential(os.getenv('AZURE_AI_SEARCH_API_KEY'))\n",
    "index_name  = os.getenv('AZURE_AI_SEARCH_INDEX')\n",
    "api_version = os.getenv('AZURE_AI_SEARCH_API_VERSION')\n",
    "embedding_model_name = os.getenv(\"DEPLOYMENT_EMBEDDING_NAME\")\n",
    "\n",
    "search_client = SearchClient(endpoint=endpoint, index_name=index_name, credential=credential, api_version=api_version)\n",
    "\n",
    "question     = \"What are the differences between April and August?\"\n",
    "embedding    = client.embeddings.create(input = question, model=embedding_model_name).data[0].embedding\n",
    "vector_query = VectorizedQuery(vector=embedding, k_nearest_neighbors=3, fields=\"content_vector\", exhaustive=True)\n",
    "\n",
    "results = search_client.search(  \n",
    "    search_text=None,  \n",
    "    vector_queries= [vector_query],\n",
    "    select=[\"id\", \"title\", \"text\"],\n",
    ")  \n"
   ]
  },
  {
   "attachments": {},
   "cell_type": "markdown",
   "metadata": {},
   "source": [
    "### Collected information for further processing"
   ]
  },
  {
   "cell_type": "markdown",
   "metadata": {},
   "source": [
    "[Samples for Azure AI Search client library for Python](https://github.com/Azure/azure-sdk-for-python/tree/main/sdk/search/azure-search-documents/samples)"
   ]
  },
  {
   "cell_type": "code",
   "execution_count": 3,
   "metadata": {},
   "outputs": [],
   "source": [
    "grounding = \"\"\n",
    "for result in results:  \n",
    "    # print(f\"Title: {result['title']}\")  \n",
    "    # print(f\"Score: {result['@search.score']}\")  \n",
    "    # print(f\"Text:  {result['text']}\")  \n",
    "    # print(f\"id:    {result['id']}\\n\")  \n",
    "    grounding = grounding + \" \\n \" + result['text']"
   ]
  },
  {
   "cell_type": "code",
   "execution_count": 4,
   "metadata": {},
   "outputs": [],
   "source": [
    "input = question\n",
    "prompt=f'''Answer the following questions as best you can. You have access to the following tools:\n",
    "Question: {input}\n",
    "Gronding data: {grounding}\n",
    "Thought:'''\n"
   ]
  },
  {
   "cell_type": "code",
   "execution_count": 5,
   "metadata": {},
   "outputs": [
    {
     "name": "stdout",
     "output_type": "stream",
     "text": [
      "Answer the following questions as best you can. You have access to the following tools:\n",
      "Question: What are the differences between April and August?\n",
      "Gronding data:  \n",
      " August (Aug.) is the eighth month of the year in the Gregorian calendar, coming between July and September. It has 31 days. It is named after the Roman emperor Augustus Caesar. August does not begin on the same day of the week as any other month in common years, but begins on the same day of the week as February in leap years. August always ends on the same day of the week as November. The Month This month was first called Sextilis in Latin, because it was the sixth month in the old Roman calendar. The Roman calendar began in March about 735 BC with Romulus. October was the eighth month. August was the eighth month when January or February were added to the start of the year by King Numa Pompilius about 700 BC. Or, when those two months were moved from the end to the beginning of the year by the decemvirs about 450 BC (Roman writers disagree). In 153 BC January 1 was determined as the beginning of the year. August is named for Augustus Caesar who became Roman consul in this month. The month has 31 days because Julius Caesar added two days when he created the Julian calendar in 45 BC. August is after July and before September. August, in either hemisphere, is the seasonal equivalent of February in the other. In the Northern hemisphere it is a summer month and it is a winter month in the Southern hemisphere. No other month in common years begins on the same day of the week as August, but August begins on the same day of the week as February in leap years. August ends on the same day of the week as November every year, as each other's last days are 13 weeks (91 days) apart. In common years, August starts on the same day of the week as March and November of the previous year, and in leap years, June of the previous year. In common years, August finishes on the same day of the week as March and June of the previous year, and in leap years, September of the previous year. In common years immediately after other common years, August starts on the same day of the week as February of the previous year. In years immediately before common years, August starts on the same day of the week as May of the following year, and in years immediately before leap years, October of the following year. In years immediately before common years, August finishes on the same day of the week as May of the following year, and in years immediately before leap years, February and October of the following year. August observances Fixed observances and events August 1 National Day of Switzerland August 1 Independence Day (Benin) August 1 Emancipation Day (Bermuda, Guyana, Jamaica, Barbados, Trinidad and Tobago) August 1 Army Day (People's Republic of China) August 1 Lammas, cross-quarter day in the Celtic calendar August 1 Statehood Day (Colorado) August 2 Republic Day (Republic of Macedonia) August 2 Emancipation Day (Bahamas) August 3 Independence Day (Niger) August 5 Independence Day (Burkina Faso) August 5 Victory Day (Croatia) August 6 Independence Day (Bolivia) August 6 Independence Day (Jamaica) August 7 Independence Day (Ivory Coast) August 8 Father's Day (Taiwan) August 9 National Day of Singapore August 9 Day of the Indigenous People (Suriname) August 9 National Women's Day (South Africa) August 10 Independence Day (Ecuador) August 10 Missouri Day August 11 Independence Day (Chad) August 12 Perseid Meteor Shower August 12 Queen Sirikit's Birthday (Thailand) August 13 Independence Day (Central African Republic) August 14 Independence Day (Pakistan) August 15 Assumption of Mary in Western Christianity August 15 Independence Day (India) August 15 Independence Day (Republic of the Congo) August 15 Independence Day (Bahrain) August 15 National Day of South Korea August 15 National Day of Liechtenstein August 15 Victory in Japan Day August 17 Independence Day (Indonesia) August 17 Independence Day (Gabon) August 19 World Humanitarian Day August 19 Independence Day (Afghanistan) August 20 Feast day of Stephen I of Hungary August 20 Regaining of Independence (Estonia) August 21 Admission Day (Hawaii) August 21 Ninoy Aquino Day (Philippines) August 21 Saint Helena Day August 23 National Heroes Day (Philippines) August 24 Independence Day (Ukraine) August 25 Independence Day (Uruguay) August 26 Heroes' Day (Namibia) August 27 Independence Day (Moldova) August 28 Assumption of Mary (Eastern Christianity) August 29 National Uprising Day (Slovakia) August 30 Constitution Day (Kazakhstan) August 30 Republic Day (Tatarstan) August 30 Victory Day (Turkey) August 31 Independence Day (Kyrgyzstan) August 31 Independence Day (Malaysia) August 31 Independence Day (Trinidad and Tobago) Moveable and Monthlong events Edinburgh Festival, including the Military Tattoo at Edinburgh Castle, takes place through most of August and beginning of September. UK Bank Holidays: First Monday in Scotland, last Monday in England and Wales National Eisteddfod, cultural celebration in Wales: First week in August Children's Day in Uruguay: Second Sunday in August Monday after August 17: Holiday in Argentina, commemorating José de San Martin Discovery Day in Canada: third Monday in August Summer Olympics, often held in July and/or August Selection of Historical Events August 1 1291: Traditional founding date of Switzerland. August 1 1914: World War I begins. August 1 1944: Anne Frank makes the last entry in her diary. August 1 1960: Dahomey (now called Benin) becomes independent. August 2 1990: Iraq invades Kuwait. August 3 1492: Christopher Columbus sets sail on his first voyage. August 3 1960: Niger becomes independent. August 4 1944: Anne Frank and her family are captured by the Gestapo in Amsterdam. August 4 1984: Upper Volta's name is changed to Burkina Faso. August 5 1960: Upper Volta becomes independent. August 5 1962: Film actress Marilyn Monroe is found dead at her home. August 6 1825: Bolivian independence. August 6 1945: The Atomic Bomb is dropped on Hiroshima. August 6 1962: Jamaica becomes independent. August 7 1960: Ivory Coast becomes independent. August 9 1945: The Atomic Bomb is dropped on Nagasaki. August 9 1965: Singapore becomes independent. August 9 1974: US President Richard Nixon resigns following the Watergate scandal, with Gerald Ford replacing him. August 10 1792: Storming of the Tuileries Palace during the French Revolution August 10 1809: Beginning of Ecuadorean independence movement. August 11 1960: Chad becomes independent. August 13 1960: The Central African Republic becomes independent. August 13 1961: Building of the Berlin Wall begins. August 14 1945: Japan announces its surrender at the end of World War II. August 14/15 1947: India is partitioned at independence from the UK, as the new mainly Islamic state of Pakistan is created. August 15 1960: The Republic of the Congo becomes independent. August 15 1971: Bahrain becomes independent. August 16 1977: Elvis Presley dies aged 42, leading to a worldwide outpouring of grief. August 17 1945: Indonesia declares independence from the Netherlands. August 17 1960: Gabon becomes independent. August 17 1962: Peter Fechter becomes the first person to be shot dead at the Berlin Wall. August 19 43 BC: Augustus becomes Roman consul. August 19 14: Augustus dies. August 19 1919: Afghanistan becomes independent. August 19 1991: The August Coup against Mikhail Gorbachev, in the Soviet Union, begins. August 20 1940: Leon Trotsky is fatally wounded with an ice pick in Mexico. August 20 1968: The Prague Spring uprising is crushed. August 20 1991: Estonia regains its independence from the Soviet Union. August 21 1959: Hawaii becomes the 50th State of the US. August 24 79: Vesuvius erupts, destroying Pompeii and neighbouring Herculaneum. August 24 1991: Ukraine regains independence from the Soviet Union. August 25 1825: Uruguay declares independence from Brazil. August 27 1883: Krakatoa, in the Sunda Strait between Sumatra and Java, explodes, after a very violent eruption. August 27 1991: Moldova becomes independent from the Soviet Union. August 28 1963: The March on Washington for Jobs and Freedom takes place, where Martin Luther King, Jr. makes his \"I Have a Dream\" speech for Civil Rights in the United States. August 29 2005: Hurricane Katrina wreaks devastation in Alabama, Mississippi and Louisiana. New Orleans is flooded. August 31 1957: Malaysia, then the Federation of Malaya, becomes independent. August 31 1962: Trinidad and Tobago becomes independent. August 31 1991: Kyrgyzstan becomes independent. August 31 1997: Diana, Princess of Wales is killed in a car crash in Paris, leading to a big outpouring of grief. Trivia Along with July, August is one of two calendar months to be named after people who really lived (July was named for Julius Caesar and August was named for Augustus). Only one US President has died in August, Warren G. Harding, on August 2, 1923. August's flower is the Gladiolus with the birthstone being peridot. The astrological signs for August are Leo (July 22 - August 21) and Virgo (August 22 - September 21). August is the second of two months beginning with 'A', the other being April, with both April 21 and August 21 falling either side of the Northern summer solstice. References \n",
      " April is the fourth month of the year in the Julian and Gregorian calendars, and comes between March and May. It is one of four months to have 30 days. April always begins on the same day of week as July, and additionally, January in leap years. April always ends on the same day of the week as December. April's flowers are the Sweet Pea and Daisy. Its birthstone is the diamond. The meaning of the diamond is innocence. The Month April comes between March and May, making it the fourth month of the year. It also comes first in the year out of the four months that have 30 days, as June, September and November are later in the year. April begins on the same day of the week as July every year and on the same day of the week as January in leap years. April ends on the same day of the week as December every year, as each other's last days are exactly 35 weeks (245 days) apart. In common years, April starts on the same day of the week as October of the previous year, and in leap years, May of the previous year. In common years, April finishes on the same day of the week as July of the previous year, and in leap years, February and October of the previous year. In common years immediately after other common years, April starts on the same day of the week as January of the previous year, and in leap years and years immediately after that, April finishes on the same day of the week as January of the previous year. In years immediately before common years, April starts on the same day of the week as September and December of the following year, and in years immediately before leap years, June of the following year. In years immediately before common years, April finishes on the same day of the week as September of the following year, and in years immediately before leap years, March and June of the following year. April is a spring month in the Northern Hemisphere and an autumn/fall month in the Southern Hemisphere. In each hemisphere, it is the seasonal equivalent of October in the other. It is unclear as to where April got its name. A common theory is that it comes from the Latin word \"aperire\", meaning \"to open\", referring to flowers opening in spring. Another theory is that the name could come from Aphrodite, the Greek goddess of love. It was originally the second month in the old Roman Calendar, before the start of the new year was put to January 1. Quite a few festivals are held in this month. In many Southeast Asian cultures, new year is celebrated in this month (including Songkran). In Western Christianity, Easter can be celebrated on a Sunday between March 22 and April 25. In Orthodox Christianity, it can fall between April 4 and May 8. At the end of the month, Central and Northern European cultures celebrate Walpurgis Night on April 30, marking the transition from winter into summer. April in poetry Poets use April to mean the end of winter. For example: April showers bring May flowers. Events in April Fixed Events April 1 - April Fools' Day April 1 - Islamic Republic Day (Iran) April 2 - International Children's Book Day April 2 - Thai Heritage and Conservation Day April 2 - World Autism Awareness Day April 2 - Malvinas Day (Argentina) April 4 - Independence Day (Senegal) April 4 - International Day for Landmine Awareness and Assistance April 4 - Peace Day (Angola) April 5 - End of Tax Year (United Kingdom) April 6 - Tartan Day (Canada and United States) April 6 - Chakri Day (Thailand) April 7 - Day of Maternity and Beauty (Armenia) April 7 - Genocide Memorial Day (Rwanda) April 7 - World Health Day April 7 - Women's Day (Mozambique) April 8 - Buddha's Birthday (Buddhism) April 9 - Martyrs' Day (Tunisia) April 9 - Day of National Unity (Georgia) April 9 - Day of the Finnish language April 12 - Cosmonauts' Day (Russia), marking the day of Yuri Gagarin's space flight April 13 - Songkan (Laos), local New Year celebration April 13 - Cambodian New Year April 13 - Thomas Jefferson's Birthday (United States) April 14 - Southeast Asian New Year festivals, including Songkran April 14 - Georgian language Day April 14 - Youth Day (Angola) April 14 - Ambedkar Tayanti (India) April 14 - Pan-American Day April 15 - Tax Day (United States) April 15 - Kim Il-Sung's Birthday (North Korea) April 15 - Father Damien Day (Hawaii) April 15 - Jackie Robinson Day (Major League Baseball) April 16 - Birthday of Queen Margrethe II of Denmark April 16 - Emancipation Day (Washington, DC) April 16 - World Voice Day April 16 - Selena Day (Texas) April 17 - National Day of Syria April 17 - Flag Day (American Samoa) April 17 - Women's Day (Gabon) April 17 - World Hemophilia Day April 18 - Independence Day (Zimbabwe) April 18 - Invention Day (Japan) April 18 - International Day of Monuments and Sites April 19 - Bicycle Day April 19 - Dutch-American Friendship Day April 19 - Birthday of King Mswati III of Swaziland April 19 - Patriots' Day (Massachusetts, Maine, Wisconsin) April 20 - 4/20 in Cannabis Culture April 21 - John Muir Day (California) April 21 - San Jacinto Day (Texas) April 21 - Kartini Day (Indonesia) April 21 - National Tree Planting Day (Kenya) April 21 - First Day of Ridran (Baha'i faith) April 21 - Grounation Day (Rastafari movement) April 22 - Earth Day April 22 - Discovery Day (Brazil) April 23 - Saint George's Day, celebrating the patron saint of several countries, regions and cities (including England and Catalonia) April 23 - World Book Day April 23 - National Sovereignty and Children's Day (Turkey) April 24 - Democracy Day (Nepal) April 24 - Genocide Day (Armenia) April 24 - Republic Day (the Gambia) April 25 - Australia and New Zealand celebrate ANZAC Day. ANZAC means Australian and New Zealand Army Corps, and began in 1915. April 25 - World DNA Day April 25 - World Malaria Day April 25 - Flag Day (Swaziland, Faroe Islands) April 25 - Freedom Day (Portugal) April 25 - Liberation Day (Italy) April 25 - Army Day (North Korea) April 26 - Union Day (Tanzania) April 26 - Confederate Memorial Day (Texas, Florida) April 27 - Independence Day (Sierra Leone and Togo) April 27 - Freedom Day (South Africa) April 27 - World Tapir Day April 27 - King's Day (Netherlands) from 2014, birthday of Willem-Alexander of the Netherlands April 28 - Workers Memorial Day April 28 - National Day (Sardinia) April 28 - National Heroes Day (Barbados) April 29 - Showa Day (Japan), birthday of Emperor Hirohito, who died in 1989 April 29 - International Dance Day April 30 - Former Queen's Day Holiday in the Netherlands (changed to King's Day, April 27 in 2014), was the birthday of former Queen Juliana of the Netherlands April 30 - Flag Day in Sweden (birthday of King Carl XVI Gustaf of Sweden) April 30 - International Jazz Day April 30 - Walpurgis Night (Central and Northern Europe) Moveable Events Easter-related events in Western Christianity: Palm Sunday (between March 15 and April 18) Maundy Thursday (between March 19 and April 22) Good Friday (between March 20 and April 23) Easter Sunday (between March 22 and April 25) Easter Monday (between March 23 and April 26) Eastern Orthodox Easter falls between April 4 and May 8. Ascension Day (Western Christianity), falls between April 30 and June 3. Jewish Passover - falls in the same week as Western Christianity's Holy Week, which is the week leading up to Easter. Mother's Day (UK) falls between March 1 and April 4. World Snooker Championship (late April, early May) Horse racing - Grand National (UK), Kentucky Derby (United States) Start of Daylight Saving Time - Clocks going forward one hour: Most of Mexico Morocco (Ramadan does not include Daylight Saving Time) End of Daylight Saving Time - Clocks going back one hour: Southeast Australia, and New Zealand Chile Marathon Events in the following cities: Belgrade, Serbia Boston, Massachusetts, United States Brighton, United Kingdom Enschede, Netherlands London, United Kingdom Madrid, Spain Paris, France Rotterdam, Netherlands Utrecht, Netherlands Zurich, Switzerland Selection of Historical Events April 1, 1918 - The Royal Air Force is founded. April 1, 1976 - Apple Inc. is founded. April 1, 1979 - The Islamic Republic of Iran is founded. April 1, 1999 - The territory of Nunavut is created in Northern Canada. April 1, 2001 - The Netherlands introduces same-sex marriage, as the first country to do so. April 2, 1519 - Florida is sighted by a European for the first time. April 2, 1930 - Haile Selassie becomes Emperor of Ethiopia. April 2, 1982 - Start of the Falklands War, as Argentine forces land on the Falkland Islands. April 2, 2005 - Pope John Paul II dies aged 84, after 26-and-a-half years as Pope. April 3, 1973 - The first-ever mobile phone call is placed by Martin Cooper in New York City. April 4, 1721 - Robert Walpole becomes the first Prime Minister of Great Britain. April 4, 1841 - William Henry Harrison dies. He was President of the United States for 31 days, the shortest-ever time in office for a US President. April 4, 1960 - Senegal becomes independent. April 4, 1968 - Assassination of Martin Luther King, Jr. in Memphis, Tennessee. April 5, 1722 - Jacob Roggeveen becomes the first European to land on Easter Island, landing there on Easter Sunday. April 6, 1320 - Scotland's independence is confirmed with the Declaration of Arbroath. April 6, 1830 - The Mormon Church is founded. April 6, 1909 - Robert Peary claims to have been first at the North Pole on this date. April 7, 1994 - The Rwandan Genocide begins. April 9, 1865 - American Civil War: Confederate forces under Robert E. Lee surrender to Union forces. April 9, 1940 - World War II: Denmark and Norway are invaded by Nazi Germany. April 9, 1989 - April 9 tragedy: In Tbilisi, Georgia, a peaceful demonstration for independence is broken up by the Soviet Army, killing 20 people. The country gains independence on this date exactly two years later. April 10, 1815 - Mount Tambora in Indonesia erupts in a huge eruption, affecting the world's climate for at least a year. April 10, 2010 - A plane crash near Smolensk, Russia, kills several people who were important in Poland, including President Lech Kaczynski. April 11, 1814 - Napoleon Bonaparte is exiled to the island of Elba. April 11, 1954 - Said to have been the most boring day of the 20th century. April 12, 1861 - The American Civil War begins at Fort Sumter, Charleston, South Carolina. April 12, 1945 - US President Franklin D. Roosevelt dies, and Harry S. Truman replaces him. April 12, 1961 - Yuri Gagarin becomes the first human to fly into space. April 14, 1865 - US President Abraham Lincoln is shot dead at Ford's Theatre by John Wilkes Booth. Lincoln dies the next day. April 14, 2010 - Qinghai Province, China, is hit by an earthquake, killing tens of thousands of people. April 14, 2010 - The eruption of Eyjafjallajokull in Iceland shuts down air traffic around Europe for a week, due to its ash cloud. April 15, 1912 - The ship RMS Titanic sinks near Newfoundland after hitting an iceberg, resulting in the deaths of many of the people on board. April 16, 1943 - Albert Hofmann discovers LSD's effects. April 17, 1946 - Syria gains full independence from France. April 18, 1906 - 1906 San Francisco earthquake: San Francisco, California, is hit by a big earthquake, resulting in fires that destroy large parts of the city. April 18, 1980 - Zimbabwe gains full independence. April 19, 1897 - The first Boston Marathon is held. April 19, 1971 - Sierra Leone becomes a republic. April 19, 1993 - The siege of the Branch Davidians at Waco, Texas, ends in a fire that kills 82 people. April 19, 1995 - Timothy McVeigh carries out the Oklahoma City bombing, killing 169 people. April 19, 2005 - Joseph Alois Ratzinger becomes Pope Benedict XVI. April 20, 1902 - Marie Curie and Pierre Curie refine Radium. April 20, 2010 - Deepwater Horizon oil spill: A massive fire on the Deepwater Horizon drilling rig in the Gulf of Mexico kills 11 workers and causes a massive oil spill, the worst spill in US history. April 21, 753 BC - Legendary founding date of Rome April 21, 1509 - Henry VIII of England becomes King. April 21, 1908 - Frederick Cook claims to have reached the North Pole on this date. April 22, 1502 - Pedro Alvares Cabral becomes the first European to reach present-day Brazil. April 22, 1970 - Earth Day is observed for the first time. April 23, 1533 - The Church of England declares that Henry VIII of England and Catherine of Aragon are not married. April 24, 1916 - The Easter Rising occurs in Dublin, Ireland. April 24, 1990 - The Hubble Space Telescope is launched on the Space Shuttle Discovery. April 25, 1915 - World War I: In Turkey, the Battle of Gallipoli begins, Australian, French, British and New Zealand forces land at Anzac cove. April 25, 1974 - Portugal's dictatorship is overthrown in a coup, in what is known as the Carnation Revolution. April 26, 1937 - Spanish Civil War: German planes bomb the town of Guernica, Basque Country, later depicted in a painting by Pablo Picasso. April 26, 1964 - Tanganyika and Zanzibar merge to form Tanzania. April 26, 1986 - A reactor explosion occurs at the Chernobyl nuclear plant in present-day Ukraine, with radiation spreading around Europe and the world. April 26/27, 1994 - South Africa holds its first free elections. April 27, 1960 - Togo becomes independent from France. April 27, 1961 - Sierra Leone becomes independent from the United Kingdom. April 28, 1789 - Mutiny on the ship Bounty in the Pacific Ocean, lead by Fletcher Christian. April 28, 1945 - Benito Mussolini is executed by Italian partisans. April 28, 1947 - In Peru, Thor Heyerdahl starts his Kon-Tiki expedition aimed at proving his theory that the Polynesian settlers on the Pacific Ocean's islands came from South America. April 29, 1991 - A cyclone in Bangladesh kills an estimated 138,000 people. April 29, 2011 - The wedding of Prince William, Duke of Cambridge and Catherine, Duchess of Cambridge is broadcast worldwide. April 30, 1789 - George Washington becomes the first President of the United States. April 30, 1803 - The United States purchases (buys) the Louisiana territory from France. April 30, 1945 - Adolf Hitler commits suicide on the same day that the Soviet Army raises the Red Flag on Berlin's Reichstag. April 30, 1952 - The Diary of Anne Frank is published in English. April 30, 1975 - The Vietnam War ends, as North Vietnamese forces take Saigon. April 30, 1980 - Queen Juliana of the Netherlands abdicates the throne, and her daughter becomes Queen Beatrix of the Netherlands. Beatrix later also abdicates, on this day in 2013, in favor of her son, King Willem-Alexander of the Netherlands. Trivia In Western Christianity, there is a bigger likelihood of Easter falling in April than in March. The months around April (March and May) both start with an 'M' in the English language, with an 'A' as the second letter. In the English language, April is the first of three months in-a-row, along with May and June, that is also a female given name. The astrological signs for April are Aries (March 21 to April 20) and Taurus (April 21 to May 20). The sweet pea and daisy are the traditional birth flowers for April. Birthstone for April is the Diamond. April 1 is the only day in April to start within the first quarter of the calendar year. If the months of the year were arranged in alphabetical order in the English language, April would come first. Six current European monarchs were born in April. They are King Philippe of Belgium (April 15), Queen Margrethe II of Denmark (April 16), Henri, Grand Duke of Luxembourg (April 16), Elizabeth II of the United Kingdom and Commonwealth realms (April 21), King Willem-Alexander of the Netherlands (April 27), and King Carl XVI Gustaf of Sweden (April 30). References \n",
      " An abbreviation is a shorter way to write a word or phrase. People use abbreviations for words that they write a lot. The English language occasionally uses the apostrophe mark ' to show that a word is written in a shorter way, but some abbreviations do not use this mark. More often, they use periods, especially the ones that come from the Latin language. Common Latin abbreviations include i.e. [id est] that is, e.g. [exempli gratia] for example, and et al. [et alia] and others. Some new abbreviations have been created by scientists, by workers in companies and governments, and by people using the Internet. People often think words are abbreviations when in fact they are acronyms. Here are examples of common acronyms: The word \"radar\" is an acronym for \"Radio Detection and Ranging\". The name of the large computer company IBM comes from the words \"International Business Machines\". The name of the part of the United States government that sends rockets into outer space is NASA, from the words \"National Aeronautics and Space Administration\". When people using the Internet think that something is very funny, they sometimes write \"LOL\" to mean \"Laughing Out Loud\". People sometimes write \"ASAP\" for \"As Soon As Possible\". Other websites Acronym Finder - largest acronym site with many ways to search for acronyms and abbreviations in many languages. Over 10-year history. All Acronyms - a website with a large number of abbreviations and acronyms Acronyms Abbreviations and Slang - over 3 million different acronyms and abbreviations in searchable database SlangLang Abbreviations - Slang Words: 2,700 abbreviations and their meanings Linguistics\n",
      "Thought:\n"
     ]
    }
   ],
   "source": [
    "print(prompt)"
   ]
  },
  {
   "attachments": {},
   "cell_type": "markdown",
   "metadata": {},
   "source": [
    "### Step 3: GPT-3: What do I need to do to answer this question?"
   ]
  },
  {
   "cell_type": "code",
   "execution_count": 6,
   "metadata": {},
   "outputs": [
    {
     "name": "stdout",
     "output_type": "stream",
     "text": [
      "To compare April and August, I will create a table highlighting their differences:\n",
      "\n",
      "| Feature                | April                              | August                             |\n",
      "|------------------------|------------------------------------|------------------------------------|\n",
      "| Order in the Year      | 4th month                         | 8th month                         |\n",
      "| Number of Days         | 30 days                           | 31 days                           |\n",
      "| Named After            | Unclear (possibly from \"aperire\" or Aphrodite) | Augustus Caesar                   |\n",
      "| Zodiac Signs           | Aries (March 21-April 20), Taurus (April 21-May 20) | Leo (July 22-August 21), Virgo (August 22-September 21) |\n",
      "| Birthstones            | Diamond                           | Peridot                            |\n",
      "| Birth Flowers          | Sweet Pea, Daisy                  | Gladiolus                          |\n",
      "| Seasonal Position      | Spring in Northern Hemisphere, Autumn in Southern Hemisphere | Summer in Northern Hemisphere, Winter in Southern Hemisphere |\n",
      "| Days of the Week Start | Same as January (leap year) and October (common year) | No common start with other months (common years); same as February in leap years |\n",
      "| Historical Events      | Founding of RAF (April 1, 1918), Easter Rising (April 24, 1916), Titanic sinking (April 15, 1912) | Hiroshima Bombing (August 6, 1945), Vesuvius Eruption (August 24, 79), Berlin Wall construction begins (August 13, 1961) |\n",
      "| Fixed Observances      | Easter-related events, Earth Day (April 22), ANZAC Day (April 25) | Independence Days globally, Perseid Meteor Shower (August 12) |\n",
      "| Festivals              | Easter, Daylight Saving Time changes, Walpurgis Night | Edinburgh Festival, Summer Olympics (occasionally), Bank Holiday (UK) |\n",
      "\n",
      "If you have specific aspects you'd like to focus on, let me know!\n"
     ]
    }
   ],
   "source": [
    "response = client.chat.completions.create(\n",
    "    model=deployment_name,\n",
    "    messages = [\n",
    "        {\"role\":\"system\", \"content\":\"You are a helpful assistant. If you have data that can be expressed in a table, use Markdown to print it as a table. You can only use English language.\"},\n",
    "        {\"role\":\"user\",\"content\": prompt}\n",
    "    ],\n",
    "    max_tokens=600\n",
    ")\n",
    "\n",
    "print(response.choices[0].message.content)"
   ]
  }
 ],
 "metadata": {
  "kernelspec": {
   "display_name": "Python 3",
   "language": "python",
   "name": "python3"
  },
  "language_info": {
   "codemirror_mode": {
    "name": "ipython",
    "version": 3
   },
   "file_extension": ".py",
   "mimetype": "text/x-python",
   "name": "python",
   "nbconvert_exporter": "python",
   "pygments_lexer": "ipython3",
   "version": "3.11.4"
  },
  "orig_nbformat": 4
 },
 "nbformat": 4,
 "nbformat_minor": 2
}
