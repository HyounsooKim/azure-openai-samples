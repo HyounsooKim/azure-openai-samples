{
  "cells": [
    {
      "attachments": {},
      "cell_type": "markdown",
      "metadata": {
        "nteract": {
          "transient": {
            "deleting": false
          }
        }
      },
      "source": [
        "# Azure OpenAI Quickstart"
      ]
    },
    {
      "attachments": {},
      "cell_type": "markdown",
      "metadata": {
        "nteract": {
          "transient": {
            "deleting": false
          }
        }
      },
      "source": [
        "## Overview  \n",
        "> \"Large Language Models (LLMs) are models designed to generate text token by token based on the context provided. Given an input sequence, an LLM predicts the next piece of text.\"  \n",
        "\n",
        "This `Azure OpenAI Quickstarts` notebook introduces the concept of LLMs, essential package requirements for utilizing LLMs, a brief guide on prompt design, and a few simple examples across various use cases. For more quickstart examples, refer to the [official Azure OpenAI quickstart guide](https://learn.microsoft.com/en-us/azure/ai-services/openai/quickstart?pivots=programming-language-studio).  \n",
        "\n",
        "The content is configured in a container-based environment to allow for immediate hands-on practice. The environment is pre-configured based on [DevContainer](https://code.visualstudio.com/docs/devcontainers/containers). By leveraging GitHub Codespaces or downloading the repository locally while having Docker installed, Visual Studio Code IDE will automatically set up the development environment (Python Runtime 3.11.4, Azure OpenAI 1.13.3). After adding the required API credentials in the `.env` file, you can begin using the environment."
      ]
    },
    {
      "attachments": {},
      "cell_type": "markdown",
      "metadata": {
        "nteract": {
          "transient": {
            "deleting": false
          }
        }
      },
      "source": [
        "### Getting started with Azure OpenAI Service\n",
        "\n",
        "New customers need to [request access](https://aka.ms/oai/access) to the Azure OpenAI service.\n",
        "After approval, they can log in to the Azure Portal, create Azure OpenAI resources, and start experimenting with models via the studio.\n",
        "\n",
        "Here is a [great starting resource](https://techcommunity.microsoft.com/t5/educator-developer-blog/azure-openai-is-now-generally-available/ba-p/3719177) to explore more."
      ]
    },
    {
      "attachments": {},
      "cell_type": "markdown",
      "metadata": {
        "nteract": {
          "transient": {
            "deleting": false
          }
        }
      },
      "source": [
        "## Build your first prompt  \n",
        "This short exercise provides an introduction to submitting a prompt to an OpenAI model for the simple task of \"summarization.\"\n",
        "\n",
        "![](images/generative-AI-models-reduced.jpg)  \n",
        "\n",
        "**Steps**:  \n",
        "1. Install the `openai` library into your Python environment\n",
        "2. Load standard helper libraries and set OpenAI secure credentials\n",
        "3. Choose the appropriate model for the task\n",
        "4. Create a simple prompt for the model\n",
        "5. Submit the request to the model's API!"
      ]
    },
    {
      "cell_type": "markdown",
      "metadata": {},
      "source": [
        "## 1. Install the `openai` library into your Python environment\n",
        "When the DevContainer starts, libraries specified in the `requirements.txt` file are installed automatically.\n",
        "Thus, no additional installation steps are needed for immediate practice.\n",
        "Python version: **Python 3.11.4**, **Azure OpenAI 1.13.3**."
      ]
    },
    {
      "attachments": {},
      "cell_type": "markdown",
      "metadata": {
        "nteract": {
          "transient": {
            "deleting": false
          }
        }
      },
      "source": [
        "## 2. Load standard helper libraries and set OpenAI secure credentials\n",
        "Copy the `.env.sample` file in the root directory and rename it to `.env`. Input your Azure OpenAI Endpoint URL (`AZURE_OPENAI_ENDPOINT`) and API Key (`AZURE_OPENAI_API_KEY`) into the file.  \n",
        "If the code below doesn't execute correctly, ensure the file is saved and closed before reopening to proceed. (Alternatively, restart the kernel using the `Restart` button at the top.)"
      ]
    },
    {
      "cell_type": "code",
      "execution_count": 1,
      "metadata": {
        "gather": {
          "logged": 1674829434433
        },
        "jupyter": {
          "outputs_hidden": false,
          "source_hidden": false
        },
        "nteract": {
          "transient": {
            "deleting": false
          }
        }
      },
      "outputs": [],
      "source": [
        "import os\n",
        "import json\n",
        "from openai import AzureOpenAI\n",
        "from dotenv import load_dotenv\n",
        "load_dotenv()\n",
        "\n",
        "client = AzureOpenAI(\n",
        "    azure_endpoint = os.getenv(\"AZURE_OPENAI_ENDPOINT\"),\n",
        "    api_key        = os.getenv(\"AZURE_OPENAI_API_KEY\"),\n",
        "    api_version    = os.getenv(\"OPENAI_API_VERSION\")\n",
        ")"
      ]
    },
    {
      "attachments": {},
      "cell_type": "markdown",
      "metadata": {
        "nteract": {
          "transient": {
            "deleting": false
          }
        }
      },
      "source": [
        "## 3. Select an Appropriate OpenAI Model\n",
        "As of December 2024, this exercise utilizes the following models. For consistency, we recommend deploying the models under the same names as listed below:  \n",
        "- LLM Model: `gpt-4o-mini`  \n",
        "- Embedding Model: `text-embedding-3-large`  \n",
        "\n",
        "The `gpt-4o` and `gpt-4o-mini` models are optimized with Korean tokenizer enhancements, providing faster, more accurate performance at lower costs compared to the standard `gpt-4`.  \n",
        "For more details on the models, refer to: [Azure OpenAI Service models](https://learn.microsoft.com/en-us/azure/ai-services/openai/concepts/models)  "
      ]
    },
    {
      "cell_type": "code",
      "execution_count": 2,
      "metadata": {},
      "outputs": [],
      "source": [
        "deployment_name = os.getenv(\"DEPLOYMENT_NAME\")\n",
        "deployment_embedding_name = os.getenv(\"DEPLOYMENT_EMBEDDING_NAME\")"
      ]
    },
    {
      "attachments": {},
      "cell_type": "markdown",
      "metadata": {
        "nteract": {
          "transient": {
            "deleting": false
          }
        }
      },
      "source": [
        "## 4. Prompt Design  \n",
        "\n",
        "The power of large language models (LLMs) lies in their training on massive amounts of text data to minimize prediction errors for the next piece of text (token).\n",
        "For example, they learn concepts like:\n",
        "\n",
        "* How to write\n",
        "* How grammar works\n",
        "* How to paraphrase\n",
        "* How to answer questions\n",
        "* How to lead conversations\n",
        "* How to write in multiple languages\n",
        "* How to code\n",
        "* And more\n",
        "\n",
        "### Controlling Large Language Models (LLMs)  \n",
        "Among all inputs to an LLM, the most impactful is the **text prompt**.\n",
        "\n",
        "There are several ways to guide a language model to generate desired outputs: \n",
        "\n",
        "* **Instruction**: Provide a clear explanation of what you want the model to do.  \n",
        "\n",
        "* **Completion**: Guide the model to complete the beginning of the desired output.  \n",
        "\n",
        "* **Demonstration**: Show the model what you want using one of these methods:  \n",
        "Include a few examples inside the prompt or use a dataset of hundreds or thousands of examples through fine-tuning.  \n",
        "\n",
        "\n",
        "### Three Basic Guidelines for Crafting Prompts\n",
        "\n",
        "* **Show and tell**: Provide clear and concise instructions and clarify expectations using examples or a combination of both.  \n",
        "\n",
        "* **Provide quality data**: Present high-quality examples to encourage the desired outcome. The most effective way to minimize hallucinations is to begin with accurate data (leveraging the RAG pattern).  \n",
        "\n",
        "* **Check your settings**: Temperature and Top-P settings influence how the model generates responses. For tasks with a single correct answer, consider lowering the temperature (0). For more diverse, creative responses, increase the temperature (1)."
      ]
    },
    {
      "cell_type": "code",
      "execution_count": 15,
      "metadata": {
        "gather": {
          "logged": 1674494935186
        },
        "jupyter": {
          "outputs_hidden": false,
          "source_hidden": false
        },
        "nteract": {
          "transient": {
            "deleting": false
          }
        }
      },
      "outputs": [],
      "source": [
        "# Create your first prompt\n",
        "system_message = \"\"\"You are an agent capable of distinguishing between positive and negative sentiments. Please return the results in a compact JSON format. Response example: {\"1\": \"Positive\", \"2\": \"Negative\"}\"\"\"\n",
        "user_message = \"\"\"1. The monitor is too hot. 2. The monitor's market reaction is too hot.\"\"\""
      ]
    },
    {
      "attachments": {},
      "cell_type": "markdown",
      "metadata": {
        "nteract": {
          "transient": {
            "deleting": false
          }
        }
      },
      "source": [
        "## 5. Submit!"
      ]
    },
    {
      "cell_type": "code",
      "execution_count": 16,
      "metadata": {
        "gather": {
          "logged": 1674494938225
        },
        "jupyter": {
          "outputs_hidden": false,
          "source_hidden": false
        },
        "nteract": {
          "transient": {
            "deleting": false
          }
        }
      },
      "outputs": [
        {
          "data": {
            "text/plain": [
              "'{\"1\": \"Negative\", \"2\": \"Positive\"}'"
            ]
          },
          "execution_count": 16,
          "metadata": {},
          "output_type": "execute_result"
        }
      ],
      "source": [
        "# Simple API Call\n",
        "response = client.chat.completions.create(\n",
        "    model=deployment_name,\n",
        "    max_tokens=60,\n",
        "    messages=[\n",
        "        {\"role\": \"system\", \"content\": system_message},\n",
        "        {\"role\": \"user\", \"content\": user_message},\n",
        "    ]\n",
        ")\n",
        "\n",
        "response.choices[0].message.content"
      ]
    },
    {
      "cell_type": "markdown",
      "metadata": {},
      "source": [
        "### Analyze the Output Data\n",
        "In addition to the result of the API, let us also explore what other information is included in the response."
      ]
    },
    {
      "cell_type": "code",
      "execution_count": 17,
      "metadata": {},
      "outputs": [
        {
          "name": "stdout",
          "output_type": "stream",
          "text": [
            "{\n",
            "  \"id\": \"chatcmpl-AlEPOsLvdYgnGTzrEd0EpJMQUPOq1\",\n",
            "  \"choices\": [\n",
            "    {\n",
            "      \"finish_reason\": \"stop\",\n",
            "      \"index\": 0,\n",
            "      \"logprobs\": null,\n",
            "      \"message\": {\n",
            "        \"content\": \"{\\\"1\\\": \\\"Negative\\\", \\\"2\\\": \\\"Positive\\\"}\",\n",
            "        \"role\": \"assistant\",\n",
            "        \"function_call\": null,\n",
            "        \"tool_calls\": null,\n",
            "        \"refusal\": null\n",
            "      }\n",
            "    }\n",
            "  ],\n",
            "  \"created\": 1735820166,\n",
            "  \"model\": \"gpt-4o-2024-11-20\",\n",
            "  \"object\": \"chat.completion\",\n",
            "  \"system_fingerprint\": \"fp_82ce25c0d4\",\n",
            "  \"usage\": {\n",
            "    \"completion_tokens\": 12,\n",
            "    \"prompt_tokens\": 69,\n",
            "    \"total_tokens\": 81,\n",
            "    \"prompt_tokens_details\": {\n",
            "      \"cached_tokens\": 0,\n",
            "      \"audio_tokens\": 0\n",
            "    },\n",
            "    \"completion_tokens_details\": {\n",
            "      \"reasoning_tokens\": 0,\n",
            "      \"audio_tokens\": 0,\n",
            "      \"accepted_prediction_tokens\": 0,\n",
            "      \"rejected_prediction_tokens\": 0\n",
            "    }\n",
            "  }\n",
            "}\n"
          ]
        }
      ],
      "source": [
        "print(json.dumps(response.model_dump(), indent=2))"
      ]
    },
    {
      "cell_type": "markdown",
      "metadata": {},
      "source": [
        "### Check Azure OpenAI Usage Costs\n",
        "Here, we calculate the [cost](https://azure.microsoft.com/en-us/pricing/details/cognitive-services/openai-service/#pricing) of using the `gpt-4o` series.  \n",
        "We compare the following versions: gpt-4o (0806) and gpt-4o-mini (0718).  \n",
        "Costs may vary depending on the deployed model version.  \n",
        "(Azure OpenAI is continuously working to reduce costs.)\n",
        "\n",
        "| Model | Version | Prompt (1k) | Completion (1k) |\n",
        "|-----|-----|-----|-----|\n",
        "| ***gpt-4o*** | 1120 | $0.00250 | $0.0100 |\n",
        "| gpt-4o | 0806 | $0.00250 | $0.0100 |\n",
        "| gpt-4o | 0513 | $0.00500 | $0.0150 |\n",
        "| ***gpt-4o-mini*** | 0718 | $0.00015 | $0.0006 |\n",
        "\n",
        "Comparatively:\n",
        "- gpt-35-turbo is approximately 1/10 the cost of gpt-4o (0513).\n",
        "- gpt-4o-mini is approximately 1/30 the cost of gpt-4o (0513).\n",
        "Below is an example calculation of costs using gpt-4o."
      ]
    },
    {
      "cell_type": "code",
      "execution_count": 27,
      "metadata": {},
      "outputs": [],
      "source": [
        "# Function to calculate OpenAI API usage costs\n",
        "def openai_cost(model_name):\n",
        "\n",
        "    response = client.chat.completions.create(\n",
        "        model=deployment_name,\n",
        "        max_tokens=60,\n",
        "        messages=[\n",
        "            {\"role\": \"system\", \"content\": system_message},\n",
        "            {\"role\": \"user\", \"content\": user_message},\n",
        "        ]\n",
        "    )\n",
        "\n",
        "    print(response.choices[0].message.content)\n",
        "\n",
        "    if model_name == \"gpt-4o\":\n",
        "        model_prompt_cost = 0.0025\n",
        "        model_complet_cost = 0.01\n",
        "    elif model_name == \"gpt-4o-mini\":\n",
        "        model_prompt_cost = 0.00015\n",
        "        model_complet_cost = 0.0006\n",
        "    else:\n",
        "        print(\"No selected model.\")\n",
        "\n",
        "    print(\"Prompt tokens:\", response.usage.prompt_tokens)\n",
        "    print(\"Completion tokens:\", response.usage.completion_tokens)\n",
        "    print(\"Total tokens:\", response.usage.total_tokens)\n",
        "\n",
        "    prompt_cost  = round(response.usage.prompt_tokens * model_prompt_cost / 1000, 9)\n",
        "    complet_cost = round(response.usage.completion_tokens * model_complet_cost / 1000, 9)\n",
        "\n",
        "    print(deployment_name, \"Cost of usage: $\", format(prompt_cost, '.10f').rstrip('0'),\n",
        "          \" + $\", format(complet_cost, '.10f').rstrip('0'), \" = $\", format(prompt_cost + complet_cost, '.10f').rstrip('0'))\n",
        "\n",
        "    return prompt_cost + complet_cost;"
      ]
    },
    {
      "cell_type": "markdown",
      "metadata": {},
      "source": [
        "### Call the `gpt-4o-mini` Model\n",
        "If the `gpt-4o-mini` model is not deployed in the Azure OpenAI Studio, an error may occur.  \n",
        "In case of an error, ensure that the model is deployed with the name `gpt-4o-mini`."
      ]
    },
    {
      "cell_type": "code",
      "execution_count": 28,
      "metadata": {},
      "outputs": [
        {
          "name": "stdout",
          "output_type": "stream",
          "text": [
            "{\"1\": \"Negative\", \"2\": \"Positive\"}\n",
            "Prompt tokens: 69\n",
            "Completion tokens: 12\n",
            "Total tokens: 81\n",
            "gpt-4o-mini Cost of usage: $ 0.00001035  + $ 0.0000072  = $ 0.00001755\n"
          ]
        }
      ],
      "source": [
        "deployment_name = \"gpt-4o-mini\"\n",
        "gpt_4o_mini_pricing = openai_cost(deployment_name)"
      ]
    },
    {
      "attachments": {},
      "cell_type": "markdown",
      "metadata": {
        "nteract": {
          "transient": {
            "deleting": false
          }
        }
      },
      "source": [
        "### Call the `gpt-4o` Model\n",
        "If the `gpt-4o` model is not deployed in the Azure OpenAI Studio, an error may occur.  \n",
        "In case of an error, ensure that the model is deployed with the name `gpt-4o`.  \n",
        "(Costs may vary depending on the version; we use version 0806 for illustration here.)"
      ]
    },
    {
      "cell_type": "code",
      "execution_count": 29,
      "metadata": {},
      "outputs": [
        {
          "name": "stdout",
          "output_type": "stream",
          "text": [
            "{\"1\": \"Negative\", \"2\": \"Positive\"}\n",
            "Prompt tokens: 69\n",
            "Completion tokens: 12\n",
            "Total tokens: 81\n",
            "gpt-4o Cost of usage: $ 0.0001725  + $ 0.00012  = $ 0.0002925\n"
          ]
        }
      ],
      "source": [
        "deployment_name = \"gpt-4o\"\n",
        "gpt_4o_pricing = openai_cost(deployment_name)"
      ]
    },
    {
      "cell_type": "markdown",
      "metadata": {},
      "source": [
        "The `gpt-4o` and `gpt-4o-mini` models are more cost-efficient and perform faster due to optimized Korean tokenizers."
      ]
    },
    {
      "attachments": {},
      "cell_type": "markdown",
      "metadata": {
        "nteract": {
          "transient": {
            "deleting": false
          }
        }
      },
      "source": [
        "## Applications for Various Use Cases\n",
        "1. Summarization\n",
        "2. Classification\n",
        "3. Product Name Generation\n",
        "4. Embedding"
      ]
    },
    {
      "attachments": {},
      "cell_type": "markdown",
      "metadata": {
        "nteract": {
          "transient": {
            "deleting": false
          }
        }
      },
      "source": [
        "### 1. Summarization\n",
        "LLMs can be used across diverse use cases. One way to summarize is as follows:\n",
        "To check the token length of a text:\n",
        "1. Tokenizer: https://platform.openai.com/tokenizer "
      ]
    },
    {
      "cell_type": "code",
      "execution_count": 32,
      "metadata": {
        "gather": {
          "logged": 1674495198534
        },
        "jupyter": {
          "outputs_hidden": false,
          "source_hidden": false
        },
        "nteract": {
          "transient": {
            "deleting": false
          }
        }
      },
      "outputs": [],
      "source": [
        "original_text = \"Recent work has demonstrated substantial gains on many NLP tasks and benchmarks by pre-training on a large corpus of text followed by fine-tuning on a specific task. While typically task-agnostic in architecture, this method still requires task-specific fine-tuning datasets of thousands or tens of thousands of examples. By contrast, humans can generally perform a new language task from only a few examples or from simple instructions - something which current NLP systems still largely struggle to do. Here we show that scaling up language models greatly improves task-agnostic, few-shot performance, sometimes even reaching competitiveness with prior state-of-the-art fine-tuning approaches.\\n\\nTl;dr\"\n",
        "system_message = \"Summarize the text below as a bullet point list of the most important points\"\n",
        "user_message = \"Text: ```\" + original_text + \"```\""
      ]
    },
    {
      "cell_type": "code",
      "execution_count": 33,
      "metadata": {
        "gather": {
          "logged": 1674495201868
        },
        "jupyter": {
          "outputs_hidden": false,
          "source_hidden": false
        },
        "nteract": {
          "transient": {
            "deleting": false
          }
        }
      },
      "outputs": [
        {
          "name": "stdout",
          "output_type": "stream",
          "text": [
            "- Pre-training on a large text corpus followed by task-specific fine-tuning has shown significant improvements in NLP tasks.  \n",
            "- This approach typically requires large fine-tuning datasets (thousands or tens of thousands of examples).  \n",
            "- Humans can perform new language tasks with only a few examples or instructions, a capability current NLP systems lack.  \n",
            "- Scaling up language models significantly improves few-shot, task-agnostic performance.  \n",
            "- Larger models can sometimes rival state-of-the-art fine-tuning methods without requiring extensive datasets.  \n"
          ]
        }
      ],
      "source": [
        "# deployment_name = os.getenv(\"DEPLOYMENT_NAME\")\n",
        "\n",
        "#Setting a few additional, typical parameters during API Call\n",
        "response = client.chat.completions.create(\n",
        "  model=deployment_name,\n",
        "  messages=[\n",
        "    {\"role\": \"system\", \"content\": system_message},\n",
        "    {\"role\": \"user\", \"content\": user_message},\n",
        "  ],\n",
        "  temperature=0.7,\n",
        "  max_tokens=300\n",
        ")\n",
        "\n",
        "print(response.choices[0].message.content)"
      ]
    },
    {
      "cell_type": "markdown",
      "metadata": {},
      "source": [
        "#### When No Reference Text is Provided\n",
        "Let’s see how the model behaves when no reference text is available. In an RAG (Retrieval-Augmented Generation) pattern, this ensures the model generates outputs only based on provided data, not relying on its own knowledge."
      ]
    },
    {
      "cell_type": "code",
      "execution_count": 34,
      "metadata": {},
      "outputs": [
        {
          "name": "stdout",
          "output_type": "stream",
          "text": [
            "It seems there is no text provided. Could you please share the text you'd like summarized?\n"
          ]
        }
      ],
      "source": [
        "original_text = \"\"\n",
        "system_message = \"Summarize the text below as a bullet point list of the most important points\"\n",
        "user_message = \"Text: ```\" + original_text + \"```\"\n",
        "\n",
        "#Setting a few additional, typical parameters during API Call\n",
        "response = client.chat.completions.create(\n",
        "  model=deployment_name,\n",
        "  messages=[\n",
        "    {\"role\": \"system\", \"content\": system_message},\n",
        "    {\"role\": \"user\", \"content\": user_message},\n",
        "  ],\n",
        "  temperature=0.7,\n",
        "  max_tokens=300\n",
        ")\n",
        "\n",
        "print(response.choices[0].message.content)"
      ]
    },
    {
      "attachments": {},
      "cell_type": "markdown",
      "metadata": {
        "nteract": {
          "transient": {
            "deleting": false
          }
        }
      },
      "source": [
        "### 2. Classification\n",
        "\n",
        "Infer the proper classification for an item based on given categories. The following example includes the categories to classify into and the text to be classified in the prompt.\n",
        "\n",
        "Customer Inquiry: Hello, one of the keys on my laptop keyboard broke recently, and I need a replacement.\n",
        "\n",
        "Classification Categories:"
      ]
    },
    {
      "cell_type": "code",
      "execution_count": 35,
      "metadata": {
        "gather": {
          "logged": 1674499424645
        },
        "jupyter": {
          "outputs_hidden": false,
          "source_hidden": false
        },
        "nteract": {
          "transient": {
            "deleting": false
          }
        }
      },
      "outputs": [],
      "source": [
        "system_message = \"\"\"Classify the following inquiry into one of the following:\n",
        "categories: [Pricing, Hardware Support, Software Support]\n",
        "\"\"\"\n",
        "user_message = \"\"\"inquiry: Hello, one of the keys on my laptop keyboard broke recently and I'll need a replacement.\n",
        "Classified category:\n",
        "\"\"\""
      ]
    },
    {
      "cell_type": "code",
      "execution_count": 36,
      "metadata": {
        "gather": {
          "logged": 1674499378518
        },
        "jupyter": {
          "outputs_hidden": false,
          "source_hidden": false
        },
        "nteract": {
          "transient": {
            "deleting": false
          }
        }
      },
      "outputs": [
        {
          "name": "stdout",
          "output_type": "stream",
          "text": [
            "Hardware Support\n"
          ]
        }
      ],
      "source": [
        "response = client.chat.completions.create(\n",
        "  model=deployment_name,\n",
        "  messages=[\n",
        "    {\"role\": \"system\", \"content\": system_message},\n",
        "    {\"role\": \"user\", \"content\": user_message},\n",
        "  ],\n",
        "  temperature=0,\n",
        "  max_tokens=60\n",
        ")\n",
        "\n",
        "print(response.choices[0].message.content)"
      ]
    },
    {
      "attachments": {},
      "cell_type": "markdown",
      "metadata": {
        "nteract": {
          "transient": {
            "deleting": false
          }
        }
      },
      "source": [
        "### 3. Product Name Generation\n",
        "Generate product names based on seed words. The prompt contains information about the product and examples showcasing desired naming patterns. The temperature is set higher to encourage creativity.\n",
        "\n",
        "Product Description: A pair of shoes that can fit any foot size.  \n",
        "Seed words: adaptable, fit, omni-fit.  \n",
        "\n",
        "> Adjust the `temperature` value between 0 and 1 to observe varying results upon repeated execution."
      ]
    },
    {
      "cell_type": "code",
      "execution_count": 37,
      "metadata": {
        "gather": {
          "logged": 1674257087279
        },
        "jupyter": {
          "outputs_hidden": false,
          "source_hidden": false
        },
        "nteract": {
          "transient": {
            "deleting": false
          }
        }
      },
      "outputs": [],
      "source": [
        "system_message = \"\"\"Come up with five product names that fit the given product description and seed words.\"\"\"\n",
        "user_message = \"\"\"Product description: A pair of shoes that can fit any foot size.\n",
        "Seed words: adaptable, fit, omni-fit.\n",
        "Product names:\"\"\""
      ]
    },
    {
      "cell_type": "code",
      "execution_count": 39,
      "metadata": {
        "jupyter": {
          "outputs_hidden": false,
          "source_hidden": false
        },
        "nteract": {
          "transient": {
            "deleting": false
          }
        }
      },
      "outputs": [
        {
          "name": "stdout",
          "output_type": "stream",
          "text": [
            "1. **AdaptiFit**  \n",
            "2. **OmniStep**  \n",
            "3. **FlexiFit Shoes**  \n",
            "4. **UniSize Soles**  \n",
            "5. **EverFit Footwear**  \n"
          ]
        }
      ],
      "source": [
        "response = client.chat.completions.create(\n",
        "  model=deployment_name,\n",
        "  messages=[\n",
        "    {\"role\": \"system\", \"content\": system_message},\n",
        "    {\"role\": \"user\", \"content\": user_message},\n",
        "  ],\n",
        "  # temperature=0.8,\n",
        "  temperature=0,\n",
        "  max_tokens=60\n",
        ")\n",
        "\n",
        "print(response.choices[0].message.content)"
      ]
    },
    {
      "cell_type": "markdown",
      "metadata": {},
      "source": [
        "one more time: temperature value is 0."
      ]
    },
    {
      "cell_type": "code",
      "execution_count": 40,
      "metadata": {},
      "outputs": [
        {
          "name": "stdout",
          "output_type": "stream",
          "text": [
            "1. **AdaptiFit**  \n",
            "2. **OmniStep**  \n",
            "3. **FlexiFit Shoes**  \n",
            "4. **UniSize Soles**  \n",
            "5. **EverFit Footwear**  \n"
          ]
        }
      ],
      "source": [
        "response = client.chat.completions.create(\n",
        "    model=deployment_name,\n",
        "    messages=[\n",
        "        {\"role\": \"system\", \"content\": system_message},\n",
        "        {\"role\": \"user\", \"content\": user_message},\n",
        "    ],\n",
        "    # temperature=0.8,\n",
        "    temperature=0,\n",
        "    max_tokens=60\n",
        ")\n",
        "\n",
        "print(response.choices[0].message.content)"
      ]
    },
    {
      "cell_type": "markdown",
      "metadata": {},
      "source": [
        "temperature value is 0.8."
      ]
    },
    {
      "cell_type": "code",
      "execution_count": 42,
      "metadata": {},
      "outputs": [
        {
          "name": "stdout",
          "output_type": "stream",
          "text": [
            "1. FlexiFit  \n",
            "2. OmniStep  \n",
            "3. Adaptasole  \n",
            "4. UniSize  \n",
            "5. EverFit\n"
          ]
        }
      ],
      "source": [
        "response = client.chat.completions.create(\n",
        "    model=deployment_name,\n",
        "    messages=[\n",
        "        {\"role\": \"system\", \"content\": system_message},\n",
        "        {\"role\": \"user\", \"content\": user_message},\n",
        "    ],\n",
        "    temperature=0.8,\n",
        "    # temperature=0,\n",
        "    max_tokens=60\n",
        ")\n",
        "\n",
        "print(response.choices[0].message.content)"
      ]
    },
    {
      "cell_type": "markdown",
      "metadata": {},
      "source": [
        "one more time: temperature value is 0.8."
      ]
    },
    {
      "cell_type": "code",
      "execution_count": 43,
      "metadata": {},
      "outputs": [
        {
          "name": "stdout",
          "output_type": "stream",
          "text": [
            "1. **Adaptix**  \n",
            "2. **OmniStep**  \n",
            "3. **FitMorph**  \n",
            "4. **UniSole**  \n",
            "5. **FlexaFit**  \n"
          ]
        }
      ],
      "source": [
        "response = client.chat.completions.create(\n",
        "    model=deployment_name,\n",
        "    messages=[\n",
        "        {\"role\": \"system\", \"content\": system_message},\n",
        "        {\"role\": \"user\", \"content\": user_message},\n",
        "    ],\n",
        "    temperature=0.8,\n",
        "    # temperature=0,\n",
        "    max_tokens=60\n",
        ")\n",
        "\n",
        "print(response.choices[0].message.content)"
      ]
    },
    {
      "cell_type": "markdown",
      "metadata": {},
      "source": [
        "When the temperature in an LLM (Language Learning Model) is close to:  \n",
        ">- 0: The model becomes more deterministic and focused, generating predictable and less diverse responses. It tends to choose the most likely words based on training.\n",
        ">- 1: The model becomes more creative and random, generating diverse and less predictable responses. It explores a wider range of possibilities.\n",
        "\n",
        "In short:  \n",
        ">- Low temperature (0): Focused and reliable.\n",
        ">- High temperature (1): Creative and varied."
      ]
    },
    {
      "attachments": {},
      "cell_type": "markdown",
      "metadata": {
        "nteract": {
          "transient": {
            "deleting": false
          }
        }
      },
      "source": [
        "### 4. Embedding\n",
        "This section showcases how to retrieve embeddings using the API to find similarities between words, sentences, and documents.  \n",
        "For the `text-embedding-ada-002` API, the default dimension size is 1,536, whereas for `text-embedding-3-large`, it is double at 3,072 dimensions.  \n",
        "(Update 2024.12: The embedding API has transitioned from `text-embedding-ada-002` to `text-embedding-3-large`.)"
      ]
    },
    {
      "cell_type": "code",
      "execution_count": 44,
      "metadata": {},
      "outputs": [],
      "source": [
        "import numpy as np\n",
        "\n",
        "def cosine_similarity(a, b):\n",
        "    return np.dot(a, b) / (np.linalg.norm(a) * np.linalg.norm(b))"
      ]
    },
    {
      "cell_type": "code",
      "execution_count": 45,
      "metadata": {
        "gather": {
          "logged": 1674829424097
        },
        "jupyter": {
          "outputs_hidden": false,
          "source_hidden": false
        },
        "nteract": {
          "transient": {
            "deleting": false
          }
        }
      },
      "outputs": [],
      "source": [
        "text = 'the quick brown fox jumped over the lazy dog'"
      ]
    },
    {
      "cell_type": "code",
      "execution_count": 46,
      "metadata": {
        "gather": {
          "logged": 1674829446467
        },
        "jupyter": {
          "outputs_hidden": true,
          "source_hidden": false
        },
        "nteract": {
          "transient": {
            "deleting": false
          }
        }
      },
      "outputs": [
        {
          "name": "stdout",
          "output_type": "stream",
          "text": [
            "[-0.005379660055041313, -0.006699045188724995, 0.0018830852350220084, -0.001022727694362402, 0.007556849624961615, -0.028103310614824295, 0.008390145376324654, 0.06751330196857452, -0.013602329418063164, 0.02217220515012741, 0.00883130170404911, 0.032122738659381866, 0.0074302214197814465, -0.045096009969711304, -0.018626613542437553, 0.03297237306833267, -0.04244907200336456, 0.01620842143893242, 0.004954842384904623, 0.013520633801817894, 0.010979898273944855, -0.028609823435544968, -0.04097854718565941, 0.019803030416369438, -0.01885536126792431, 0.018790004774928093, -0.005191759672015905, 0.009983210824429989, 0.009550224058330059, 0.007675308268517256, 0.00872509740293026, 0.03217175602912903, -0.01211546827107668, 0.010530571453273296, 0.030162042006850243, 0.0007852996350266039, 0.024672092869877815, 0.0012560709146782756, -0.004452413879334927, 0.00523260748013854, 0.031861312687397, -0.013153002597391605, -0.026273326948285103, -0.018005724996328354, -0.012352385558187962, 0.016780290752649307, 0.04777562618255615, -0.008627062663435936, 0.0026224309112876654, 0.02725367620587349, 0.031158728525042534, 0.018806343898177147, 0.002189443912357092, -0.021747387945652008, -0.041043903678655624, 0.012001094408333302, 0.039802130311727524, -0.018495900556445122, -0.018169116228818893, -0.009174424223601818, -0.03937731310725212, 0.011224985122680664, 0.015285260044038296, 0.027841884642839432, 0.02663278765976429, -0.02522762306034565, 0.03849500045180321, -0.011625293642282486, 0.014133350923657417, 0.01577543467283249, -0.04519404470920563, 0.017891351133584976, 0.069473996758461, 0.012376894243061543, 0.008422823622822762, -0.01008941512554884, 0.0029226625338196754, -9.088643128052354e-05, -0.042710497975349426, 0.057383038103580475, 0.04238371551036835, -0.03241684287786484, 0.01358599029481411, 0.027433406561613083, 0.004909909795969725, 0.01052240189164877, -0.03548859804868698, -0.06006265804171562, -0.012540285475552082, 0.007716156076639891, -0.034312181174755096, -0.011592615395784378, 0.003584397491067648, -0.0099260238930583, 0.012376894243061543, -0.006012801546603441, -0.02204149216413498, -0.004730179440230131, 0.004176691174507141, -0.004252259619534016, -0.024002188816666603, 0.017384838312864304, -0.013161172159016132, -0.031452834606170654, -0.031077032908797264, 0.0031350713688880205, -0.029639190062880516, 0.033021390438079834, -0.013022289611399174, -0.0467299222946167, -0.007687562610954046, -0.02084873430430889, -0.024410666897892952, -0.011461902409791946, -0.038070183247327805, -0.01636364310979843, -0.0005453185876831412, -0.007740664761513472, 0.0138555858284235, -0.02130623161792755, 0.002894069068133831, -0.019378213211894035, -0.02122453600168228, -0.01338175032287836, 0.011617124080657959, 0.02795625850558281, 0.04999775066971779, 0.01977035216987133, -0.0021547232754528522, -0.024884501472115517, -0.029181692749261856, -0.014713389798998833, -0.044769227504730225, 0.005861664190888405, 0.048952046781778336, -0.002043412998318672, -0.05944177135825157, -0.003020697506144643, 0.018348848447203636, 0.020865073427557945, -0.06068354472517967, -0.006217040587216616, 0.04346209764480591, 0.013512464240193367, -0.020979447290301323, 0.03483503311872482, -0.0138555858284235, 0.025489049032330513, 0.006891029886901379, -0.009362324140965939, -0.010326332412660122, -0.006694959942251444, 0.024427006021142006, 0.04297192394733429, 0.023561030626296997, 0.027743849903345108, 0.005342897027730942, 0.0035394649021327496, -0.03454092890024185, 0.010228297673165798, -0.022858448326587677, -0.007164710201323032, -0.01139654591679573, -0.025211283937096596, -0.03548859804868698, -0.0017707536462694407, 0.04996507242321968, -0.025734135881066322, -0.0009236716432496905, 0.03924660012125969, 0.036828409880399704, 0.009362324140965939, -0.00675214733928442, 0.0009665618999861181, 0.0008986523607745767, -0.01131485030055046, 0.030750250443816185, 0.014174198731780052, 0.020211508497595787, -0.008962014690041542, -0.04003087803721428, 0.06682705879211426, 0.006605094764381647, -0.007830530405044556, -0.010996237397193909, -0.013414429500699043, 0.025897527113556862, 0.027858223766088486, 0.005208098795264959, -0.016894664615392685, 0.008700588718056679, -0.0067562321200966835, 0.013283715583384037, -0.00853719748556614, 0.05104345455765724, 0.00269391480833292, 0.0009497121791355312, 0.039181243628263474, 0.006364092696458101, -0.008863979950547218, 0.039769452065229416, -0.009321476332843304, -0.025047892704606056, 0.015424142591655254, -0.0021690200082957745, 0.023806117475032806, -0.01753189042210579, 0.02014615200459957, 0.028854910284280777, 0.01472155936062336, 0.028234023600816727, 0.04029230400919914, -0.021682031452655792, 0.020734360441565514, -0.02571779675781727, -0.014852273277938366, -0.04029230400919914, 0.010955389589071274, -0.00029053023899905384, -0.046174392104148865, 0.032237112522125244, -0.025668779388070107, -0.002845051698386669, 0.017025377601385117, -0.027564119547605515, -0.022139526903629303, 0.031420156359672546, 0.019868386909365654, 0.004815959837287664, 0.060193371027708054, -0.009542054496705532, -0.005265285726636648, 0.019345534965395927, 0.04192621633410454, -0.004248174838721752, 0.026861537247896194, -0.007336270995438099, -0.016600560396909714, 0.00957473274320364, 0.032531216740608215, 0.020995786413550377, 0.03624019771814346, -0.03437753766775131, -0.04375620186328888, 0.02630600519478321, 0.009419511072337627, -0.048167768865823746, -0.06829757988452911, -0.021682031452655792, -0.03535788506269455, -0.018332509323954582, 0.016943681985139847, 0.013569651171565056, 0.009672767482697964, -0.01944356970489025, -0.025864848867058754, 0.02973722480237484, 0.0012315622298046947, -0.02552172727882862, 0.017058055847883224, 0.016004182398319244, 0.02730269357562065, -0.027106624096632004, -0.01445196382701397, -0.02617529220879078, -0.009803480468690395, 0.028724197298288345, -0.02932874485850334, -0.0227440744638443, -0.03251487761735916, 0.01923116110265255, 0.02117551863193512, 0.06502975523471832, -0.004628059919923544, 0.02957383170723915, -0.0021690200082957745, -0.02361004799604416, 0.01110244169831276, 0.05189308896660805, -0.02490084059536457, -0.016143064945936203, 0.05653340369462967, 0.03813553974032402, -0.02816866710782051, 0.0260609183460474, -0.01831616833806038, -0.027564119547605515, 0.03352790325880051, 0.02179640531539917, -0.004632144700735807, -0.03614216297864914, 0.0001751350937411189, 0.002634685253724456, -0.019329195842146873, 0.03522717207670212, 0.002677575685083866, 0.025113249197602272, -0.0051672509871423244, -0.025080570951104164, -0.023168891668319702, 0.0008940569823607802, 0.0014562252908945084, -0.04761223495006561, -0.027057606726884842, -0.007328101433813572, 0.004162394441664219, 0.027482423931360245, 0.02857714518904686, -0.05764446407556534, -4.314552643336356e-05, 0.0015154547290876508, -0.01877366565167904, 0.014280403032898903, 0.003537422511726618, -0.029099997133016586, -0.03375665098428726, -0.008978353813290596, 0.013128493912518024, 0.03849500045180321, -0.027041267603635788, -0.014484642073512077, 0.011486411094665527, -0.03633823245763779, 0.04692599177360535, 0.018969735130667686, 0.012720015831291676, -0.026077257469296455, 0.018871700391173363, -0.02262970060110092, 5.571899964706972e-05, -0.01203377265483141, -0.031501851975917816, -0.03424682468175888, 0.01008941512554884, 0.04146872088313103, -0.038364287465810776, -0.0002726592938415706, 0.004909909795969725, 0.0326782688498497, -0.0018647037213668227, -0.00049553532153368, -0.01054691057652235, 0.00692779291421175, -0.04996507242321968, -0.011224985122680664, -0.029622850939631462, 0.03797214850783348, 0.004415650852024555, 0.02927972748875618, 0.01720510795712471, 0.0006831800565123558, 0.012948763556778431, 0.07372217625379562, -0.01620842143893242, 0.018806343898177147, -0.023479335010051727, -0.00814097374677658, -0.02155131846666336, -0.0029553407803177834, 0.0188226830214262, -0.015955165028572083, -0.03217175602912903, -0.011984755285084248, -0.04656653106212616, -0.007850954309105873, -0.05682750791311264, -0.0023079027887433767, 0.014754237607121468, 0.0030697148758918047, 0.016200251877307892, -0.02217220515012741, -0.001063064904883504, -0.02730269357562065, 0.040259625762701035, -0.01761358603835106, -0.03210639953613281, 0.014092503115534782, 0.03676305338740349, -0.00015126464131753892, -0.008030684664845467, -0.005612492561340332, 0.034508250653743744, 0.03813553974032402, -0.014697050675749779, -0.03405075520277023, -0.013659516349434853, 0.004995690193027258, -0.030292754992842674, -0.03777607902884483, -0.008214499801397324, -0.029704546555876732, 0.05620662122964859, -0.03427950292825699, 0.013267376460134983, 0.02865884080529213, 0.010064906440675259, -0.0011049339082092047, 0.04378888010978699, 0.00669087516143918, 0.009256119839847088, -0.01707439497113228, -0.0332828164100647, -0.02209050953388214, -0.015587533824145794, -1.0092287084262352e-05, -0.018479561433196068, -0.028609823435544968, -0.020587308332324028, 0.010636776685714722, 0.006176192779093981, -0.02941044047474861, 0.04574957489967346, 0.0019045303342863917, -0.022433631122112274, 0.022302918136119843, -0.020325882360339165, 0.02026052586734295, 0.03561931103467941, -0.010244636796414852, -0.061598535627126694, 0.019165804609656334, -0.009149914607405663, -0.0023426234256476164, -0.01790769025683403, -0.009060049429535866, 0.03490038961172104, 0.03156720846891403, 0.002228249330073595, 0.02452504076063633, -0.03022739849984646, -0.035423241555690765, 0.006682705599814653, 0.031044354662299156, 0.008283941075205803, -0.03617484122514725, -0.04529207944869995, 0.016192082315683365, -0.027204658836126328, 0.006404940504580736, -0.000523362890817225, 0.00396428257226944, -0.009517545811831951, -0.009713615290820599, -0.02361004799604416, -0.012638320215046406, 0.008962014690041542, 0.006417194847017527, 0.00415218248963356, 0.028348397463560104, -0.027204658836126328, -0.01077565923333168, 0.009958702139556408, -0.01885536126792431, -0.0007036039605736732, -0.03934463486075401, -0.03073391132056713, -0.01276086363941431, -0.01893705688416958, -0.01655971258878708, -0.012556624598801136, 0.02700858935713768, 0.016861986368894577, 0.03184497356414795, -0.04891936853528023, 0.015015664510428905, -0.00045877223601564765, -0.0014940095134079456, 0.01054691057652235, -0.007225981913506985, -0.020946769043803215, -0.04045569524168968, -0.011519089341163635, -0.017515551298856735, 0.013218359090387821, 0.009958702139556408, 0.003731449833139777, 0.010309993289411068, 0.004346209578216076, -0.008847640827298164, -0.0012325834250077605, -0.02700858935713768, -0.0010875735897570848, 0.020129812881350517, -0.006829758174717426, 0.010791998356580734, 0.013700364157557487, -0.00801026076078415, -0.012769033201038837, 0.016551543027162552, 0.018953396007418633, -0.004722009878605604, -0.024459684267640114, -0.025897527113556862, -0.006878775544464588, -0.025832170620560646, -0.031175067648291588, -0.017172429710626602, -0.03865839168429375, 0.05042256787419319, 0.04035766050219536, -0.009060049429535866, 0.02530931867659092, 0.0028961114585399628, 0.008741436526179314, 0.002981891855597496, 0.0016533160815015435, 0.0017799444030970335, -0.001704375958070159, -0.027188319712877274, -0.0009216292528435588, -0.019754013046622276, -0.04228568077087402, -0.006866521202027798, -0.022139526903629303, 0.01513820793479681, 0.023953169584274292, -0.019459908828139305, 0.006212955806404352, -0.0044932616874575615, -0.0017462449613958597, -0.0047832815907895565, 0.021371588110923767, 0.011200476437807083, 0.005971953272819519, 0.010416197590529919, 0.02762947604060173, 0.050683993846178055, -0.013904603198170662, -0.03483503311872482, -0.004166479222476482, -0.020570969209074974, 0.017188768833875656, -0.013994468376040459, 0.012401402927935123, -0.026191631332039833, 0.013103985227644444, -0.01374938152730465, 0.004999774973839521, -0.019100448116660118, -0.02320156991481781, 0.010048567317426205, 0.015391464345157146, -0.033854685723781586, 0.01019561942666769, -0.017058055847883224, -0.012099129147827625, 0.011600784957408905, -0.04316799342632294, 0.01672310382127762, -0.005032453220337629, 0.011739667505025864, 0.020538290962576866, 0.0020260526798665524, 0.030782928690314293, 0.02155131846666336, -0.028854910284280777, 0.009803480468690395, -0.033854685723781586, 0.007977582514286041, -0.011649802327156067, -0.011576276272535324, 0.021567657589912415, -0.0022405036725103855, -0.011135119944810867, -0.03437753766775131, -0.020538290962576866, -4.981521124136634e-05, -0.00437480304390192, -0.024165580049157143, 0.010081245563924313, 0.01865929178893566, -0.011690650135278702, 0.058461420238018036, -0.034475572407245636, 0.012858898378908634, -0.00605773413553834, -0.006511144805699587, -0.0347369983792305, -0.0033188865054398775, -0.0537557527422905, 0.011894889175891876, 0.002328326692804694, 0.025243962183594704, 0.02328326553106308, -0.01766260340809822, 0.02320156991481781, -0.02158399671316147, -0.010040397755801678, -0.032204434275627136, 0.01658422127366066, -0.004180775955319405, 0.019410891458392143, 0.015236242674291134, -0.004452413879334927, -0.030635876581072807, -0.01327554602175951, -0.017891351133584976, 0.004934418480843306, 0.0028103310614824295, 0.009207102470099926, 0.009868836961686611, 0.03127310425043106, 0.023054517805576324, -0.012188994325697422, -0.013332732953131199, 0.05757910758256912, 0.03382200747728348, 0.008618893101811409, 0.011960245668888092, -0.002663278952240944, -0.026289666071534157, -0.004579042084515095, 0.007601782213896513, 0.004127673804759979, 0.040880512446165085, -0.006396770942956209, 0.024492362514138222, 0.004350294359028339, -0.009239780716598034, 0.014084333553910255, -0.0022323341108858585, -0.022449970245361328, -0.017891351133584976, -0.00949303712695837, 0.0031840887386351824, 0.029001962393522263, -0.036501623690128326, -0.03092998079955578, 0.0021547232754528522, -0.03565198928117752, 0.009558393619954586, 0.01749921217560768, 0.0012499437434598804, 0.0007240278646349907, -0.008798623457551003, 0.02233559638261795, -0.03346254676580429, -0.005498118698596954, 0.0237734392285347, 0.030635876581072807, -0.0031044355127960443, 0.021273553371429443, 0.02857714518904686, -0.025096910074353218, -0.012278859503567219, -0.008774114772677422, 0.022858448326587677, 0.011837702244520187, 0.06290566921234131, 0.0289529450237751, 0.02887124940752983, 0.005596153438091278, 0.0044769225642085075, 0.000896099372766912, 0.040880512446165085, 0.027678493410348892, 0.007168794982135296, -0.022106848657131195, -0.02241729199886322, 0.005575729534029961, -0.02808697149157524, -0.010097584687173367, -0.012229842133820057, -0.00883130170404911, -0.004497346468269825, -0.048200447112321854, -0.017727959901094437, -0.026861537247896194, -0.02022784762084484, 0.016592390835285187, 0.013651346787810326, -0.03421414643526077, -0.0009839222766458988, 0.0073240166530013084, 0.0005585941253229976, -0.0016972275916486979, 0.006731723435223103, 0.016731273382902145, 0.005061046686023474, 0.032449521124362946, 0.020897751674056053, 0.01308764610439539, -0.0021751471795141697, -0.04918079450726509, -0.017760638147592545, 0.009607410989701748, -0.038527678698301315, 0.0006142493220977485, 0.004897655453532934, 0.002765398472547531, -0.0032637419644743204, -0.015440481714904308, 0.049605611711740494, 0.026812519878149033, -0.013487955555319786, 0.02146962285041809, 0.02609359659254551, -0.0022731819190084934, 0.004431989975273609, -0.0010753192473202944, 0.013790229335427284, -0.006535653490573168, -0.0025897526647895575, -0.00015445587632711977, 0.0023324114736169577, 0.0049834358505904675, 0.0030309094581753016, 0.0015358786331489682, -0.01636364310979843, -0.01749921217560768, 0.02423093654215336, 0.02187810093164444, -0.000586166454013437, 0.06261156499385834, 0.021976135671138763, -0.014231385663151741, 0.03171426057815552, -0.011984755285084248, -0.02320156991481781, -0.006413110066205263, 0.026485735550522804, 0.020374899730086327, -0.036828409880399704, -0.019574282690882683, -0.022449970245361328, -0.021404266357421875, 0.01831616833806038, -0.0058085620403289795, 0.011061593890190125, 7.965327677084133e-05, -0.016134895384311676, 0.0005841240636073053, 0.01604503020644188, 0.009452189318835735, -0.00829211063683033, -0.008659740909934044, 0.024541379883885384, -0.007654884364455938, -0.03352790325880051, -0.01658422127366066, 0.037122514098882675, 0.0013724872842431068, -0.006490720901638269, -0.0017145879101008177, -0.012360555119812489, -5.010242239222862e-05, 0.03230246901512146, -0.009207102470099926, 0.0029614679515361786, 0.027368050068616867, -0.02527664043009281, -0.01052240189164877, 0.0210938211530447, -0.050226498395204544, 0.00277561042457819, 0.044148340821266174, 0.04068444296717644, -0.01769528165459633, -0.015628382563591003, 0.022188544273376465, -0.012801711447536945, -0.010015889070928097, 0.009827989153563976, 0.028544466942548752, 0.01172332838177681, 0.003002315992489457, -0.000265766226220876, -0.013332732953131199, -0.009345985017716885, -0.027531441301107407, 0.0011845872504636645, -0.005861664190888405, 0.020113473758101463, 0.004231835715472698, 0.0015593661228194833, 0.013545142486691475, -0.0004592828336171806, 0.013618668541312218, -0.0004416672163642943, -0.00546952523291111, 0.000792448001448065, -0.009550224058330059, -0.018969735130667686, -0.006417194847017527, -0.01687832549214363, -0.022956483066082, 0.004664822947233915, 0.002086303196847439, -0.013904603198170662, -0.0013101942604407668, 0.006699045188724995, 0.013635007664561272, 0.021534979343414307, 0.008823132142424583, 0.01418236829340458, -0.018512239679694176, -0.005514457821846008, -0.0026653213426470757, -0.0186102744191885, -0.026649126783013344, 0.0062905666418373585, -0.00015407292812597007, -0.008430993184447289, -0.022956483066082, -0.003731449833139777, -0.007209642790257931, -0.004431989975273609, -0.019786691293120384, 0.010457045398652554, 0.011249493807554245, -0.026943232864141464, -0.03751465305685997, 0.022760413587093353, 0.009011032059788704, 0.0258485097438097, 0.027449745684862137, 0.007630375679582357, 0.0035169986076653004, -0.010881863534450531, 0.010849185287952423, 0.002546862466260791, 0.005061046686023474, -0.021600335836410522, -0.019999099895358086, 0.0021220450289547443, 0.019263839349150658, 0.009403171949088573, 0.013602329418063164, -0.005371490493416786, 0.01939455233514309, -0.016183912754058838, -0.009239780716598034, -0.028528127819299698, 0.004235920496284962, -0.00380497588776052, 0.053951822221279144, 0.029688207432627678, 0.00973812397569418, 0.0072831688448786736, 0.01766260340809822, -0.001339809037744999, 0.019917404279112816, -0.037122514098882675, 0.005363320931792259, 0.02241729199886322, 0.04418101906776428, -0.01931285671889782, 0.027531441301107407, -0.006127175409346819, 0.00342304864898324, 0.01035901065915823, 0.01585713028907776, 0.01712341234087944, 0.01035901065915823, -0.00616393843665719, -0.02952481433749199, -0.04806973412632942, 0.03493306785821915, -0.009860667400062084, -0.0005805498803965747, -0.024132901802659035, -0.00537557527422905, 0.009345985017716885, 0.003059502923861146, 0.036044128239154816, -0.01633913442492485, 0.010914541780948639, -0.015121868811547756, -0.010473384521901608, 0.0009221398504450917, -0.029263388365507126, 0.02130623161792755, 0.002260927576571703, 0.0376453660428524, 0.011764176189899445, 0.0042849378660321236, -0.030407128855586052, -0.015277090482413769, 0.027319032698869705, 0.0025243961717933416, -0.028152327984571457, 0.012107298709452152, -0.03398539870977402, -0.0010477469768375158, 0.031175067648291588, -0.03702447935938835, -0.007577273529022932, 0.02039123885333538, 0.0030615453142672777, -0.022302918136119843, -0.002552989637479186, 0.028152327984571457, -0.015497668646275997, -0.009084558114409447, 0.023381300270557404, 0.005759544670581818, -0.010530571453273296, -0.01707439497113228, -0.012009263969957829, -0.004264513961970806, -0.005265285726636648, -0.0012233926681801677, 0.01569373905658722, -0.01633913442492485, -0.029802581295371056, 0.0215023010969162, 0.001886148820631206, 0.0021506384946405888, 0.013512464240193367, 0.022025153040885925, 0.033723972737789154, -0.0034577692858874798, 0.036501623690128326, -0.006335499230772257, -0.008880319073796272, 0.02341397851705551, -0.0347369983792305, -0.002045455388724804, 0.01238506380468607, 0.015873469412326813, 0.019655978307127953, -0.03578270226716995, 0.005281624849885702, 0.010260975919663906, 0.0021996558643877506, -0.013022289611399174, -0.0051590814255177975, -0.023005500435829163, -0.006470296997576952, 0.014909460209310055, -0.013283715583384037, 0.013079476542770863, 0.02349567413330078, 0.009885176084935665, 0.020897751674056053, -0.03454092890024185, 0.013602329418063164, 0.00046030402882024646, 0.008447332307696342, -0.028887588530778885, 0.015946995466947556, 0.007720240857452154, -0.01885536126792431, -0.015554855577647686, 0.02571779675781727, 0.012319707311689854, 0.016510695219039917, 0.045226722955703735, 0.005289794877171516, -0.008610723540186882, 0.023479335010051727, 0.013316393829882145, 0.018675630912184715, 0.0031105626840144396, 0.006919623352587223, -0.010816507041454315, -0.018348848447203636, -0.004129716195166111, -0.0056329164654016495, 0.014500981196761131, 0.01758090779185295, 0.027776528149843216, 0.013471616432070732, -0.00632732966914773, 0.013014120049774647, -0.0071156928315758705, -0.009247950278222561, -0.00922344159334898, -0.002473336411640048, 0.03780875727534294, -0.05009578540921211, 0.016682256013154984, 0.0024365733843296766, 0.04238371551036835, 0.010538741014897823, 0.026207970455288887, -0.021453283727169037, 0.004215496592223644, 0.0074220518581569195, -0.016780290752649307, 0.011355698108673096, -0.007944904267787933, -0.020521951839327812, 0.03233514726161957, 0.009852497838437557, -0.009019201621413231, -0.010988067835569382, 0.003788636764511466, 0.004144012928009033, -0.023462995886802673, 0.01246675942093134, 0.007356694899499416, -0.007127947174012661, 0.0022956484463065863, 0.0029880190268158913, -0.005538966506719589, 0.012826220132410526, -0.011600784957408905, -0.013291885145008564, -0.04359281063079834, -0.06375530362129211, -0.000856272759847343, 0.001521581900306046, 0.03692644461989403, -0.024802805855870247, 0.020652664825320244, 0.013430768623948097, 0.015710078179836273, -0.03937731310725212, 0.010040397755801678, 0.02320156991481781, -0.03503110259771347, 0.036991801112890244, -0.015497668646275997, 0.006760316900908947, -0.010824676603078842, -0.03218809515237808, 0.0011039127130061388, 0.002887941896915436, 0.08607456088066101, 0.004035766236484051, -0.017384838312864304, -0.02365906536579132, -0.016649577766656876, 0.010375349782407284, 0.027286354452371597, -0.007936734706163406, 0.030096685513854027, 0.03187765181064606, 0.011731497943401337, 0.014084333553910255, 0.010138432495296001, -0.007393457926809788, 0.005236692260950804, -0.022809430956840515, -0.007250490598380566, -0.02130623161792755, -0.024492362514138222, -0.008553536608815193, 0.03486771136522293, -0.01815277710556984, -0.0006550971302203834, -0.010718472301959991, 0.013210189528763294, -0.008782284334301949, -0.0035578464157879353, -0.005040622781962156, 0.009321476332843304, -0.009084558114409447, -0.005257116165012121, 0.006208871025592089, -0.013316393829882145, -0.002924704924225807, -0.0046076360158622265, -0.021698370575904846, -0.0031330289784818888, 0.003463896457105875, 0.011037085205316544, 0.030178381130099297, 0.006494805682450533, -0.012720015831291676, 0.010800167918205261, 0.011241324245929718, -0.02014615200459957, -0.005302049219608307, 0.002853221260011196, -0.0200644563883543, 0.013536972925066948, 0.0009849434718489647, -0.034018076956272125, 0.03735126182436943, 0.0020260526798665524, 0.007013573311269283, 0.01590614765882492, 0.01617574319243431, -0.015456820838153362, -0.02349567413330078, -0.0009640089119784534, -0.005681933835148811, -0.012997780926525593, -0.005620662122964859, -0.0037600432988256216, 0.01977035216987133, -0.007499662693589926, 0.00252235378138721, 0.0004651547351386398, 0.020816056057810783, 0.020816056057810783, 0.020080795511603355, 0.005878003314137459, -0.03940999135375023, -0.0059842076152563095, 0.0015981715405359864, -0.009149914607405663, 0.0016134894685819745, -0.016347303986549377, -0.006686790380626917, 0.0521218366920948, 0.007593612652271986, -0.018332509323954582, -0.036665018647909164, -0.03249853849411011, 0.001317342626862228, -0.031746938824653625, 0.007920395582914352, 0.01276086363941431, 0.0025162266101688147, -0.005812646821141243, 0.022858448326587677, 0.008414654061198235, -0.001006899168714881, -0.01222167257219553, 0.029263388365507126, -0.012107298709452152, 0.021682031452655792, 0.015187225304543972, -0.009885176084935665, 0.00291653536260128, 0.017646264284849167, 0.012295198626816273, -0.021992474794387817, -0.0041419705376029015, -0.020521951839327812, 0.0051672509871423244, -0.019263839349150658, -0.024083884432911873, -0.0023405810352414846, 0.012523946352303028, 0.0022262069396674633, -0.0034986170940101147, -0.019508926197886467, 0.006049564573913813, -0.01874098740518093, -0.01008941512554884, 0.009280628524720669, 0.006613264326006174, -0.015089190565049648, 0.012499437667429447, -0.010685794055461884, -0.006891029886901379, 0.02117551863193512, 0.0011866296408697963, -0.00015688121493440121, 0.02047293446958065, 0.003829484572634101, -0.0006356944213621318, 0.01008941512554884, 0.01874098740518093, 0.02142060548067093, 0.005788138136267662, -0.012270689941942692, 0.0023038180079311132, 0.0022078254260122776, 0.0014643948525190353, -0.024018527939915657, -0.011698819696903229, -0.01865929178893566, -0.014901290647685528, -0.009182593785226345, -0.01213997695595026, -0.004481007345020771, -0.02990061603486538, 0.0314364954829216, -0.0067398929968476295, -0.01831616833806038, 0.005779968574643135, -0.010865524411201477, -0.028397414833307266, -0.014255894348025322, 0.009354154579341412, -0.001347978599369526, -0.024753788486123085, -0.030325433239340782, 0.014255894348025322, -0.009043710306286812, -0.03594609349966049, 0.011143289506435394, 0.012989611364901066, 0.03594609349966049, -0.018414204940199852, 0.014754237607121468, -0.007270914502441883, 0.00743430620059371, -0.029965972527861595, 0.017760638147592545, -0.006315075326710939, 0.0051509118638932705, 0.012295198626816273, -0.00938683282583952, -0.02063632570207119, -0.0025877102743834257, -0.01728680357336998, -0.015865299850702286, 0.0071156928315758705, 0.007483323570340872, -0.0022098678164184093, 0.017433855682611465, -0.018479561433196068, -0.00605773413553834, 0.024345310404896736, -0.002624473301693797, 0.005767714232206345, 0.016200251877307892, 0.017678942531347275, -0.005003859754651785, 0.03813553974032402, 0.01153542846441269, 0.008757775649428368, 0.008921166881918907, 0.00402351189404726, 0.03692644461989403, 0.009141745045781136, -0.007025827653706074, -0.011404715478420258, 0.003749831346794963, -0.024328971281647682, -0.036370910704135895, -0.012213503010571003, 0.061402466148138046, 0.00632732966914773, -0.01546499039977789, -0.012295198626816273, 0.02882223203778267, 0.04019426926970482, -0.0057391207665205, 0.03470432013273239, -0.004260429181158543, -0.0017952623311430216, 0.0022629699669778347, -0.02209050953388214, -0.020440256223082542, -0.009983210824429989, -0.0022078254260122776, 0.014549998566508293, -0.033315494656562805, -0.011086102575063705, 0.005510373041033745, -0.0023875560145825148, -0.01155993714928627, 0.002593837445601821, 0.03437753766775131, -0.0027245506644248962, 0.005853494629263878, -0.023397639393806458, 0.01017111074179411, 0.00546952523291111, 0.018250811845064163, -0.02063632570207119, -0.00026448973221704364, -0.02514592744410038, 0.017727959901094437, -0.01699269935488701, -0.006110836286097765, 0.015563025139272213, -0.024312632158398628, -0.0064498730935156345, 0.014427455142140388, 0.024132901802659035, -0.014933968894183636, -0.007707986515015364, -0.04993239417672157, 0.009517545811831951, 0.012850728817284107, -0.001886148820631206, -0.031910330057144165, -0.008716927841305733, 0.020162491127848625, -0.0030574605334550142, -0.005755459889769554, 0.025668779388070107, -0.02646939642727375, 0.024100223556160927, 0.0069482168182730675, -0.008153228089213371, -0.0017891351599246264, 0.021992474794387817, -0.001085531199350953, 0.01874098740518093, -0.0018565341597422957, -0.021191857755184174, 0.021682031452655792, -0.009877006523311138, -0.03122408501803875, -0.007156540639698505, 0.007712071295827627, -0.01455816812813282, 0.01238506380468607, -0.004137885756790638, 0.01339809037744999, 0.019950082525610924, -0.01977035216987133, 0.007663053926080465, 0.019133126363158226, 0.0130304591730237, -0.04244907200336456, 0.01707439497113228, 0.007246405817568302, -0.009689106605947018, -0.0014378437772393227, -0.0219271183013916, 0.0071238623932003975, -0.004860892426222563, -0.008904827758669853, -0.01439477689564228, -0.01566923037171364, 0.0048077902756631374, -0.01505651231855154, 0.013332732953131199, -0.019263839349150658, 0.00642127962782979, 0.01741751655936241, -0.023430317640304565, -0.004828214179724455, 0.008733266964554787, -0.0029287897050380707, 0.0032004278618842363, 0.01604503020644188, -0.027041267603635788, -0.025538066402077675, 0.02249898761510849, -0.01993374340236187, -0.019754013046622276, -0.0019698869436979294, -0.010497893206775188, -0.019950082525610924, 0.010808337479829788, 0.005069216247648001, -0.0067644016817212105, 0.0015277090715244412, 0.012164485640823841, -0.003073799656704068, -0.02646939642727375, -0.0047832815907895565, 0.03065221570432186, 0.020048117265105247, -0.0030492909718304873, -0.01815277710556984, 0.014215046539902687, -0.01431308127939701, 0.004082741215825081, -0.012916085310280323, -0.015350616537034512, -0.0003860120486933738, 0.0009323518606834114, -0.025325657799839973, -0.018381526693701744, 0.028446432203054428, 0.012548455037176609, 0.010367180220782757, 0.011568106710910797, -0.01885536126792431, 0.008430993184447289, 0.0005284688668325543, 0.003512913826853037, -0.015620212070643902, -0.004297192208468914, -0.008676080033183098, -0.0046158055774867535, 0.009215272031724453, -0.008618893101811409, 0.019966421648859978, 0.013953620567917824, 0.002941044047474861, -0.03414878994226456, 0.0005662530893459916, -0.002020946703851223, -0.023561030626296997, 0.02730269357562065, -0.01745019480586052, 0.00428085308521986, 0.014427455142140388, 0.015546686016023159, 0.015187225304543972, -0.0025795407127588987, -0.004472837783396244, -0.013945451006293297, 0.0017237786669284105, 0.013536972925066948, 0.013912772759795189, 0.027122963219881058, 0.009337815456092358, -0.02200881391763687, -0.05927838012576103, 0.00932964589446783, -0.00380497588776052, -0.02282577008008957, -0.012809881009161472, -0.00727908406406641, 0.008741436526179314, 0.010293654166162014, 0.0314364954829216, -0.010849185287952423, 0.004131758585572243, -0.026453057304024696, -0.0014521405100822449, -0.013561481609940529, -0.00019249542674515396, 0.000602505577262491, -0.01704171672463417, 0.014884951524436474, 0.0397040955722332, 0.00839831493794918, -0.0014848187565803528, 0.024377988651394844, -0.0038887138944119215, -0.012148146517574787, -0.0011590573703870177, -0.010661285370588303, 0.0094113415107131, 0.008847640827298164, -0.012082790024578571, -0.005367405712604523, -0.008962014690041542, 0.018103759735822678, 0.03125676512718201, -0.0012805795995518565, 0.014631694182753563, 0.009011032059788704, 0.009991380386054516, 0.031371138989925385, -0.027613136917352676, -0.02241729199886322, 0.005269370507448912, -0.003249445231631398, -0.006094497162848711, 0.004370718263089657, -0.00965642835944891, -0.014778746291995049, -0.014117011800408363, 0.0016461677150800824, 0.019051430746912956, 0.007511917036026716, 0.0227440744638443, 0.023953169584274292, 0.041991572827100754, 0.007638545241206884, -0.004172606393694878, -0.029377762228250504, 0.005628831684589386, -0.005073301028460264, 0.0004623464192263782, 0.01944356970489025, 0.030407128855586052, 0.010367180220782757, -0.0006933920085430145, 0.002030137460678816, -0.008970184251666069, -0.025946544483304024, -0.013242867775261402, -0.001110039884224534, -0.027106624096632004, 0.009631919674575329, 0.02228657901287079, 0.006159853655844927, 0.011061593890190125, 0.009509376250207424, 0.013782059773802757, -0.008692419156432152, 0.014770576730370522, -0.001126379007473588, -9.873687668005005e-05, -0.010783828794956207, -0.01960696093738079, 0.0004748560895677656, 0.023593708872795105, 0.018169116228818893, -0.0328906774520874, 0.032204434275627136, -0.0007898950134404004, 0.024328971281647682, 0.0045096008107066154, -0.01155993714928627, 0.0029635103419423103, 0.006061818916350603, -0.009239780716598034, -0.006306905765086412, -0.020505612716078758, -0.02419825829565525, -0.01069396361708641, 0.01246675942093134, -0.01952526532113552, -0.027057606726884842, -0.011674311012029648, 0.005534881725907326, 0.010538741014897823, 0.00632732966914773, -0.0037457465659826994, 0.021485961973667145, 0.0008470820030197501, 0.014002637937664986, 0.0060985819436609745, -0.0016859944444149733, -0.028887588530778885, -0.001164163346402347, 0.004820044618099928, 0.015840791165828705, 0.010457045398652554, -0.015130038373172283, 0.014566337689757347, 0.01129034161567688, 0.011470071971416473, 0.038985174149274826, -0.003982664085924625, -0.008177736774086952, -0.0009476697887293994, 0.011167798191308975, 0.014051655307412148, -0.0016757824923843145, 0.0215023010969162, -0.04457315802574158, -0.013659516349434853, 0.0008235944551415741, 0.04359281063079834, 0.006903284229338169, 0.016273777931928635, 0.005906596779823303, -0.012205333448946476, 0.005567559972405434, -0.015546686016023159, -0.01521990355104208, -0.007287253625690937, 0.03656698018312454, 0.01112695038318634, -0.001253007329069078, -0.012213503010571003, 0.015522177331149578, -0.01629011705517769, 0.0058167316019535065, -0.008847640827298164, 0.013251037336885929, 0.00419915746897459, 0.019182143732905388, 0.004329870454967022, -0.009599241428077221, 0.019296517595648766, 0.004099080339074135, -0.011461902409791946, -0.00973812397569418, -0.01205828133970499, 0.03057052008807659, 0.0037947639357298613, -0.007924480363726616, -0.0038968834560364485, -0.013986298814415932, -0.017727959901094437, 0.006168023217469454, -0.011077933013439178, 0.007630375679582357, -0.014876781962811947, -0.007025827653706074, 0.016134895384311676, 0.0167476125061512, -0.029998650774359703, -0.006694959942251444, 0.0010926795657724142, -0.0058167316019535065, -0.0036579235456883907, 0.00019441016775090247, 0.017646264284849167, 0.0005279582692310214, -0.009068218991160393, 0.014027146622538567, -0.00684609729796648, -0.0007648757309652865, 0.001126379007473588, 0.008618893101811409, 0.004885401111096144, 0.024672092869877815, -0.024949857965111732, -0.01877366565167904, -0.00478736637160182, 0.01085735484957695, 0.00778559735044837, 0.00043094466673210263, -0.023021839559078217, -7.958945207064971e-05, 0.027286354452371597, -0.007426136638969183, 0.022597022354602814, 0.014860442839562893, -0.007005403749644756, 0.027073945850133896, 0.038821782916784286, 0.001261176890693605, 0.020865073427557945, 0.007993921637535095, -0.011224985122680664, 0.007552764844149351, 0.003124859416857362, 0.00234670820645988, 0.002297690836712718, -0.008471840992569923, -0.0036374996416270733, -0.01511369924992323, 0.021061142906546593, -0.006952301599085331, 0.009966871701180935, -0.005702357739210129, -0.0037212378811091185, 0.014353929087519646, -0.030014989897608757, -0.012564794160425663, -0.020129812881350517, -0.02427995391190052, 0.019133126363158226, 0.0033740312792360783, 0.008055193349719048, 0.004497346468269825, 0.01011392381042242, -0.0083738062530756, 0.030472485348582268, -0.00337607366964221, 0.014884951524436474, 0.023103535175323486, 0.006572416517883539, -0.005865748971700668, -0.006196616683155298, 0.017711620777845383, 0.014280403032898903, 0.012319707311689854, -0.022972822189331055, 0.007838699966669083, 0.018169116228818893, -0.020440256223082542, 0.00650297524407506, 0.009264289401471615, -0.007348525337874889, 0.02130623161792755, -0.003447557333856821, -0.0023405810352414846, -0.004190987907350063, 0.0038662475999444723, -0.010506062768399715, 0.017107073217630386, 0.006478466559201479, 0.03365861624479294, 0.008520858362317085, 0.008030684664845467, 0.011363867670297623, -0.0015287302667275071, 0.02341397851705551, 0.018626613542437553, 0.012425911612808704, 0.005326557904481888, -1.6434871668025153e-06, -0.02279309183359146, 0.018201794475317, 0.02084873430430889, 0.024263614788651466, 0.01011392381042242, -0.01733582094311714, 0.0031820463482290506, -0.017221447080373764, 0.007013573311269283, 0.002838924527168274, 0.014982986263930798, 0.020276864990592003, 0.002538692904636264, -0.012450420297682285, 0.004056190140545368, 0.010620437562465668, 0.0009599241311661899, 0.015505838207900524, -0.002336496254429221, 0.017548229545354843, -0.008202245458960533, -0.037416618317365646, 0.004411566071212292, -0.010996237397193909, 0.017760638147592545, -0.0210938211530447, -0.0066500273533165455, -0.012589302845299244, -0.01815277710556984, -0.00529387965798378, -0.001963759772479534, -0.014076163992285728, 0.006208871025592089, -0.001672718790359795, 0.0027470169588923454, -0.008945675566792488, -0.00021483408636413515, -0.016943681985139847, 0.01828349009156227, -0.011437393724918365, 0.022221222519874573, -0.013389919884502888, 0.004121546633541584, -0.0024937603157013655, 0.0001273303641937673, -0.02220488339662552, -0.0013061094796285033, -0.012899746187031269, -0.00880679301917553, -0.010391688905656338, -0.009060049429535866, 0.015089190565049648, 0.004436074756085873, -0.004207327030599117, -0.011813193559646606, -0.020293204113841057, 0.01000771950930357, -0.031828634440898895, -0.0009343942510895431, 0.017809655517339706, -0.014166029170155525, -0.004542279057204723, -0.003935689106583595, -0.005436846986413002, 0.007556849624961615, 0.016077708452939987, -0.015652891248464584, -0.008063362911343575, 0.01728680357336998, -0.0003750342002604157, 0.023021839559078217, 0.013153002597391605, 2.6822348445421085e-05, -0.013349072076380253, 0.024263614788651466, -0.001545069389976561, 0.004820044618099928, 0.003900968236848712, -0.039769452065229416, 0.005996462423354387, -0.0014552040956914425, 0.01166614145040512, 0.005101894494146109, -0.0015675356844440103, 0.011903058737516403, -0.008937506005167961, 0.015195394866168499, -0.009909684769809246, 0.01276086363941431, 0.01308764610439539, -0.0005238734884187579, 0.0030390790197998285, -0.019198482856154442, 0.020881412550807, 0.004123589023947716, -0.023087196052074432, -0.005436846986413002, -0.0021118330769240856, -0.010015889070928097, 0.002385513624176383, 0.013978129252791405, 0.03826625272631645, 0.0059842076152563095, -0.0028920266777276993, -0.0008118507103063166, 0.0074138822965323925, 0.0177769772708416, 0.006866521202027798, 8.47592600621283e-05, 0.013577820733189583, -0.002489675534889102, 0.00239368318580091, 0.015179055742919445, -0.017891351133584976, -0.023152552545070648, 0.0017288846429437399, -0.005007944535464048, -0.013806568458676338, -0.001877979259006679, -0.0011110610794276, -0.01691100373864174, -0.003171834396198392, 0.014991155825555325, -0.026289666071534157, -0.0033209288958460093, -0.003664050716906786, -0.014321250841021538, -0.008945675566792488, 0.01139654591679573, -0.0022078254260122776, 0.009296967647969723, 0.006041395012289286, -0.00915808416903019, -0.014827764593064785, 0.02233559638261795, -0.00437480304390192, 0.003968367353081703, -0.012442250736057758, -0.005367405712604523, 0.013259206898510456, 0.015015664510428905, -0.020783377811312675, -0.012956933118402958, 0.010015889070928097, 0.016763951629400253, -0.005477694794535637, 0.005089640151709318, 0.007998006418347359, -0.008512688800692558, -0.010048567317426205, 0.007687562610954046, 0.011739667505025864, 0.013986298814415932, 0.03243318200111389, -0.012867067940533161, 0.01699269935488701, 0.02427995391190052, 0.013806568458676338, -0.018642952665686607, 0.026959571987390518, 0.02009713463485241, -0.004436074756085873, 0.03614216297864914, 0.023250587284564972, -0.01180502399802208, -0.03460628539323807, -0.02444334514439106, -0.016543373465538025, -0.003892798675224185, -0.0025591168086975813, 0.013283715583384037, 0.004820044618099928, 0.00973812397569418, 0.004005130380392075, -0.002902238629758358, 0.01658422127366066, -0.007552764844149351, 0.009558393619954586, -0.004534109495580196, -0.014386607334017754, 0.016543373465538025, 0.01008941512554884, -0.018348848447203636, 0.035913415253162384, 0.0023099451791495085, 0.001808537868782878, -3.523125633364543e-05, -0.03148551285266876, 0.0024120646994560957, -0.01463986374437809, 0.0015889807837083936, -0.02898562327027321, 0.016167573630809784, 0.017254125326871872, -0.00718513410538435, -0.0071156928315758705, 0.004166479222476482, -0.006392686162143946, -0.024345310404896736, -0.015971504151821136, -7.703646406298503e-05, -0.004795535933226347, -0.01273635495454073, -0.004419735632836819, -0.005428677424788475, -0.0020873243920505047, 0.05718696862459183, 0.021436944603919983, -0.001823855796828866, 0.001752372132614255, -0.019100448116660118, -0.00795307382941246, 0.003615033347159624, 0.0036415844224393368, 0.0012101171305403113, 0.006355923134833574, 0.005534881725907326, 0.017793316394090652, 0.008684249594807625, 0.018005724996328354, -0.02114284038543701, 0.005187674891203642, -0.0107511505484581, 0.010285484604537487, 0.015652891248464584, -0.004660738166421652, -0.006388601381331682, -0.011224985122680664, -0.01524441223591566, 0.003314801724627614, -0.008839471265673637, -0.018136437982320786, 0.0248191449791193, 0.004452413879334927, -0.0006612243596464396, 0.02560342289507389, 0.004017384722828865, -0.01807108148932457, 0.019999099895358086, 0.010081245563924313, 0.012891576625406742, 0.003670177888125181, 0.027319032698869705, -0.005253031384199858, 0.0007720240973867476, -0.00874960608780384, 0.00024955475237220526, 0.014296742156147957, -0.009313306771218777, 0.031158728525042534, -0.0036538387648761272, -0.021534979343414307, 0.010661285370588303, -0.000507534365169704, 0.0034210062585771084, -0.0026653213426470757, 0.02411656267940998, 0.01166614145040512, -0.003606863785535097, -0.005980122834444046, 0.004407481290400028, 0.0018800216494128108, -0.013569651171565056, 0.012940593995153904, -0.015146377496421337, 0.005849409848451614, 2.5418203222216107e-05, 0.0022874786518514156, -0.006645942572504282, 0.025652440264821053, -0.0005764650995843112, -0.009207102470099926, 0.020325882360339165, -0.00787137821316719, 0.005767714232206345, 0.0025325657334178686, -0.006788910366594791, -0.0075895278714597225, 0.0020934515632689, -0.013724872842431068, 0.011813193559646606, 0.018593935295939445, -0.014157859608530998, 0.000650501751806587, -0.019835708662867546, 0.0015757052460685372, 0.0026142613496631384, 0.006768486462533474, -0.005199929233640432, -0.004121546633541584, 0.004930333700031042, -0.009631919674575329, -0.005355151370167732, 0.01110244169831276, 0.015955165028572083, -0.027057606726884842, -0.0005407232092693448, -0.013267376460134983, -0.010481554083526134, -0.008602553978562355, -0.010309993289411068, 0.0154078034684062, -0.007340355776250362, -0.014631694182753563, -0.009476698003709316, 0.0020587309263646603, 0.005273455288261175, -0.0023875560145825148, -0.006094497162848711, -0.023953169584274292, -0.0029859766364097595, -0.02671448327600956, -0.009125405922532082, 0.0094113415107131, 0.004043935798108578, 0.004889485891908407, -0.007536425720900297, -0.003441430162638426, -0.01890437863767147, -0.0012887491611763835, -0.014484642073512077, -0.029018301516771317, 0.00872509740293026, -0.003625245299190283, 0.01612672582268715, 0.011175967752933502, -0.004803705494850874, -0.020995786413550377, -0.02076703868806362, -0.011380206793546677, -0.01617574319243431, -0.005730951204895973, -0.0008966099703684449, -0.015285260044038296, 0.021992474794387817, -0.013569651171565056, 0.0196396391838789, -0.009582902304828167, -0.013202019967138767, -0.0022629699669778347, 0.0021220450289547443, 0.010898202657699585, -0.013136663474142551, 0.0044442443177104, -0.005228522699326277, 0.007213727571070194, 0.006029140669852495, 0.013896433636546135, -0.026502074673771858, 0.0007648757309652865, -0.016265608370304108, 0.016461677849292755, 0.00968093704432249, 0.019672317430377007, -0.014835934154689312, 4.212432941130828e-06, 0.002003586385399103, -0.0046158055774867535, -0.0035639735870063305, 0.017156090587377548, 0.01604503020644188, -0.005351066589355469, -0.008929336443543434, -0.015996012836694717, -0.01203377265483141, 0.004001045599579811, -0.025374675169587135, -0.02212318778038025, 0.0032310637179762125, -0.0015746840508654714, -0.010530571453273296, 0.002767440862953663, -0.0061149210669100285, 0.014982986263930798, -0.01790769025683403, -0.021698370575904846, -0.01327554602175951, -0.009296967647969723, 0.012099129147827625, 0.0008281898335553706, 0.026534752920269966, 0.007626290898770094, 0.005461355671286583, -0.008757775649428368, -0.00839831493794918, 0.0025652439799159765, 0.009877006523311138, -0.0026122189592570066, -0.0009803480934351683, -0.0032412756700068712, -0.008332958444952965, -0.0248191449791193, 0.002503972267732024, 0.0198520477861166, 0.018479561433196068, 0.013626838102936745, -0.014239555224776268, -0.006976810283958912, -0.002156765665858984, 0.005669679492712021, 0.019868386909365654, -0.018479561433196068, 0.012965102680027485, -0.006829758174717426, -0.026044579222798347, 0.02117551863193512, -0.018201794475317, -0.008937506005167961, -0.000990560045465827, -0.004248174838721752, 0.007969412952661514, 0.01741751655936241, 0.025538066402077675, 0.019198482856154442, 0.02290746569633484, 0.007364864461123943, 0.0005274476716294885, -0.002679618075489998, -0.0020546461455523968, 3.7465124478330836e-05, -0.010105754248797894, -0.016894664615392685, -0.025489049032330513, 0.00810421071946621, -0.014582676813006401, -0.0037110259290784597, 0.005400083959102631, -0.007948989048600197, -0.009272458963096142, 0.0010926795657724142, -0.029753563925623894, 0.006891029886901379, 0.007311762310564518, 0.01682930812239647, -0.023969510570168495, -0.016894664615392685, 0.017515551298856735, -0.030717572197318077, -0.008108295500278473, -0.01596333459019661, 0.010187449865043163, 0.006645942572504282, 0.0026755332946777344, -0.0227440744638443, 0.01652703434228897, 0.009296967647969723, -0.01733582094311714, 0.0040459781885147095, 0.004146055318415165, 0.029394101351499557, -0.019917404279112816, -0.0019453781424090266, 0.016845647245645523, -0.021600335836410522, 0.01222167257219553, -0.0034210062585771084, -0.017270464450120926, -0.006952301599085331, 0.015979673713445663, -0.00040388296474702656, -0.005012029316276312, 0.0025591168086975813, -0.012997780926525593, 0.010841015726327896, -0.011568106710910797, 0.0049670967273414135, 0.01566923037171364, -0.02671448327600956, 0.003527210559695959, 0.0002711275010369718, -0.013251037336885929, -0.005583899095654488, -0.0169600211083889, 0.024998875334858894, -0.0017574781086295843, -0.0013561481609940529, 0.009321476332843304, 0.012883407063782215, 0.0051264031790196896, 0.008921166881918907, 0.012099129147827625, -0.00930513720959425, 0.017384838312864304, 0.020897751674056053, -0.004403396509587765, -0.0051509118638932705, 0.013438938185572624, 0.010579589754343033, -0.012311537750065327, 0.009640089236199856, -0.01955794356763363, 0.0005442973924800754, 0.010473384521901608, -0.01609404757618904, -0.006388601381331682, 0.025864848867058754, 0.0088884886354208, 0.017090734094381332, -0.0066581969149410725, -0.02779286727309227, -0.021028464660048485, -0.003267826745286584, 0.002109790686517954, 0.020734360441565514, 0.013177511282265186, 0.005175420548766851, -0.031191406771540642, 0.0031738767866045237, -0.011028915643692017, 0.012670998461544514, -0.007209642790257931, -0.0049834358505904675, -0.02444334514439106, 0.018087420612573624, -0.016780290752649307, -0.019100448116660118, 0.017564568668603897, -0.0020321798510849476, 0.0011978627881035209, -0.014631694182753563, -0.014231385663151741, 0.019427230581641197, -0.018005724996328354, -0.005101894494146109, -0.015097360126674175, 0.0067480625584721565, 0.02307085692882538, 0.03793947026133537, 0.012834389694035053, -0.0023405810352414846, -0.007287253625690937, 0.010595928877592087, 0.009035540744662285, 0.008349297568202019, 0.00043094466673210263, -0.010097584687173367, -0.00504470756277442, 0.014819595031440258, 0.0026837028563022614, 0.022482648491859436, -0.0009078431176021695, -0.003947943449020386, -0.010424367152154446, 0.03862571343779564, 0.005285710096359253, -0.0003737576771527529, 0.03035811148583889, 0.003267826745286584, 0.005992377642542124, -0.020816056057810783, -0.007417967077344656, 0.017924029380083084, 0.014729728922247887, -0.005522627383470535, -0.011265832930803299, 0.0004730689979624003, -0.023152552545070648, -0.00239368318580091, -0.021077482029795647, -0.0044932616874575615, 0.005289794877171516, -0.015293429605662823, -0.04208960756659508, 0.004521855153143406, -0.013545142486691475, -0.0015154547290876508, 0.0030145703349262476, 0.019737673923373222, -0.0051509118638932705, -0.0008373806485906243, 0.00469341641291976, 0.004922164138406515, -0.012695507146418095, -0.015914317220449448, -0.0034536845050752163, -0.006960471160709858, -0.01338175032287836, 0.024704771116375923, 0.005244861822575331, 0.003392412792891264, 0.007466984447091818, -0.004897655453532934, 0.028266701847314835, -0.0260609183460474, -0.013528803363442421, -0.0077978516928851604, 0.02125721424818039, -0.005204014014452696, -0.011069763451814651, -0.018724648281931877, -0.00556347519159317, 0.018839022144675255, 0.022956483066082, -0.005592068657279015, 0.011404715478420258, -0.029099997133016586, 0.005873918533325195, 0.004656653385609388, 0.010791998356580734, 0.001956611406058073, 0.005146827083081007, -0.0016431041294708848, -0.003559888806194067, -0.027433406561613083, 0.012540285475552082, 0.004505516029894352, -0.0005243840860202909, -0.007487408351153135, 0.0217147096991539, 0.008602553978562355, 0.019263839349150658, 0.01129034161567688, 0.0009946448262780905, -0.010457045398652554, -0.001657400862313807, -0.012009263969957829, 0.0037947639357298613, 0.00385195086710155, 0.02333228290081024, 0.03503110259771347, 0.01129034161567688, -4.794833785126684e-06, -0.004709755536168814, -0.0013775932602584362, 0.012711846269667149, 0.010122093372046947, -0.0036109485663473606, -0.004452413879334927, 0.011502750217914581, 0.00043477414874359965, -0.016592390835285187, 0.0219271183013916, -0.0025100994389504194, -0.008471840992569923, -0.015538516454398632, -0.018201794475317, -0.022646039724349976, -0.01972133480012417, -0.0045096008107066154, 0.00022453544079326093, -0.00727908406406641, -0.03777607902884483, 0.02676350064575672, -0.017009038478136063, -0.02014615200459957, -0.003606863785535097, 0.015497668646275997, -0.02919803187251091, -0.002514184219762683, 0.0025897526647895575, 0.014492811635136604, -0.013471616432070732, 0.007511917036026716, -0.020031778141856194, -0.00591476634144783, -0.006159853655844927, -0.015317938290536404, 0.024917179718613625, 0.014811425469815731, -0.005265285726636648, 0.01606953889131546, -0.012515776790678501, 0.007969412952661514, -0.01687832549214363, -0.024296293035149574, 0.0020413706079125404, 0.016812968999147415, -0.01061226800084114, -0.0016063411021605134, -0.02477012760937214, -0.016232930123806, -0.0057840533554553986, -0.03122408501803875, 0.011363867670297623, -0.003486362751573324, 0.0023181147407740355, -0.01008941512554884, -0.010865524411201477, 0.015048342756927013, 0.016134895384311676, -0.005314303562045097, 0.017139751464128494, 0.0029063234105706215, -0.011706989258527756, 0.005261200945824385, 0.026453057304024696, 0.0054245926439762115, 0.01249126810580492, -0.0031595800537616014, 0.006000547204166651, 0.0037273650523275137, -0.007491493131965399, 0.0024386157747358084, -0.0022323341108858585, -0.006968640722334385, 0.024966197088360786, 0.008553536608815193, -0.014844103716313839, 0.002520311390981078, -0.012213503010571003, 0.001832025358453393, -0.005812646821141243, 0.00864340178668499, -0.0210938211530447, 0.004066402092576027, -0.0013244911096990108, 0.012891576625406742, -0.0008669953094795346, 0.0032290213275700808, 0.006874690763652325, -0.0069318776950240135, -0.04346209764480591, -0.008716927841305733, -0.04267781972885132, 0.025194944813847542, 0.005453186109662056, -0.01548949908465147, -0.017956707626581192, 0.00029512561741285026, -0.003749831346794963, -0.0328906774520874, -0.013782059773802757, -0.01205828133970499, -0.015285260044038296, 0.019508926197886467, 0.00011807577539002523, 0.012009263969957829, -0.016845647245645523, 0.010685794055461884, 0.008463671430945396, 0.010742980986833572, -0.012711846269667149, -0.008447332307696342, 0.005061046686023474, -0.013594159856438637, -0.01574275642633438, -0.00038575674989260733, -0.01691100373864174, 0.004403396509587765, -0.011706989258527756, -0.008177736774086952, -0.0021118330769240856, 0.013046798296272755, 0.017384838312864304, 3.057205321965739e-05, -0.0008486137958243489, -0.0002907855377998203, -0.003774340031668544, 0.014402946457266808, 0.013896433636546135, 0.01628194749355316, 0.003155495272949338, -0.029345083981752396, -0.006347753573209047, -0.0011069762986153364, 0.014378437772393227, 0.0049425880424678326, 0.010457045398652554, -0.027841884642839432, 0.014509150758385658, 0.006903284229338169, -0.013291885145008564, 0.0029839342460036278, 0.009664597921073437, 0.006797079928219318, -0.0019372085807844996, -0.013994468376040459, -0.008863979950547218, -0.008488180115818977, 0.00864340178668499, 0.0038070182781666517, 0.0067480625584721565, -0.0007179006934165955, 0.044311732053756714, 0.0014878823421895504, -0.024165580049157143, 0.01761358603835106, 0.011470071971416473, 0.0217147096991539, -0.002751101739704609, 0.012662828899919987, -0.01052240189164877, 0.005592068657279015, 0.025096910074353218, 0.012948763556778431, 0.026273326948285103, -0.0077570038847625256, 0.0123033681884408, 0.00028516893507912755, -0.005714612081646919, -0.021453283727169037, -0.004395226947963238, -0.01203377265483141, 0.019884726032614708, 0.0005274476716294885, -0.0010610225144773722, -0.002267054747790098, 0.013438938185572624, -0.0099260238930583, 0.009133575484156609, 0.0018207922112196684, 0.009877006523311138, 0.008149143308401108, 0.005710527300834656, -0.01753189042210579, -0.007352610118687153, -0.017156090587377548, 0.016143064945936203, 0.024835484102368355, -0.0308156069368124, 0.0031023931223899126, 0.0010834888089448214, 0.024884501472115517, 0.012213503010571003, 0.004252259619534016, -0.006176192779093981, -0.007344440557062626, -0.006952301599085331, -0.01631462574005127, 0.027972597628831863, 0.029475796967744827, 0.023136213421821594, 0.004934418480843306, -0.02836473658680916, -0.00872509740293026, 0.00282258540391922, 0.019133126363158226, -0.022858448326587677, 0.024786466732621193, 0.01292425487190485, -0.03097899816930294, 0.008627062663435936, -0.023887813091278076, 0.021763727068901062, 0.005408253520727158, -0.0041256314143538475, -0.015391464345157146, 0.03333183377981186, 0.013806568458676338, -0.02236827462911606, 0.0339200422167778, 0.0027082115411758423, -0.02403486706316471, -0.02676350064575672, -0.018250811845064163, 0.0029451288282871246, 0.019590621814131737, -0.009272458963096142, -0.005326557904481888, 0.006568331737071276, 0.023103535175323486, 0.012246181257069111, 0.0198520477861166, 0.0069400472566485405, 0.02903464064002037, -0.015865299850702286, 0.0013244911096990108, 0.009011032059788704, 0.00848001055419445, 0.028446432203054428, -0.01620842143893242, 0.009787141345441341, 0.009043710306286812, 0.001466437242925167, -0.024672092869877815, 0.006825673393905163, -0.012989611364901066, 0.009190763346850872, -0.00012496885028667748, 0.009705445729196072, -0.004440159536898136, -0.0013684025034308434, -0.01069396361708641, -0.014991155825555325, -0.0003584397491067648, 0.014697050675749779, -0.015309768728911877, 0.012581133283674717, 0.014754237607121468, -0.01335724163800478, -0.03287433832883835, -0.016224760562181473, 0.013267376460134983, 0.0013847416266798973, -0.009215272031724453, -0.021436944603919983, 0.002369174500927329, 0.0018064954783767462, 0.02374076098203659, -0.023005500435829163, -0.0030064007733017206, -0.022695057094097137, 0.0038948410656303167, -0.014255894348025322, 0.01655971258878708, -0.0041092922911047935, 0.016143064945936203, 0.026240648701786995, 0.0029941461980342865, -0.015170886181294918, 0.005351066589355469, 0.0011141246650367975, 0.0009471591911278665, 0.0009461379959248006, -0.02014615200459957, 0.030325433239340782, 0.005420507863163948, 0.01495030801743269, 0.005543051287531853, 0.008300280198454857, -0.004215496592223644, -0.002885899506509304, 0.017760638147592545, 0.007667138706892729, -0.012867067940533161, -0.009615580551326275, -0.006797079928219318, 0.004481007345020771, 0.006776656024158001, -0.017875012010335922, 0.016265608370304108, 0.013267376460134983, 0.019999099895358086, 0.008529027923941612, 0.018054742366075516, -0.000555019942112267, 0.011919397860765457, 0.020080795511603355, 0.01923116110265255, -0.005714612081646919, 0.0008537197718396783, -0.022384613752365112, 0.013536972925066948, -0.01249126810580492, 0.03006400726735592, 0.011461902409791946, -0.005085555370897055, -0.01211546827107668, -0.00019517606415320188, 0.025374675169587135, -0.0013214275240898132, -0.0008532091742381454, -0.032318808138370514, 0.004697501193732023, 0.006053649354726076, 0.005118233617395163, 0.026910554617643356, 0.025832170620560646, -0.015203564427793026, 0.004403396509587765, -0.006788910366594791, -0.03272728621959686, 0.000570848467759788, 0.021616674959659576, 0.004346209578216076, 0.005391914397478104, -0.02754778042435646, 0.00784686952829361, -0.008545367047190666, -0.00013875498552806675, -0.01205828133970499, -0.020897751674056053, -0.0037906791549175978, -0.003194300690665841, 0.01110244169831276, 0.007336270995438099, -0.014574507251381874, 0.021436944603919983, 0.001990310847759247, 0.023806117475032806, 0.0015910231741145253, 0.0077733430080115795, -0.006617349106818438, -0.021616674959659576, -0.0104407062754035, 0.008239008486270905, 0.0075731887482106686, 0.010293654166162014, -0.011257663369178772, 0.021110160276293755, 0.027858223766088486, 0.002401852747425437, 0.012818050570786, -0.019803030416369438, 0.006025055889040232, 0.013651346787810326, 0.008529027923941612, -0.0289529450237751, -0.0029696375131607056, -0.01213997695595026, -0.012213503010571003, 0.013340902514755726, 0.0154078034684062, -0.004987520631402731, -0.01093905046582222, -0.0019790777005255222, -0.0001683696755208075, 0.01563655212521553, -0.00932964589446783, -0.0013653389178216457, 0.002838924527168274, 0.009729954414069653, 0.012344215996563435, 0.00391730759292841, 0.006078158039599657, 0.0054491013288497925, -0.006654112134128809, -0.0011529301991686225, -0.001038556220009923, -0.0023344538640230894, -0.01601235195994377, -0.021943457424640656, -0.009231611154973507, 0.011339358985424042, 0.018479561433196068, -0.006462127435952425, -0.005069216247648001, -0.01503200363367796, 0.000463622942334041, -0.0019412933615967631, 0.001277516013942659, 0.01052240189164877, -0.004289022646844387, 0.0017013123724609613, -0.0036497539840638638, 0.008406484499573708, 0.009909684769809246, 0.007029912434518337, 0.0010967643465846777, -0.02039123885333538, 0.0044687530025839806, -0.0038151878397911787, 0.00445649866014719, -0.0014950307086110115, 0.021910779178142548, -0.009435850195586681, 0.010375349782407284, 0.009043710306286812, 0.02187810093164444, -0.003980621695518494, -0.0037906791549175978, -0.0045994664542376995, -0.019345534965395927, -0.0033495225943624973, 0.0033556497655808926, 0.003084011608734727, 0.008594384416937828, 0.019737673923373222, -0.012948763556778431, -0.0006479487637989223, 0.003574185539036989, 0.008594384416937828, -0.0037682128604501486, 0.027155641466379166, 0.012417742051184177, -0.0035660159774124622, 0.011086102575063705, 0.0041092922911047935, 0.00385195086710155, -0.004489176906645298, -0.03259657323360443, -0.017156090587377548, -0.010742980986833572, 0.0010319184511899948, -0.013618668541312218, 0.01511369924992323, 0.00624563405290246, -0.007932649925351143, 0.0008874192135408521, 0.011249493807554245, 0.029884276911616325, -0.005236692260950804, -0.0036354572512209415, 0.018512239679694176, -0.008929336443543434, 0.0035966518335044384, -0.022646039724349976, 0.004219581373035908, 0.015922486782073975, 0.01898607425391674, -0.009787141345441341, -0.01038351934403181, -0.003780467202886939, 0.006425364408642054, 0.030864624306559563, 0.02544003166258335, -0.027270015329122543, 0.0001026940080919303, -0.006551992613822222, 0.03715519234538078, 0.03287433832883835, 0.026028240099549294, -0.0027858223766088486, -0.0006847118493169546, -0.026485735550522804, 0.023234248161315918, -0.0006790952757000923, -0.019002413377165794, -0.009975041262805462, 0.005408253520727158, 0.010097584687173367, 0.012368724681437016, 0.01361049897968769, -0.010988067835569382, -0.006556077394634485, 0.006617349106818438, -0.00957473274320364, 0.00453819427639246, -0.010138432495296001, 0.011854041367769241, -0.008716927841305733, -0.02279309183359146, -0.01188671961426735, 0.0027715256437659264, 0.013349072076380253, -0.004893570672720671, 0.0012509649386629462, 0.0023507929872721434, 0.01112695038318634, -0.012662828899919987, 0.003494532313197851, 0.011257663369178772, -0.013528803363442421, 0.00044268841156736016, -0.011470071971416473, -0.0005902512348257005, 0.002053624950349331, 0.011690650135278702, -0.012401402927935123, -0.013291885145008564, 0.013430768623948097, 0.018136437982320786, 0.0094113415107131, -0.0007735558901913464, -0.00453819427639246, 0.004542279057204723, -0.01593882590532303, 0.06418012082576752, 0.013414429500699043, -0.008271686732769012, 0.014264063909649849, 0.020538290962576866, 0.0033188865054398775, 0.007213727571070194, 0.020538290962576866, 0.015530346892774105, 0.019868386909365654, -0.036534301936626434, -0.0028573060408234596, 0.020897751674056053, -0.006384516600519419, -0.02112649939954281, 0.00718513410538435, 0.013251037336885929, 0.0215023010969162, 0.007356694899499416, -0.0011447605211287737, -0.0006535653374157846, -0.025995561853051186, 0.002456997288390994, 0.01257296372205019, 0.01046521496027708, -0.0035721431486308575, -0.007879547774791718, -0.020832395181059837, -0.004824129398912191, 0.015767265111207962, -0.011690650135278702, -0.012613811530172825, -0.0033699464984238148, 0.03476967662572861, -0.000634673226159066, -0.0017830079887062311, 0.010334501974284649, 0.01869197003543377, -0.010873693972826004, -0.0015307726571336389, -0.015187225304543972, 0.017090734094381332, -0.0004786855715792626, -0.0013755508698523045, -0.009190763346850872, 0.0049834358505904675, -0.004660738166421652, 0.01691100373864174, -0.0060985819436609745, -0.011568106710910797, 0.009288798086345196, 0.014860442839562893, -0.014362098649144173, 0.007119777612388134, 0.02093042992055416, -0.0049670967273414135, -0.001394953578710556, 0.004329870454967022, 0.00027623347705230117, -0.013577820733189583, 0.014590846374630928, 0.02414924092590809, -0.0004574957420118153, -0.010350841097533703, -0.008504519239068031, -0.010955389589071274, -0.0032228941563516855, 0.009043710306286812, -0.022025153040885925, 0.005154996644705534, 0.02779286727309227, 0.015514007769525051, -0.004182818345725536, -0.006674536038190126, 0.01276086363941431, -0.018888039514422417, 0.009125405922532082, -0.017875012010335922, 0.00839831493794918, -0.006494805682450533, 0.003996960818767548, 0.006960471160709858, 0.002078133635222912, 0.0009880070574581623, -0.0034986170940101147, -0.01153542846441269, 0.0645069032907486, -0.0104407062754035, 0.021371588110923767, -0.000745472963899374, 0.009966871701180935, -0.0075813583098351955, -0.020195169374346733, -0.013079476542770863, -0.020358560606837273, 0.00736077968031168, 0.0023650897201150656, 0.0167476125061512, 0.0022915636654943228, 0.008075617253780365, -0.004272683523595333, 0.02576681412756443, -0.002416149480268359, 0.005445016548037529, 0.021829083561897278, -0.002156765665858984, 0.013406259939074516, 0.002059752121567726, -9.586476517142728e-05, -0.020570969209074974, 0.003480235580354929, 0.025750475004315376, 0.008823132142424583, 0.009705445729196072, -0.003431218210607767, -0.0215023010969162, -0.011274002492427826, -0.010073076002299786, -0.008112380281090736, -0.01944356970489025, 0.020570969209074974, 0.017384838312864304, -0.008136888965964317, 0.0164453387260437, -0.029916955158114433, -0.013479785993695259, -0.012703676708042622, 0.005947444587945938, 0.013594159856438637, 0.003664050716906786, -0.012213503010571003, 0.007352610118687153, 0.011216815561056137, 0.025096910074353218, -0.009043710306286812, -0.007761088665574789, 0.006155768875032663, 0.009966871701180935, 0.004918079357594252, -0.004180775955319405, -0.01011392381042242, 0.009877006523311138, 0.008823132142424583, 0.02307085692882538, 0.00016977381892502308, -0.02485182322561741, 0.006049564573913813, 0.00907638855278492, 0.007152455858886242, -0.007793766912072897, -0.019574282690882683, 0.004738349001854658, -0.013561481609940529, 0.012989611364901066, -0.03179595619440079, -0.025734135881066322, -0.01474606804549694, 0.014427455142140388, -0.011943906545639038, 0.011845871806144714, -0.0007597697549499571, 0.005334727466106415, 0.011633463203907013, -0.0021996558643877506, 0.02398584969341755, 0.0010885947849601507, 0.018414204940199852, 0.008488180115818977, -0.03614216297864914, -0.002910408191382885, -0.0030247822869569063, 0.00856170617043972, 0.014803255908191204, 0.015685569494962692, -0.011233154684305191, 0.002124087419360876, 0.0020720064640045166, 0.014386607334017754, 0.012858898378908634, 0.010996237397193909, 0.015538516454398632, -0.0013735084794461727, -0.001142718130722642, -0.0029941461980342865, -0.0061149210669100285, 0.009452189318835735, 0.016649577766656876, -0.012891576625406742, -0.007234151475131512, -0.011028915643692017, 0.00486906198784709, -0.007683477830141783, 0.0049670967273414135, -0.022727735340595245, 0.02163301408290863, -0.013496125116944313, 0.01588163897395134, -0.00642127962782979, 0.00769164739176631, 0.005694188177585602, 0.022809430956840515, 0.012956933118402958, 0.02298916131258011, -0.005097809713333845, 0.0035660159774124622, 0.008553536608815193, -0.029590170830488205, -0.003937731496989727, 0.011739667505025864, -0.009117236360907555, 0.011249493807554245, 0.015179055742919445, 0.007810106035321951, 0.016600560396909714, 0.0025080570485442877, -0.002734762616455555, -0.014697050675749779, -0.017646264284849167, 0.015505838207900524, -0.004182818345725536, 0.01273635495454073, 0.003678347449749708, -0.010514232330024242, 0.012474928982555866, -0.0077039017342031, 0.02741706743836403, 0.00659692520275712, -0.007258660160005093, 0.020129812881350517, -0.011274002492427826, -0.018675630912184715, -0.011657971888780594, -0.01238506380468607, -0.005216268356889486, -0.013888264074921608, 0.02009713463485241, 6.079306695028208e-05, -0.002685745246708393, 0.0022568427957594395, 0.010179280303418636, -0.024998875334858894, 0.0037048987578600645, -0.007585443090647459, 0.012589302845299244, 0.017727959901094437, 0.0004153714107815176, 0.006964555941522121, 0.013038628734648228, 0.005297964438796043, 0.012670998461544514, 0.005024283658713102, -0.007156540639698505, 0.013545142486691475, -0.005575729534029961, -0.004084783606231213, 0.01166614145040512, -0.0072995079681277275, -0.019999099895358086, -0.00769164739176631, -0.0035415072925388813, -0.00814097374677658, 0.007148371078073978, 0.007842784747481346, 0.008488180115818977, -0.008512688800692558, -0.01687832549214363, -0.0033209288958460093, -0.004779196809977293, 0.00226909713819623, 0.01205828133970499, 0.018463222309947014, 0.013716703280806541, 0.008422823622822762, 0.00658467086032033, -0.011780515313148499, -0.01952526532113552, -0.013651346787810326, -0.01633913442492485, -0.011519089341163635, 0.012785372324287891, -0.03787411376833916, 0.009182593785226345, -0.03483503311872482, 0.024672092869877815, 0.013046798296272755, 0.005322473123669624, 0.014599015936255455, 0.0012142019113525748, -0.03076658956706524, -0.02209050953388214]\n"
          ]
        },
        {
          "data": {
            "text/plain": [
              "3072"
            ]
          },
          "execution_count": 46,
          "metadata": {},
          "output_type": "execute_result"
        }
      ],
      "source": [
        "vector = client.embeddings.create(input = [text], model=deployment_embedding_name).data[0].embedding\n",
        "print(vector)\n",
        "len(vector)"
      ]
    },
    {
      "cell_type": "code",
      "execution_count": 53,
      "metadata": {
        "gather": {
          "logged": 1674829555255
        },
        "jupyter": {
          "outputs_hidden": false,
          "source_hidden": false
        },
        "nteract": {
          "transient": {
            "deleting": false
          }
        }
      },
      "outputs": [
        {
          "name": "stdout",
          "output_type": "stream",
          "text": [
            "Score: 0.1309\tThe new movie is awesome\tThe dog plays in the garden\n",
            "Score: 0.5902\tThe new movie is awesome\tThis recent movie is so good\n",
            "Score: 0.9593\tThe new movie is awesome\tThe new movie is awesome\n"
          ]
        }
      ],
      "source": [
        "text = 'The new movie is awesome.'\n",
        "vector = client.embeddings.create(input=[text], model=deployment_embedding_name).data[0].embedding\n",
        "\n",
        "sentences1 = ['The new movie is awesome',  \n",
        "              'The new movie is awesome',  \n",
        "              'The new movie is awesome']  \n",
        "  \n",
        "sentences2 = ['The dog plays in the garden',  \n",
        "              'This recent movie is so good',  \n",
        "              'The new movie is awesome']  \n",
        "\n",
        "embeddings1 = [vector for _ in range(len(sentences1))]\n",
        "embeddings2 = [client.embeddings.create(input = s, model=deployment_embedding_name).data[0].embedding for s in sentences2]  \n",
        "  \n",
        "for i in range(len(sentences1)):  \n",
        "    print(\"Score: {:.4f}\\t{}\\t{}\".format(cosine_similarity(embeddings1[i], embeddings2[i]), sentences1[i], sentences2[i]))"
      ]
    },
    {
      "cell_type": "markdown",
      "metadata": {},
      "source": [
        "Below is an example of how embedding APIs are used to convert Korean sentences into vector values, followed by a comparison to analyze similarity scores."
      ]
    },
    {
      "cell_type": "code",
      "execution_count": 56,
      "metadata": {},
      "outputs": [
        {
          "name": "stdout",
          "output_type": "stream",
          "text": [
            "Score: 1.0000\tBanana milk tastes better after taking a bath.\tBanana milk tastes better after taking a bath.\n",
            "Score: 0.9829\tBanana milk tastes better after taking a bath.\tBanana milk tastes better after a bath.\n",
            "Score: 0.9205\tBanana milk tastes better after taking a bath.\tAfter taking a bath, drinking banana milk tastes better.\n",
            "Score: 0.8675\tBanana milk tastes better after taking a bath.\tTastes better banana bath milk after taking.\n",
            "Score: 0.7919\tBanana milk tastes better after taking a bath.\tStrawberry milk tastes better when you drink it before taking a bath.\n",
            "Score: 0.5203\tBanana milk tastes better after taking a bath.\tMilk tastes richer when eaten with cereal.\n",
            "Score: 0.1262\tBanana milk tastes better after taking a bath.\tYesterday, the weather was colder because it rained and snowed.\n",
            "Score: 0.0682\tBanana milk tastes better after taking a bath.\tVWXYZ FGHI ABCDE JKL MNO PQR STU\n",
            "Score: -0.0015\tBanana milk tastes better after taking a bath.\tThe development of LLMs is boundless.\n"
          ]
        }
      ],
      "source": [
        "text = 'Banana milk tastes better after taking a bath.'\n",
        "vector = client.embeddings.create(input=[text], model=deployment_embedding_name).data[0].embedding\n",
        "\n",
        "sentences1 = [\n",
        "    'Banana milk tastes better after taking a bath.',\n",
        "    'Banana milk tastes better after taking a bath.',\n",
        "    'Banana milk tastes better after taking a bath.',\n",
        "    'Banana milk tastes better after taking a bath.',\n",
        "    'Banana milk tastes better after taking a bath.',\n",
        "    'Banana milk tastes better after taking a bath.',\n",
        "    'Banana milk tastes better after taking a bath.',\n",
        "    'Banana milk tastes better after taking a bath.',\n",
        "    'Banana milk tastes better after taking a bath.',\n",
        "]\n",
        "  \n",
        "sentences2 = [\n",
        "    'Banana milk tastes better after taking a bath.',\n",
        "    'Banana milk tastes better after a bath.',\n",
        "    'After taking a bath, drinking banana milk tastes better.',\n",
        "    'Tastes better banana bath milk after taking.',\n",
        "    'Strawberry milk tastes better when you drink it before taking a bath.',\n",
        "    'Milk tastes richer when eaten with cereal.',\n",
        "    'Yesterday, the weather was colder because it rained and snowed.',\n",
        "    'VWXYZ FGHI ABCDE JKL MNO PQR STU',\n",
        "    'The development of LLMs is boundless.',    \n",
        "]\n",
        "\n",
        "embeddings1 = [vector for _ in range(len(sentences1))]  \n",
        "embeddings2 = [client.embeddings.create(input = s, model=deployment_embedding_name).data[0].embedding for s in sentences2]  \n",
        "\n",
        "for i in range(len(sentences1)):  \n",
        "    print(\"Score: {:.4f}\\t{}\\t{}\".format(cosine_similarity(embeddings1[i], embeddings2[i]), sentences1[i], sentences2[i]))"
      ]
    },
    {
      "cell_type": "markdown",
      "metadata": {},
      "source": [
        "Cosine similarity measures the angle between two vectors, yielding values between -1 and 1.  \n",
        "However, depending on the characteristics of embedding models, the actual range of these values can be more restricted.  \n",
        "\n",
        "For the `text-embedding-ada-002` (1536 dimensions) model:\n",
        ">- Cosine similarity scores between embedding vectors typically range from approximately 0.68 to 1.  \n",
        ">This suggests that even unrelated text pairs may exhibit a similarity score above 0.68. \n",
        "\n",
        "For the `text-embedding-3-large` (3072 dimensions) model:\n",
        ">- Cosine similarity scores span a broader spectrum, often yielding lower values.  \n",
        ">This indicates an enhanced ability to distinguish between texts, allowing for more nuanced similarity assessments."
      ]
    },
    {
      "attachments": {},
      "cell_type": "markdown",
      "metadata": {
        "nteract": {
          "transient": {
            "deleting": false
          }
        }
      },
      "source": [
        "# Feel free to reach out with any questions.  \n",
        "If you have questions related to Prompt Engineering, please contact the following email:  \n",
        "MS Korea, Hyounsoo Kim: [<hyounsookim@microsoft.com>](hyounsookim@microsoft.com)"
      ]
    }
  ],
  "metadata": {
    "kernel_info": {
      "name": "python310-sdkv2"
    },
    "kernelspec": {
      "display_name": "Python 3",
      "language": "python",
      "name": "python3"
    },
    "language_info": {
      "codemirror_mode": {
        "name": "ipython",
        "version": 3
      },
      "file_extension": ".py",
      "mimetype": "text/x-python",
      "name": "python",
      "nbconvert_exporter": "python",
      "pygments_lexer": "ipython3",
      "version": "3.11.4"
    },
    "microsoft": {
      "host": {
        "AzureML": {
          "notebookHasBeenCompleted": true
        }
      }
    },
    "nteract": {
      "version": "nteract-front-end@1.0.0"
    }
  },
  "nbformat": 4,
  "nbformat_minor": 2
}
