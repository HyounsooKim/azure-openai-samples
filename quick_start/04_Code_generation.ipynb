{
 "cells": [
  {
   "cell_type": "markdown",
   "metadata": {},
   "source": [
    "# Text to SQL Test"
   ]
  },
  {
   "cell_type": "code",
   "execution_count": 1,
   "metadata": {},
   "outputs": [],
   "source": [
    "import os\n",
    "from openai import AzureOpenAI\n",
    "from dotenv import load_dotenv\n",
    "load_dotenv()\n",
    "\n",
    "client = AzureOpenAI(\n",
    "    azure_endpoint = os.getenv(\"AZURE_OPENAI_ENDPOINT\",\"\"),\n",
    "    api_key        = os.getenv(\"AZURE_OPENAI_API_KEY\"),\n",
    "    api_version    = os.getenv(\"OPENAI_API_VERSION\")\n",
    ")\n",
    "\n",
    "deployment_name    = os.getenv('DEPLOYMENT_NAME')"
   ]
  },
  {
   "cell_type": "code",
   "execution_count": 2,
   "metadata": {},
   "outputs": [
    {
     "name": "stdout",
     "output_type": "stream",
     "text": [
      "To list the names of the departments that employed more than 10 employees in the last 3 months, you can use the following SQL query:\n",
      "\n",
      "```sql\n",
      "SELECT d.name AS department_name\n",
      "FROM Department d\n",
      "JOIN Employee e ON d.id = e.department_id\n",
      "WHERE e.id IN (\n",
      "    SELECT DISTINCT employee_id\n",
      "    FROM Salary_Payments\n",
      "    WHERE date >= CURRENT_DATE - INTERVAL '3 months'\n",
      ")\n",
      "GROUP BY d.id, d.name\n",
      "HAVING COUNT(e.id) > 10;\n",
      "```\n",
      "\n",
      "### Explanation:\n",
      "1. **`Salary_Payments` Subquery**:\n",
      "   - Filters employees who received salary payments in the last 3 months (`date >= CURRENT_DATE - INTERVAL '3 months'`).\n",
      "   - Uses `DISTINCT` to ensure we only consider unique employees.\n",
      "\n",
      "2. **Join with `Employee` and `Department`**:\n",
      "   - Joins the `Employee` table with the `Department` table to associate employees with their respective departments.\n",
      "\n",
      "3. **Group and Count**:\n",
      "   - Groups the results by department (`GROUP BY d.id, d.name`).\n",
      "   - Uses `HAVING COUNT(e.id) > 10` to filter departments with more than 10 employees.\n",
      "\n",
      "4. **Select Department Names**:\n",
      "   - Selects the department names that meet the criteria.\n"
     ]
    }
   ],
   "source": [
    "user_msg = \"\"\"### Postgres SQL tables, with their properties:\n",
    "#\n",
    "# Employee(id, name, department_id)\n",
    "# Department(id, name, address)\n",
    "# Salary_Payments(id, employee_id, amount, date)\n",
    "#\n",
    "### Make a query to list the names of the departments which employed more than 10 employees in the last 3 months.\n",
    "query:\n",
    "\"\"\"\n",
    "\n",
    "response = client.chat.completions.create(\n",
    "    model=deployment_name,\n",
    "    messages=[\n",
    "        {\"role\": \"system\", \"content\": \"You are a helpful assistant.\"},\n",
    "        {\"role\": \"user\", \"content\": user_msg},\n",
    "    ],\n",
    "  temperature=0,\n",
    "  max_tokens=500\n",
    ")\n",
    "\n",
    "print(response.choices[0].message.content)"
   ]
  },
  {
   "cell_type": "markdown",
   "metadata": {},
   "source": [
    "# SQL to Text Test"
   ]
  },
  {
   "cell_type": "code",
   "execution_count": 3,
   "metadata": {},
   "outputs": [
    {
     "name": "stdout",
     "output_type": "stream",
     "text": [
      "This SQL code is analyzing and querying data from three tables: `Department`, `Employee`, and `Salary_Payments`. Here's a breakdown of what the code does:\n",
      "\n",
      "### Goal:\n",
      "The query retrieves the `name` of **departments** (`Department.d.name`) that meet the following criteria:\n",
      "- **At least 10 employees** in the department have received a **salary payment** in the **last 3 months**.\n",
      "  \n",
      "### Breakdown of the Query:\n",
      "#### 1. **Main query:**\n",
      "```sql\n",
      "SELECT d.name\n",
      "FROM Department d\n",
      "WHERE d.id IN (\n",
      "    ...\n",
      ")\n",
      "```\n",
      "- This part fetches the names of departments (`d.name`) from the `Department` table.\n",
      "- The condition is that the department's `id` must match the results of the **subquery** inside the `WHERE` clause.\n",
      "\n",
      "---\n",
      "\n",
      "#### 2. **First subquery:**\n",
      "```sql\n",
      "SELECT e.department_id\n",
      "FROM Employee e\n",
      "WHERE e.id IN (\n",
      "    ...\n",
      ")\n",
      "GROUP BY e.department_id\n",
      "HAVING COUNT(e.id) > 10\n",
      "```\n",
      "- This subquery works with the `Employee` table.\n",
      "- It groups employees (`e`) by their `department_id` and checks the condition\n"
     ]
    }
   ],
   "source": [
    "user_msg = \"\"\"###Can you explain what does this code do? \n",
    "# Code: \n",
    "SELECT d.name\n",
    "FROM Department d\n",
    "WHERE d.id IN (\n",
    "    SELECT e.department_id\n",
    "    FROM Employee e\n",
    "    WHERE e.id IN (\n",
    "        SELECT sp.employee_id\n",
    "        FROM Salary_Payments sp\n",
    "        WHERE sp.date >= current_date - interval '3 months'\n",
    "    )\n",
    "    GROUP BY e.department_id\n",
    "    HAVING COUNT(e.id) > 10\n",
    ")\n",
    "# Answer: \n",
    "\"\"\"\n",
    "   \n",
    "response = client.chat.completions.create(\n",
    "    model=deployment_name,\n",
    "    messages=[\n",
    "        {\"role\": \"system\", \"content\": \"You are a helpful assistant.\"},\n",
    "        {\"role\": \"user\", \"content\": user_msg},\n",
    "    ],\n",
    "   max_tokens=250)\n",
    "\n",
    "print(response.choices[0].message.content)"
   ]
  },
  {
   "cell_type": "code",
   "execution_count": null,
   "metadata": {},
   "outputs": [],
   "source": []
  }
 ],
 "metadata": {
  "kernelspec": {
   "display_name": "Python 3",
   "language": "python",
   "name": "python3"
  },
  "language_info": {
   "codemirror_mode": {
    "name": "ipython",
    "version": 3
   },
   "file_extension": ".py",
   "mimetype": "text/x-python",
   "name": "python",
   "nbconvert_exporter": "python",
   "pygments_lexer": "ipython3",
   "version": "3.11.4"
  },
  "orig_nbformat": 4
 },
 "nbformat": 4,
 "nbformat_minor": 2
}
