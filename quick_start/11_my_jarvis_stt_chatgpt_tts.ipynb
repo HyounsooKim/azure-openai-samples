{
 "cells": [
  {
   "cell_type": "markdown",
   "metadata": {},
   "source": [
    "# My Own Jarvis! Building a Voice Assistant\n",
    "Using OpenAI's ChatGPT **Function Calling** feature, you can build a personal AI assistant similar to Iron Man's Jarvis.  \n",
    "\n",
    "![](assets/stt_chatgpt_tts_en.png)\n",
    "\n",
    "Conversations in Korean are also possible. To implement real-time conversation functionality, the following technologies can be utilized:  \n",
    "\n",
    "1. Convert the user's voice to text using the STT (Speech to Text) service provided by Microsoft Azure.\n",
    "2. Use ChatGPT's Function Calling feature to selectively execute predefined APIs or code.\n",
    "3. The execution results are spoken back to the user using the TTS (Text to Speech) service provided by Microsoft Azure.\n",
    "\n",
    "> **Notes**\n",
    ">- ***If there are route search APIs available for each country, modify the code accordingly and execute it.***\n",
    ">- This code has been tested with Python 3.11.4 kernel / Azure OpenAI 1.13.3 version.\n",
    ">- The code below is for PoC purposes. It is not a complete solution and should be used as a reference.\n",
    ">- To utilize the STT and TTS features, you will need hardware such as a microphone and speakers. If your development environment is container-based, it might not work properly."
   ]
  },
  {
   "cell_type": "code",
   "execution_count": null,
   "metadata": {},
   "outputs": [],
   "source": [
    "# This is for cases when the script runs on a desktop (local environment). The libraries need to be reinstalled if necessary.\n",
    "# First, you need to install the Python runtime. https://www.python.org/downloads/\n",
    "# !pip install azure-identity\n",
    "# !pip install -r ../requirements.txt"
   ]
  },
  {
   "cell_type": "markdown",
   "metadata": {},
   "source": [
    "Load the environment variables required for execution. Save the necessary information in advance in a `.env` file, as outlined below:\n",
    "\n",
    "1. Azure OpenAI API details\n",
    "2. Azure Speech API details\n",
    "3. Kakao REST API details (https://developers.kakao.com/console/app)\n",
    "4. OpenWeatherMap API details (https://openweathermap.org/current)"
   ]
  },
  {
   "cell_type": "code",
   "execution_count": 1,
   "metadata": {},
   "outputs": [],
   "source": [
    "import azure.cognitiveservices.speech as speechsdk\n",
    "import os\n",
    "from openai import AzureOpenAI\n",
    "import json\n",
    "import requests\n",
    "import pytz\n",
    "from urllib import parse\n",
    "from datetime import datetime\n",
    "from dotenv import load_dotenv\n",
    "load_dotenv()\n",
    "\n",
    "client = AzureOpenAI(\n",
    "    azure_endpoint = os.getenv(\"AZURE_OPENAI_ENDPOINT\",\"\").strip(),\n",
    "    api_key        = os.getenv(\"AZURE_OPENAI_API_KEY\"),\n",
    "    api_version    = os.getenv(\"OPENAI_API_VERSION\")\n",
    ")\n",
    "\n",
    "deployment_name    = os.getenv('DEPLOYMENT_NAME')\n",
    "speech_key         = os.getenv(\"AZURE_SPEECH_KEY\")         # Speech Key for Azure Speech Service\n",
    "speech_region      = os.getenv(\"AZURE_SPEECH_REGION\")      # Service region for Azure Speech Service\n",
    "speech_language    = os.getenv(\"AZURE_SPEECH_LANGUAGE\")    # Language for Azure Speech Service\n",
    "KAKAO_API_KEY      = os.getenv(\"KAKAO_REST_API_KEY\")       # API key for Kakao REST API\n",
    "WEATHER_API_KEY    = os.getenv(\"WEATHER_API_KEY\")          # OpenWeatherMap API key for weather information"
   ]
  },
  {
   "cell_type": "markdown",
   "metadata": {},
   "source": [
    "### Collect user commands as text using the Azure Speech To Text (STT) engine"
   ]
  },
  {
   "cell_type": "code",
   "execution_count": 2,
   "metadata": {},
   "outputs": [],
   "source": [
    "# Azure Cognitive Speech to Text function\n",
    "def stt():\n",
    "    # Creates a recognizer with the given settings\n",
    "    # Azure STT & TTS API key\n",
    "    speech_config = speechsdk.SpeechConfig(subscription=speech_key, region=speech_region, speech_recognition_language='ko-KR')\n",
    "    speech_recognizer = speechsdk.SpeechRecognizer(speech_config=speech_config)\n",
    "\n",
    "    print(\"Please speak now~\")\n",
    "\n",
    "    # Starts speech recognition and returns after recognizing a single utterance. The end of a\n",
    "    # single utterance is determined by listening for silence at the end or processing 15 seconds maximum of audio.\n",
    "    result = speech_recognizer.recognize_once()\n",
    "\n",
    "    # Checking the result\n",
    "    if result.reason == speechsdk.ResultReason.RecognizedSpeech:\n",
    "        print(\"Speech recognition result: {}\".format(result.text))\n",
    "    elif result.reason == speechsdk.ResultReason.NoMatch:\n",
    "        print(\"No matching speech found: {}\".format(result.no_match_details))\n",
    "    elif result.reason == speechsdk.ResultReason.Canceled:\n",
    "        cancellation_details = result.cancellation_details\n",
    "        print(\"Speech recognition was canceled: {}\".format(\n",
    "            cancellation_details.reason))\n",
    "        if cancellation_details.reason == speechsdk.CancellationReason.Error:\n",
    "            if cancellation_details.error_details:\n",
    "                print(\"Error details: {}\".format(\n",
    "                    cancellation_details.error_details))\n",
    "    return result"
   ]
  },
  {
   "cell_type": "markdown",
   "metadata": {},
   "source": [
    "### Read text aloud using the Azure Text To Speech (TTS) engine"
   ]
  },
  {
   "cell_type": "code",
   "execution_count": 3,
   "metadata": {},
   "outputs": [],
   "source": [
    "# Azure Cognitive Text to Speech function\n",
    "def tts(input):\n",
    "    # Set the voice name, refer to https://learn.microsoft.com/en-us/azure/ai-services/speech-service/language-support?tabs=tts for full list.\n",
    "    # speech_config.speech_synthesis_voice_name = \"ko-KR-InJoonNeural\"\n",
    "    # Creates a synthesizer with the given settings\n",
    "    # Azure STT & TTS API key\n",
    "    speech_config = speechsdk.SpeechConfig(subscription=speech_key, region=speech_region)\n",
    "    speech_config.speech_synthesis_voice_name = \"ko-KR-SeoHyeonNeural\"\n",
    "    speech_synthesizer = speechsdk.SpeechSynthesizer(speech_config=speech_config)\n",
    "\n",
    "    # Synthesizes the received text to speech.\n",
    "    result = speech_synthesizer.speak_text_async(input).get()\n",
    "\n",
    "    # Checking the result\n",
    "    if result.reason == speechsdk.ResultReason.SynthesizingAudioCompleted:\n",
    "        print(\"Speech synthesized to speaker for text [{}]\".format(input))\n",
    "    elif result.reason == speechsdk.ResultReason.Canceled:\n",
    "        cancellation_details = result.cancellation_details\n",
    "        print(\"Speech synthesis canceled: {}\".format(\n",
    "            cancellation_details.reason))\n",
    "        if cancellation_details.reason == speechsdk.CancellationReason.Error:\n",
    "            if cancellation_details.error_details:\n",
    "                print(\"Error details: {}\".format(\n",
    "                    cancellation_details.error_details))\n",
    "        print(\"Did you update the subscription info?\")"
   ]
  },
  {
   "cell_type": "markdown",
   "metadata": {},
   "source": [
    "### Find location coordinates (latitude/longitude) based on a place name using Kakao API"
   ]
  },
  {
   "cell_type": "code",
   "execution_count": 4,
   "metadata": {},
   "outputs": [],
   "source": [
    "# Function using Kakao REST API (includes address-to-coordinates conversion)\n",
    "headers = {\n",
    "    \"Authorization\": f\"KakaoAK {KAKAO_API_KEY}\",\n",
    "    \"Content-Type\": \"application/json\",\n",
    "}    \n",
    "\n",
    "def get_location_xy(keyword=\"Microsoft Korea\"):\n",
    "    url = \"https://dapi.kakao.com/v2/local/search/keyword.json\"\n",
    "    params = {\"query\": keyword}\n",
    "\n",
    "    response = requests.get(url, headers=headers, params=params)\n",
    "    if response.status_code == 200:\n",
    "        places = response.json().get('documents', [])\n",
    "        results = []\n",
    "        for place in places:\n",
    "            name = place.get('place_name')\n",
    "            latitude = place.get('y')\n",
    "            longitude = place.get('x')\n",
    "            results.append({'place_name': name, 'y': latitude, 'x': longitude})\n",
    "        return results[0]\n",
    "    else:\n",
    "        raise Exception(f\"API request failed: {response.status_code}\")\n",
    "\n",
    "\n",
    "# Convert from seconds to hours, minutes, and seconds\n",
    "def convert_second(seconds):\n",
    "    seconds = seconds % (24 * 3600)\n",
    "    hour = seconds // 3600\n",
    "    seconds %= 3600\n",
    "    minutes = seconds // 60\n",
    "    seconds %= 60\n",
    "    \n",
    "    return \"%d hours %d minutes %d seconds\" % (hour, minutes, seconds)\n",
    "\n",
    "# Convert from meters to kilometers\n",
    "def convert_meter(meter):\n",
    "    return str(round(meter / 1000, 2))\n"
   ]
  },
  {
   "cell_type": "code",
   "execution_count": 5,
   "metadata": {},
   "outputs": [
    {
     "name": "stdout",
     "output_type": "stream",
     "text": [
      "{'place_name': '한국마이크로소프트', 'y': '37.574780065995', 'x': '126.979071101633'}\n"
     ]
    }
   ],
   "source": [
    "print(get_location_xy(\"Microsoft Korea\"))"
   ]
  },
  {
   "cell_type": "markdown",
   "metadata": {},
   "source": [
    "### Function 1. Kakao Mobility Route API"
   ]
  },
  {
   "cell_type": "code",
   "execution_count": 6,
   "metadata": {},
   "outputs": [],
   "source": [
    "# Kakao route API\n",
    "def get_directions(origin, destination, waypoints=\"\", priority=\"RECOMMEND\", car_fuel=\"GASOLINE\", car_hipass=\"true\", alternatives=\"false\", road_details=\"false\"):\n",
    "    # Collect location coordinates based on the keyword\n",
    "    xy_info = get_location_xy(origin)\n",
    "    origin_xy_info = xy_info[\"x\"] + \",\" + xy_info[\"y\"] + \",name=\" + xy_info[\"place_name\"]\n",
    "    xy_info = get_location_xy(destination)\n",
    "    destin_xy_info = xy_info[\"x\"] + \",\" + xy_info[\"y\"] + \",name=\" + xy_info[\"place_name\"]\n",
    "    \n",
    "    params = {\n",
    "        \"origin\": origin_xy_info,\n",
    "        \"destination\": destin_xy_info,\n",
    "        \"waypoints\": waypoints,\n",
    "        \"priority\": priority,\n",
    "        \"car_fuel\": car_fuel,\n",
    "        \"car_hipass\": car_hipass,\n",
    "        \"alternatives\": alternatives,\n",
    "        \"road_details\": road_details,\n",
    "    }\n",
    "    url = \"https://apis-navi.kakaomobility.com/v1/directions?{}\".format(\"&\".join([f\"{k}={v}\" for k, v in params.items()]))\n",
    "    response = requests.get(url, headers=headers)\n",
    "    \n",
    "    response_summary = response.json()[\"routes\"][0][\"summary\"]\n",
    "    return_data = {\n",
    "        \"origin_name\": response_summary[\"origin\"][\"name\"],\n",
    "        \"destination_name\": response_summary[\"destination\"][\"name\"],\n",
    "        \"taxi_fare\": response_summary[\"fare\"][\"taxi\"],\n",
    "        \"toll_fare\": response_summary[\"fare\"][\"toll\"],\n",
    "        \"distance\": convert_meter(response_summary[\"distance\"]) + \"km\",\n",
    "        \"duration\": convert_second(response_summary[\"duration\"]),\n",
    "    }\n",
    "    \n",
    "    return json.dumps(return_data)"
   ]
  },
  {
   "cell_type": "markdown",
   "metadata": {},
   "source": [
    "### Function 2. Kakao Mobility Future Route API"
   ]
  },
  {
   "cell_type": "code",
   "execution_count": 7,
   "metadata": {},
   "outputs": [],
   "source": [
    "# Kakao future route API\n",
    "def get_future_directions(origin, destination, departure_time, waypoints=\"\", priority=\"RECOMMEND\", car_fuel=\"GASOLINE\", car_hipass=\"true\", alternatives=\"false\", road_details=\"false\"):\n",
    "    # Collect location coordinates based on the keyword\n",
    "    xy_info = get_location_xy(origin)\n",
    "    origin_xy_info = xy_info[\"x\"] + \",\" + xy_info[\"y\"] + \",name=\" + xy_info[\"place_name\"]\n",
    "    xy_info = get_location_xy(destination)\n",
    "    destin_xy_info = xy_info[\"x\"] + \",\" + xy_info[\"y\"] + \",name=\" + xy_info[\"place_name\"]\n",
    "    \n",
    "    params = {\n",
    "        \"origin\": origin_xy_info,\n",
    "        \"destination\": destin_xy_info,\n",
    "        \"waypoints\": waypoints,\n",
    "        \"priority\": priority,\n",
    "        \"car_fuel\": car_fuel,\n",
    "        \"car_hipass\": car_hipass,\n",
    "        \"alternatives\": alternatives,\n",
    "        \"road_details\": road_details,\n",
    "        \"departure_time\": departure_time,\n",
    "    }\n",
    "    url = \"https://apis-navi.kakaomobility.com/v1/future/directions?{}\".format(\"&\".join([f\"{k}={v}\" for k, v in params.items()]))\n",
    "    response = requests.get(url, headers=headers)\n",
    "    \n",
    "    response_summary = response.json()[\"routes\"][0][\"summary\"]\n",
    "    return_data = {\n",
    "        \"origin_name\": response_summary[\"origin\"][\"name\"],\n",
    "        \"destination_name\": response_summary[\"destination\"][\"name\"],\n",
    "        \"taxi_fare\": response_summary[\"fare\"][\"taxi\"],\n",
    "        \"toll_fare\": response_summary[\"fare\"][\"toll\"],\n",
    "        \"distance\": convert_meter(response_summary[\"distance\"]) + \"km\",\n",
    "        \"duration\": convert_second(response_summary[\"duration\"]),\n",
    "    }\n",
    "    \n",
    "    return json.dumps(return_data)\n"
   ]
  },
  {
   "cell_type": "markdown",
   "metadata": {},
   "source": [
    "### Function 3. Retrieve Real-Time Local Time Information"
   ]
  },
  {
   "cell_type": "code",
   "execution_count": 8,
   "metadata": {},
   "outputs": [],
   "source": [
    "def get_current_time(location):\n",
    "    try:\n",
    "        # Get the timezone for the city\n",
    "        timezone = pytz.timezone(location)\n",
    "\n",
    "        # Get the current time in the timezone\n",
    "        now = datetime.now(timezone)\n",
    "        current_time = now.strftime(\"%Y%m%d%H%M\")\n",
    "\n",
    "        return current_time\n",
    "    except:\n",
    "        return \"Sorry, unable to find the timezone for this location.\""
   ]
  },
  {
   "cell_type": "markdown",
   "metadata": {},
   "source": [
    "### Function 4. Retrieve Real-Time Local Weather Information"
   ]
  },
  {
   "cell_type": "code",
   "execution_count": 9,
   "metadata": {},
   "outputs": [],
   "source": [
    "# Function to fetch weather for a specific location\n",
    "def get_current_weather(location=\"서울 종로구 종로1길 50\"):\n",
    "    xy_info = get_location_xy(location)\n",
    "    params = {\n",
    "        \"lat\": xy_info[\"y\"],\n",
    "        \"lon\": xy_info[\"x\"],\n",
    "        \"units\": \"metric\",\n",
    "        \"lang\":  \"en\",\n",
    "        \"appid\": WEATHER_API_KEY\n",
    "    }\n",
    "    url = \"https://api.openweathermap.org/data/2.5/weather?{}\".format(\"&\".join([f\"{k}={v}\" for k, v in params.items()]))\n",
    "    response = requests.get(url, headers=headers)\n",
    "\n",
    "    return_data = {\n",
    "        \"Weather_main\": response.json()[\"weather\"][0][\"main\"],\n",
    "        \"Weather_description\": response.json()[\"weather\"][0][\"description\"],\n",
    "        \"Temperature_Celsius\": response.json()[\"main\"][\"temp\"],\n",
    "        \"Humidity\": response.json()[\"main\"][\"humidity\"],\n",
    "        \"Cloudiness\": response.json()[\"clouds\"][\"all\"]\n",
    "    }\n",
    "\n",
    "    return json.dumps(return_data)"
   ]
  },
  {
   "cell_type": "markdown",
   "metadata": {},
   "source": [
    "#### Verifying OpenWeatherMap Weather API Functionality"
   ]
  },
  {
   "cell_type": "code",
   "execution_count": 10,
   "metadata": {},
   "outputs": [
    {
     "name": "stdout",
     "output_type": "stream",
     "text": [
      "{\"Weather_main\": \"Clouds\", \"Weather_description\": \"overcast clouds\", \"Temperature_Celsius\": -2.34, \"Humidity\": 38, \"Cloudiness\": 87}\n"
     ]
    }
   ],
   "source": [
    "# Verify that weather information is collected properly\n",
    "response = get_current_weather(\"한국마이크로소프트\")\n",
    "print(response)"
   ]
  },
  {
   "cell_type": "markdown",
   "metadata": {},
   "source": [
    "### Define Functions for Use with OpenAI Function Calling"
   ]
  },
  {
   "cell_type": "code",
   "execution_count": 11,
   "metadata": {},
   "outputs": [],
   "source": [
    "tools = [\n",
    "    {\n",
    "        \"type\": \"function\",\n",
    "        \"function\": {\n",
    "            \"name\": \"get_directions\",\n",
    "            \"description\": \"API to search routes based on origin and destination information\",\n",
    "            \"parameters\": {\n",
    "                \"type\": \"object\",\n",
    "                \"properties\": {\n",
    "                    \"origin\": {\"type\": \"string\"},\n",
    "                    \"destination\": {\"type\": \"string\"},                    \n",
    "                },\n",
    "                \"required\": [\"origin\", \"destination\"],\n",
    "            },\n",
    "        },\n",
    "    },\n",
    "    {\n",
    "        \"type\": \"function\",\n",
    "        \"function\": {\n",
    "            \"name\": \"get_future_directions\",\n",
    "            \"description\": \"API to search routes based on origin and destination information based on future departure_time\",\n",
    "            \"parameters\": {\n",
    "                \"type\": \"object\",\n",
    "                \"properties\": {\n",
    "                    \"origin\": {\"type\": \"string\"},\n",
    "                    \"destination\": {\"type\": \"string\"},\n",
    "                    \"departure_time\": {\n",
    "                        \"type\": \"string\",\n",
    "                        \"description\": \"The time format of the given time must be converted to %Y%m%d%H%M format. If there is no year information, 2023 is used as the default. \",\n",
    "                    },\n",
    "                },\n",
    "                \"required\": [\"origin\", \"destination\", \"departure_time\"],\n",
    "            },\n",
    "        },\n",
    "    },\n",
    "    {\n",
    "        \"type\": \"function\",\n",
    "        \"function\": {\n",
    "            \"name\": \"get_current_time\",\n",
    "            \"description\": \"Get the current time in a given location\",\n",
    "            \"parameters\": {\n",
    "                \"type\": \"object\",\n",
    "                \"properties\": {\n",
    "                    \"location\": {\n",
    "                        \"type\": \"string\",\n",
    "                        \"description\": \"The location name. The pytz is used to get the timezone for that location. Location names should be in a format like Asia/Seoul, America/New_York, Asia/Bangkok, Europe/London\"\n",
    "                    }\n",
    "                },\n",
    "                \"required\": [\"location\"],\n",
    "            },\n",
    "        },\n",
    "    },\n",
    "    {\n",
    "        \"type\": \"function\",\n",
    "        \"function\": {\n",
    "            \"name\": \"get_current_weather\",\n",
    "            \"description\": \"Get the current weather information in a given location\",\n",
    "            \"parameters\": {\n",
    "                \"type\": \"object\",\n",
    "                \"properties\": {\n",
    "                    \"location\": {\n",
    "                        \"type\": \"string\",\n",
    "                        \"description\": \"The city name. City names should be in a format like Seoul, Busan, Sokcho, Daegu\"\n",
    "                    }\n",
    "                },\n",
    "                \"required\": [\"location\"],\n",
    "            },\n",
    "        }\n",
    "    }\n",
    "]\n",
    "\n",
    "available_functions = {\n",
    "    \"get_directions\": get_directions,\n",
    "    \"get_future_directions\": get_future_directions,\n",
    "    \"get_current_time\": get_current_time,\n",
    "    \"get_current_weather\": get_current_weather,\n",
    "} "
   ]
  },
  {
   "cell_type": "markdown",
   "metadata": {},
   "source": [
    "#### Function to validate the arguments provided to each function"
   ]
  },
  {
   "cell_type": "code",
   "execution_count": 12,
   "metadata": {},
   "outputs": [],
   "source": [
    "import inspect\n",
    "\n",
    "# Helper method used to check if the correct arguments are provided to a function\n",
    "def check_args(function, args):\n",
    "    sig = inspect.signature(function)\n",
    "    params = sig.parameters\n",
    "\n",
    "    # Check if there are extra arguments\n",
    "    for name in args:\n",
    "        if name not in params:\n",
    "            return False\n",
    "    # Check if the required arguments are provided \n",
    "    for name, param in params.items():\n",
    "        if param.default is param.empty and name not in args:\n",
    "            return False\n",
    "\n",
    "    return True"
   ]
  },
  {
   "cell_type": "markdown",
   "metadata": {},
   "source": [
    "#### Function to automatically select and execute functions based on user intent using the OpenAI GPT model"
   ]
  },
  {
   "cell_type": "code",
   "execution_count": 13,
   "metadata": {},
   "outputs": [],
   "source": [
    "def run_conversation(messages, tools, available_functions, deployment_name):\n",
    "    # Step 1: Send the conversation and available functions to GPT\n",
    "    response = client.chat.completions.create(\n",
    "        model = deployment_name,\n",
    "        messages = messages,\n",
    "        tools = tools,\n",
    "        tool_choice=\"auto\"    # auto is default, but we'll be explicit\n",
    "    )\n",
    "\n",
    "    response_message = response.choices[0].message\n",
    "    tool_calls = response_message.tool_calls\n",
    "    # Step 2: Check if GPT wanted to call a function\n",
    "    if tool_calls:\n",
    "        # Step 3: Call the function\n",
    "        # Note: The JSON response may not always be valid; be sure to handle errors\n",
    "        for tool_call in tool_calls:\n",
    "            function_name = tool_call.function.name\n",
    "            # Verify function exists\n",
    "            if function_name not in available_functions:\n",
    "                return \"Function \" + function_name + \" does not exist\"\n",
    "            fuction_to_call = available_functions[function_name]  \n",
    "        \n",
    "        # Verify function has correct number of arguments\n",
    "        function_args = json.loads(tool_call.function.arguments)\n",
    "        if check_args(fuction_to_call, function_args) is False:\n",
    "            return \"Invalid number of arguments for function: \" + function_name\n",
    "        function_response = fuction_to_call(**function_args)\n",
    "        \n",
    "        # Add the following conditional based on the function_name\n",
    "        if function_name == \"get_directions\" or function_name == \"get_future_directions\":\n",
    "            messages.append(\n",
    "                {\"role\": \"system\", \"content\": \"You are a bot that guides you through car routes. When the user provides the origin and destination names, you provide summary route guidance information.\"}\n",
    "            )\n",
    "        elif function_name == \"get_current_weather\":\n",
    "            messages.append(\n",
    "                {\"role\": \"system\", \"content\": \"You are an agent that tells the user about the weather. You describe based on the given data without making interpretations or irrelevant statements.\"},\n",
    "            )\n",
    "        elif function_name == \"get_current_time\":\n",
    "            messages.append(\n",
    "                {\"role\": \"system\", \"content\": \"You are a bot that tells global times. Reply strictly based on the given data without interpretations or additional statements.\"},\n",
    "            )\n",
    "        else :\n",
    "            messages.append(\n",
    "                {\"role\": \"system\", \"content\": \"You are an AI assistant that helps users find information. Your answers must be factual. Try to provide concise, clear responses.\"},\n",
    "            )\n",
    "        \n",
    "        # Add assistant response to messages\n",
    "        messages.append(response_message)  # Extend conversation with assistant's reply\n",
    "\n",
    "        # Add function response to messages\n",
    "        messages.append(\n",
    "            {\n",
    "                \"tool_call_id\": tool_call.id,\n",
    "                \"role\": \"tool\",\n",
    "                \"name\": function_name,\n",
    "                \"content\": function_response,\n",
    "            }\n",
    "        )  # Extend conversation with function response\n",
    "\n",
    "        second_response = client.chat.completions.create(\n",
    "            model = deployment_name,\n",
    "            messages = messages,\n",
    "            temperature=0\n",
    "        )\n",
    "        # Get a new response from GPT where it can see the function response\n",
    "        \n",
    "        return second_response"
   ]
  },
  {
   "cell_type": "markdown",
   "metadata": {},
   "source": [
    "#### Function for natural language queries with GPT\n",
    "In this example, requests that do not correspond to Function Calling will terminate."
   ]
  },
  {
   "cell_type": "code",
   "execution_count": 14,
   "metadata": {},
   "outputs": [],
   "source": [
    "def gpt(input):\n",
    "    messages = [\n",
    "        {\"role\": \"user\", \"content\": input}\n",
    "    ]\n",
    "    assistant_response = run_conversation(messages, tools, available_functions, deployment_name)\n",
    "    # If assistant_response is empty\n",
    "    if not assistant_response:\n",
    "        return \"I cannot answer this question. Please try asking in a different way.\"\n",
    "    else:\n",
    "        content = json.dumps(assistant_response.choices[0].message.content, ensure_ascii=False, indent=4)\n",
    "        content = content.replace(\"\\\\n\", \"\\n\").replace(\"\\\\\\\"\", \"\\\"\")\n",
    "        return content\n"
   ]
  },
  {
   "cell_type": "markdown",
   "metadata": {},
   "source": [
    "Use GPT to inquire and verify if each functionality operates correctly."
   ]
  },
  {
   "cell_type": "code",
   "execution_count": 17,
   "metadata": {},
   "outputs": [
    {
     "name": "stdout",
     "output_type": "stream",
     "text": [
      "\"The weather in Paris, France, is currently clear with a clear sky. The temperature is -2.24°C, the humidity is 64%, and there is no cloudiness.\"\n"
     ]
    }
   ],
   "source": [
    "future_time = \"\"\n",
    "# future_time = \"2023년 12월 21일 18시에\"\n",
    "origin_name = \"한국마이크로소프트\"\n",
    "destin_name = \"강남역\"\n",
    "query = f\"{future_time} {origin_name}에서 {destin_name}까지 얼마나 걸려?\"\n",
    "query = \"How's the weather in Paris, France?\"\n",
    "# query = \"What time is it in Hawaii?\"\n",
    "\n",
    "print(gpt(query))"
   ]
  },
  {
   "cell_type": "code",
   "execution_count": 18,
   "metadata": {},
   "outputs": [
    {
     "name": "stdout",
     "output_type": "stream",
     "text": [
      "\"The time in Hawaii (Honolulu) is 3:22 AM on January 2, 2025.\"\n"
     ]
    }
   ],
   "source": [
    "query = \"What time is it in Hawaii?\"\n",
    "\n",
    "print(gpt(query))"
   ]
  },
  {
   "cell_type": "markdown",
   "metadata": {},
   "source": [
    "## The code below works in an environment with a local PC (physical microphone and speaker).\n",
    "**Note**  \n",
    ">- If executed in Docker or Codespace, it might not work efficiently."
   ]
  },
  {
   "cell_type": "code",
   "execution_count": null,
   "metadata": {},
   "outputs": [],
   "source": [
    "# if __name__ == \"__main__\":\n",
    "tts(\"Try asking about weather, navigation, or time.\")\n",
    "\n",
    "while True:\n",
    "    result_stt = stt().text\n",
    "    print(result_stt)\n",
    "    if(result_stt == \"\"):\n",
    "        # Speech recognition failed\n",
    "        print(\"Speech recognition failed\")\n",
    "        tts(\"Speech recognition failed. Please try again.\")\n",
    "    elif(result_stt == \"Exit.\" or result_stt == \"Close.\"):\n",
    "        print(\"Ending conversation\")\n",
    "        break\n",
    "    else:\n",
    "        # Speech recognition succeeded\n",
    "        result_gpt = gpt(result_stt)\n",
    "        tts(result_gpt)"
   ]
  },
  {
   "cell_type": "markdown",
   "metadata": {},
   "source": [
    "Now it's time to add your own APIs one by one.\n",
    "Good luck!"
   ]
  }
 ],
 "metadata": {
  "kernelspec": {
   "display_name": "Python 3",
   "language": "python",
   "name": "python3"
  },
  "language_info": {
   "codemirror_mode": {
    "name": "ipython",
    "version": 3
   },
   "file_extension": ".py",
   "mimetype": "text/x-python",
   "name": "python",
   "nbconvert_exporter": "python",
   "pygments_lexer": "ipython3",
   "version": "3.11.4"
  },
  "orig_nbformat": 4
 },
 "nbformat": 4,
 "nbformat_minor": 2
}
