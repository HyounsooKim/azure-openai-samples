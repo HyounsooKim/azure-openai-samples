{
 "cells": [
  {
   "cell_type": "markdown",
   "metadata": {},
   "source": [
    "This notebook uses an LLM to translate sentences from a specified file into the target language.  \n",
    "\n",
    "The code in this notebook is for production purposes and is not included in the practice.  \n",
    "You can see how to use the JSON structure."
   ]
  },
  {
   "cell_type": "code",
   "execution_count": 4,
   "metadata": {},
   "outputs": [],
   "source": [
    "import os\n",
    "import json\n",
    "from openai import AzureOpenAI\n",
    "from dotenv import load_dotenv\n",
    "load_dotenv()\n",
    "\n",
    "client = AzureOpenAI(\n",
    "    azure_endpoint=os.getenv(\"AZURE_OPENAI_ENDPOINT\"),\n",
    "    api_key=os.getenv(\"AZURE_OPENAI_API_KEY\"),\n",
    "    api_version=os.getenv(\"OPENAI_API_VERSION\")\n",
    ")\n",
    "    \n",
    "def open_ipynb_file(file_name):\n",
    "    with open(file_name, 'r') as f:\n",
    "        return f.read() \n",
    "\n",
    "deployment_name = os.getenv(\"DEPLOYMENT_NAME\")\n",
    "deployment_embedding_name = os.getenv(\"DEPLOYMENT_EMBEDDING_NAME\")\n",
    "\n",
    "# target_language = \"Spanish\"\n",
    "target_language = \"Japanese\"\n",
    "system_message = f\"You are an assistant specialized in translating the raw data of an ipynb file from English to {target_language}. Your task is to provide complete and natural translations while preserving the original JSON format and structure\"\n",
    "# system_message = \"You are an assistant specialized in translating the raw data of an Markdown file from Korean to English. Your task is to provide complete and natural translations\""
   ]
  },
  {
   "cell_type": "code",
   "execution_count": 5,
   "metadata": {},
   "outputs": [],
   "source": [
    "file_name = \"04_Code_generation.ipynb\"\n",
    "\n",
    "user_message = open_ipynb_file(f\"./{file_name}\")\n",
    "\n",
    "# Simple API Call\n",
    "response = client.chat.completions.create(\n",
    "    model=deployment_name,\n",
    "    max_tokens=10000,\n",
    "    response_format={\"type\": \"json_object\"},\n",
    "    messages=[\n",
    "        {\"role\": \"system\", \"content\": system_message},\n",
    "        {\"role\": \"user\", \"content\": user_message},\n",
    "    ]\n",
    ")"
   ]
  },
  {
   "cell_type": "code",
   "execution_count": 6,
   "metadata": {},
   "outputs": [],
   "source": [
    "# Save the translated ipynb file from json_object to .ipynb\n",
    "translated_ipynb = response.choices[0].message.content\n",
    "with open(f\"./{target_language}_{file_name}\", 'w') as f:\n",
    "    f.write(translated_ipynb)"
   ]
  }
 ],
 "metadata": {
  "kernelspec": {
   "display_name": "Python 3",
   "language": "python",
   "name": "python3"
  },
  "language_info": {
   "codemirror_mode": {
    "name": "ipython",
    "version": 3
   },
   "file_extension": ".py",
   "mimetype": "text/x-python",
   "name": "python",
   "nbconvert_exporter": "python",
   "pygments_lexer": "ipython3",
   "version": "3.11.4"
  }
 },
 "nbformat": 4,
 "nbformat_minor": 2
}
