{
 "cells": [
  {
   "attachments": {},
   "cell_type": "markdown",
   "metadata": {},
   "source": [
    "# Demo using RAG based on Bing Search\n",
    "\n",
    "This demo shows how to analyze natural queries using the GPT-3 model, retrieve additional information using a knowledge base, and answer questions.  \n",
    "\n",
    "For this exercise, you need to create a [Bing Resource](https://portal.azure.com/#blade/HubsExtension/BrowseResourceBlade/resourceType/Microsoft.Bing%2Faccounts) and input its API Key into the [.env](../.env) file. \n",
    "\n",
    "1. Utilizing the Bing Search API: Introducing how to reference search results using the Bing Search API."
   ]
  },
  {
   "cell_type": "code",
   "execution_count": 1,
   "metadata": {},
   "outputs": [],
   "source": [
    "import os\n",
    "import json\n",
    "import requests\n",
    "from openai import AzureOpenAI\n",
    "from dotenv import load_dotenv\n",
    "load_dotenv()\n",
    "\n",
    "client = AzureOpenAI(\n",
    "    azure_endpoint = os.getenv(\"AZURE_OPENAI_ENDPOINT\",\"\").strip(),\n",
    "    api_key        = os.getenv(\"AZURE_OPENAI_API_KEY\"),\n",
    "    api_version    = os.getenv(\"OPENAI_API_VERSION\")\n",
    ")\n",
    "\n",
    "deployment_name = os.getenv('DEPLOYMENT_NAME')"
   ]
  },
  {
   "cell_type": "markdown",
   "metadata": {},
   "source": [
    "## 1. How to Use the Bing Search API"
   ]
  },
  {
   "attachments": {},
   "cell_type": "markdown",
   "metadata": {},
   "source": [
    "### Start with a natural question  \n",
    "When you need access to data that the LLM might not know, a search engine can be utilized as shown below."
   ]
  },
  {
   "attachments": {},
   "cell_type": "markdown",
   "metadata": {},
   "source": [
    "### Step 1: GPT-4o: What do I need to answer this question?"
   ]
  },
  {
   "cell_type": "code",
   "execution_count": 2,
   "metadata": {},
   "outputs": [],
   "source": [
    "# Define a function to extract necessary information for search\n",
    "def get_search_info(input_query):\n",
    "    system_prompt='''\n",
    "    Answer the following questions as best you can. You have access to the following tools:  \n",
    "    Web Search: Use the web to find information\n",
    "    Question: Natural language-based questions that users want to ask through web searches\n",
    "    Answer: Describes how to effectively answer people's natural language-based questions and creates optimized search keywords needed for use in the Bing Search API. And create optimized search keywords needed for use in the Bing Search API. The answer format must strictly follow the JSON format below.\n",
    "    {\"Keywords\": \"Specify three sets of keywords information to search for key data that matches the user's question intent.\"}\n",
    "    '''\n",
    "    user_prompt = f'''\n",
    "    Question: {input_query}\n",
    "    '''\n",
    "\n",
    "    # Few-shot example for prompt engineering with Azure OpenAI GPT\n",
    "    prompt = [{\"role\":\"system\", \"content\":system_prompt},\n",
    "                {\"role\":\"user\", \"content\":\"Question: When is the 2024 South Korean general election and do I get a day off for it?\"},\n",
    "                {\"role\":\"assistant\", \"content\":\"\"\"{\"Keywords\": \"2024 South Korean general election date + public holiday status + general election voting policy\"}\"\"\"},\n",
    "                {\"role\":\"user\",\"content\": user_prompt}\n",
    "            ]\n",
    "        \n",
    "    response = client.chat.completions.create(\n",
    "        model=deployment_name,\n",
    "        messages = prompt,\n",
    "        max_tokens=600,\n",
    "        response_format={\"type\": \"json_object\"}\n",
    "    )\n",
    "\n",
    "    keywords = json.loads(response.choices[0].message.content)['Keywords']\n",
    "    \n",
    "    # If keywords are in list format, join with '+' and return\n",
    "    if type(keywords) == list:\n",
    "        keywords = ' + '.join(keywords)\n",
    "\n",
    "    return json.loads(response.choices[0].message.content)['Keywords']"
   ]
  },
  {
   "attachments": {},
   "cell_type": "markdown",
   "metadata": {},
   "source": [
    "### Step 2: Search web for more details  \n",
    "\n",
    "You can find information related to the Bing Search API here:  \n",
    "https://www.microsoft.com/en-us/bing/apis/bing-web-search-api"
   ]
  },
  {
   "cell_type": "code",
   "execution_count": 3,
   "metadata": {},
   "outputs": [],
   "source": [
    "# Define a function to fetch search results using the Bing Search API\n",
    "def get_search_result(keywords):\n",
    "    subscription_key = os.getenv(\"BING_SEARCH_KEY\")\n",
    "    endpoint = os.getenv(\"BING_SEARCH_ENDPOINT\") + \"/v7.0/search\"\n",
    "\n",
    "    query = keywords\n",
    "\n",
    "    # Construct a request\n",
    "    mkt = 'ko_KR'\n",
    "    params = { 'q': query, 'mkt': mkt }\n",
    "    headers = { 'Ocp-Apim-Subscription-Key': subscription_key }\n",
    "\n",
    "    # Call the API\n",
    "    response = requests.get(endpoint, headers=headers, params=params)\n",
    "\n",
    "    context = ''\n",
    "    for result in response.json()['webPages']['value']:\n",
    "        context += result['snippet'] + '\\n'\n",
    "\n",
    "    return context"
   ]
  },
  {
   "cell_type": "code",
   "execution_count": 7,
   "metadata": {},
   "outputs": [],
   "source": [
    "# Define a function to generate answers based on search results\n",
    "def generate_answer(input_query, context):\n",
    "    system_prompt = \"\"\"You are an agent who answers the user's questions based on the data provided.\"\"\"\n",
    "    user_prompt = f\"\"\"Question: {input_query}\n",
    "    Web Search Results: {context}\n",
    "    Answer: \n",
    "    \"\"\"\n",
    "\n",
    "    response = client.chat.completions.create(\n",
    "        model=deployment_name,\n",
    "        messages = [\n",
    "            {\"role\":\"system\", \"content\":system_prompt},\n",
    "            {\"role\":\"user\",\"content\": user_prompt}\n",
    "        ],\n",
    "        max_tokens=600\n",
    "    )\n",
    "\n",
    "    return response.choices[0].message.content"
   ]
  },
  {
   "cell_type": "code",
   "execution_count": 8,
   "metadata": {},
   "outputs": [],
   "source": [
    "# Define a function to process user input and output results\n",
    "def get_input_query(input_query):\n",
    "    # Print the input query\n",
    "    print(\"-\"*80)\n",
    "    print(\"Search Query: \" + input_query)\n",
    "    print(\"-\"*80)\n",
    "\n",
    "    # Call the function to extract search keywords\n",
    "    keywords = get_search_info(input_query)\n",
    "    print(\"Search Keywords: \" + keywords)\n",
    "    print(\"-\"*80)\n",
    "\n",
    "    # Call the function to fetch search results\n",
    "    context = get_search_result(keywords)\n",
    "    print(\"Search Results: \" + context)\n",
    "    print(\"-\"*80)\n",
    "\n",
    "    # Call the function to generate an answer for the user\n",
    "    answer = generate_answer(input_query, context)\n",
    "    print(\"Final Answer: \" + answer)\n",
    "    print(\"-\"*80)"
   ]
  },
  {
   "cell_type": "markdown",
   "metadata": {},
   "source": [
    "Replace the sentence below with a natural language query for the Answer Engine and execute it."
   ]
  },
  {
   "cell_type": "code",
   "execution_count": 11,
   "metadata": {},
   "outputs": [
    {
     "name": "stdout",
     "output_type": "stream",
     "text": [
      "--------------------------------------------------------------------------------\n",
      "Search Query: When is Buddha's Birthday in 2025? Is it a public holiday? If so, when is the substitute holiday?\n",
      "--------------------------------------------------------------------------------\n",
      "Search Keywords: Buddha's Birthday 2025 date South Korea + public holiday status + substitute holiday policy 2025\n",
      "--------------------------------------------------------------------------------\n",
      "Search Results: Since March 2023, South Korean workers will enjoy an extra day off if either Buddha's Birthday or Christmas overlaps with a Saturday or Sunday. Buddha's birthday has been a public holiday in South Korea since 1975, with the number of followers of Buddhism in South Korea estimated at 10 million.\n",
      "South Korea Public Holidays 2025. This page contains a national calendar of all 2025 public holidays. These dates may be modified as official changes are announced, so please check back regularly for updates.\n",
      "Buddha’s Birthday 2025, 2026 and 2027. Buddha’s Birthday is an annual holiday in South Korea. The date varies from year to year on the Gregorian Calendar, but it tends to come in later April or early May. On the Korean traditional calendar, it is always the eighth day of the fourth month of the year.\n",
      "February 28th to March 3rd: This period includes Independence Movement Day (Samiljeol) and its alternative holiday, potentially creating a 4-day weekend. May 1st to 6th: This includes Children’s Day (Eorininal) and Buddha’s Birthday (Seokga Tansinil), which sometimes creates an extended break.\n",
      "In 2025, South Korea officially observes 16 public holidays, offering its citizens moments to relax, celebrate, and remember their past. This article provides a detailed overview of these holidays, including their history, significance, and how they are celebrated across the country.\n",
      "Buddha’s Birthday is a public holiday. It is a day off for the general population, and schools and most businesses are closed. Buddha’s Birthday Observances\n",
      "Buddha’s birthday is a public holiday, so a lot of workers and students can gather to celebrate on the day. The main event is the lotus lantern festival called Yeon Deung Hoe (연등회 ). In the weeks running up to Buddha’s birthday, paper lotus lanterns will start appearing all over Seoul.\n",
      "Overview of holidays and many observances in South Korea during the year 2025. Sign in. News. News Home; Astronomy News; Time Zone News; Calendar & Holiday News; ... Buddha’s Birthday: Public Holiday: May 5: Monday: Children's Day: Public Holiday: May 6: ... While we diligently research and update our holiday dates, some of the information in ...\n",
      "Buddha's Birthday: 5 May. Children's Day: 6 May. Memorial Day: 6 June. Liberation Day: 15 August. National Foundation Day: 3 October. Chuseok / Midautumn Festival: 5 October. Chuseok / Midautumn Festival: 6 October. Chuseok / Midautumn Festival: 7 October. Chuseok / Midautumn Festival: 8 October. Hangeul Day: 9 October. Christmas Day: 25 December.\n",
      "In this article, you’ll find how people celebrate Buddha’s Birthday in South Korea, as well as the history of this holiday and a useful vocabulary list to learn the most important words. First though, here are the key dates up to 2025. Buddha’s Birthday in South Korea: May 5th 2025. May 8th 2026. May 13th 2027. Want to know more about ...\n",
      "\n",
      "--------------------------------------------------------------------------------\n",
      "Final Answer: Buddha's Birthday in 2025 is on **Monday, May 5th**. It is a **public holiday** in South Korea, meaning most businesses and schools will be closed. Since it falls on a Monday, there is no need for a substitute holiday, as it is already a weekday.\n",
      "--------------------------------------------------------------------------------\n"
     ]
    }
   ],
   "source": [
    "input_query = \"When is Buddha's Birthday in 2025? Is it a public holiday? If so, when is the substitute holiday?\"\n",
    "get_input_query(input_query)"
   ]
  },
  {
   "cell_type": "code",
   "execution_count": 12,
   "metadata": {},
   "outputs": [
    {
     "name": "stdout",
     "output_type": "stream",
     "text": [
      "--------------------------------------------------------------------------------\n",
      "Search Query: When is the Lunar New Year in 2025, and how many days off are in the holiday period?\n",
      "--------------------------------------------------------------------------------\n",
      "Search Keywords: Lunar New Year 2025 date + South Korea holiday calendar 2025 + Lunar New Year public holiday duration\n",
      "--------------------------------------------------------------------------------\n",
      "Search Results: Korean New Year (Seollal) (January 28-30, 2025) Significance: Seollal marks the beginning of the lunar calendar year. It is one of South Korea’s most important traditional holidays, emphasizing family unity and ancestral remembrance.\n",
      "South Korea Public Holidays 2025. This page contains a national calendar of all 2025 public holidays. These dates may be modified as official changes are announced, so please check back regularly for updates.\n",
      "Seollal 2025, 2026 and 2027. Seollal, or Korean Lunar New Year, is a major holiday in the lives of South Koreans. Seollal comes in January or February and involves family visits, ancestral rites, eating of traditional foods and playing of Korean games.\n",
      "Lunar New Year is the first day of the Chinese calendar, which is a lunisolar calendar mainly used for traditional celebrations.\n",
      "While Koreans traditionally celebrate the Lunar New Year (Seollal) more extensively, the Solar New Year is still observed as a public holiday. Many Koreans use this day for rest, reflection, and setting goals for the coming year.\n",
      "New Year’s Day is the first day of the year, or January 1, in the Gregorian calendar. Lunar New Year is the first day of the Chinese calendar, which is a lunisolar calendar mainly used for traditional celebrations. February 14 is Valentine's Day or Saint Valentine's Feast.\n",
      "January 1 New Year's Day. January 28–30 Lunar New Year (Seollal) March 1 Independence Movement Day Observed on March 3. May 1 Labor Day For private company employees only. May 5 Children's Day. June 6 Memorial Day. August 15 Liberation Day. October 3 National Foundation Day. October 9 Hangeul Proclamation Day. December 25 Christmas Day.\n",
      "South Korea celebrates 11 national holidays annually, including Lunar New Year, Buddha's Birthday, and Chuseok, which shift in date following the lunar calendar. And If some holiday falls on a weekend, a substitute holiday is designated. So, remember to check the holiday dates each year when planning your trip to South Korea.\n",
      "Since March 2023, South Korean workers will enjoy an extra day off if either Buddha's Birthday or Christmas overlaps with a Saturday or Sunday. Comprehensive list of National Public Holidays that are celebrated in South Korea during 2025 with dates and information on the origin and meaning of holidays.\n",
      "A list of holidays and observances in South Korea for 2025, providing a concise overview of the country's key celebrations. It showcases South Korea's rich cultural heritage and the unique blend of traditional and modern festivities throughout the year.\n",
      "\n",
      "--------------------------------------------------------------------------------\n",
      "Final Answer: The Lunar New Year (Seollal) in 2025 falls on **January 29**, with the holiday period observed in South Korea from **January 28 to January 30, 2025**. This period includes **three days off**.\n",
      "--------------------------------------------------------------------------------\n"
     ]
    }
   ],
   "source": [
    "input_query = \"When is the Lunar New Year in 2025, and how many days off are in the holiday period?\"\n",
    "get_input_query(input_query)"
   ]
  }
 ],
 "metadata": {
  "kernelspec": {
   "display_name": "Python 3",
   "language": "python",
   "name": "python3"
  },
  "language_info": {
   "codemirror_mode": {
    "name": "ipython",
    "version": 3
   },
   "file_extension": ".py",
   "mimetype": "text/x-python",
   "name": "python",
   "nbconvert_exporter": "python",
   "pygments_lexer": "ipython3",
   "version": "3.11.4"
  },
  "orig_nbformat": 4
 },
 "nbformat": 4,
 "nbformat_minor": 2
}
