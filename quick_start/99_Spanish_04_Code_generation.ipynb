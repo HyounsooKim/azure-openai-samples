{
 "cells": [
  {
   "cell_type": "markdown",
   "metadata": {},
   "source": [
    "# Prueba de Texto a SQL"
   ]
  },
  {
   "cell_type": "code",
   "execution_count": 1,
   "metadata": {},
   "outputs": [],
   "source": [
    "import os\n",
    "from openai import AzureOpenAI\n",
    "from dotenv import load_dotenv\n",
    "load_dotenv()\n",
    "\n",
    "client = AzureOpenAI(\n",
    "    azure_endpoint = os.getenv(\"AZURE_OPENAI_ENDPOINT\",\"\"),\n",
    "    api_key        = os.getenv(\"AZURE_OPENAI_API_KEY\"),\n",
    "    api_version    = os.getenv(\"OPENAI_API_VERSION\")\n",
    ")\n",
    "\n",
    "deployment_name    = os.getenv('DEPLOYMENT_NAME')"
   ]
  },
  {
   "cell_type": "code",
   "execution_count": 2,
   "metadata": {},
   "outputs": [
    {
     "name": "stdout",
     "output_type": "stream",
     "text": [
      "Para listar los nombres de los departamentos que emplearon a más de 10 empleados en los últimos 3 meses, puedes usar la siguiente consulta SQL:\n",
      "\n",
      "```sql\n",
      "SELECT d.name AS department_name\n",
      "FROM Department d\n",
      "JOIN Employee e ON d.id = e.department_id\n",
      "WHERE e.id IN (\n",
      "    SELECT DISTINCT employee_id\n",
      "    FROM Salary_Payments\n",
      "    WHERE date >= CURRENT_DATE - INTERVAL '3 months'\n",
      ")\n",
      "GROUP BY d.id, d.name\n",
      "HAVING COUNT(e.id) > 10;\n",
      "```\n",
      "\n",
      "### Explicación:\n",
      "1. **Subconsulta en `Salary_Payments`**:\n",
      "   - Filtra los empleados que recibieron pagos salariales en los últimos 3 meses (`date >= CURRENT_DATE - INTERVAL '3 months'`).\n",
      "   - Usa `DISTINCT` para asegurarse de considerar solo empleados únicos.\n",
      "\n",
      "2. **Unión con `Employee` y `Department`**:\n",
      "   - Une la tabla `Employee` con la tabla `Department` para asociar a los empleados con sus respectivos departamentos.\n",
      "\n",
      "3. **Agrupación y conteo**:\n",
      "   - Agrupa los resultados por departamento (`GROUP BY d.id, d.name`).\n",
      "   - Usa `HAVING COUNT(e.id) > 10` para filtrar los departamentos con más de 10 empleados.\n",
      "\n",
      "4. **Seleccionar Nombres de Departamentos**:\n",
      "   - Selecciona los nombres de los departamentos que cumplen con los criterios.\n"
     ]
    }
   ],
   "source": [
    "user_msg = \"\"\"### Tablas de Postgres SQL, con sus propiedades:\n",
    "#\n",
    "# Employee(id, name, department_id)\n",
    "# Department(id, name, address)\n",
    "# Salary_Payments(id, employee_id, amount, date)\n",
    "#\n",
    "### Haz una consulta para listar los nombres de los departamentos que emplearon a más de 10 empleados en los últimos 3 meses.\n",
    "consulta:\n",
    "\"\"\"\n",
    "\n",
    "response = client.chat.completions.create(\n",
    "    model=deployment_name,\n",
    "    messages=[\n",
    "        {\"role\": \"system\", \"content\": \"Eres un asistente útil.\"},\n",
    "        {\"role\": \"user\", \"content\": user_msg},\n",
    "    ],\n",
    "  temperature=0,\n",
    "  max_tokens=500\n",
    ")\n",
    "\n",
    "print(response.choices[0].message.content)"
   ]
  },
  {
   "cell_type": "markdown",
   "metadata": {},
   "source": [
    "# Prueba de SQL a Texto"
   ]
  },
  {
   "cell_type": "code",
   "execution_count": 3,
   "metadata": {},
   "outputs": [
    {
     "name": "stdout",
     "output_type": "stream",
     "text": [
      "Este código SQL está analizando y consultando datos de tres tablas: `Department`, `Employee` y `Salary_Payments`. Aquí tienes un desglose de lo que hace el código:\n",
      "\n",
      "### Objetivo:\n",
      "La consulta recupera el `nombre` de **departamentos** (`Department.d.name`) que cumplen con los siguientes criterios:\n",
      "- **Al menos 10 empleados** en el departamento han recibido un **pago salarial** en los **últimos 3 meses**.\n",
      "  \n",
      "### Desglose de la Consulta:\n",
      "#### 1. **Consulta principal:**\n",
      "```sql\n",
      "SELECT d.name\n",
      "FROM Department d\n",
      "WHERE d.id IN (\n",
      "    ...\n",
      ")\n",
      "```\n",
      "- Esta parte extrae los nombres de los departamentos (`d.name`) de la tabla `Department`.\n",
      "- La condición es que el `id` del departamento debe coincidir con los resultados de la **subconsulta** dentro de la cláusula `WHERE`.\n",
      "\n",
      "---\n",
      "\n",
      "#### 2. **Primera subconsulta:**\n",
      "```sql\n",
      "SELECT e.department_id\n",
      "FROM Employee e\n",
      "WHERE e.id IN (\n",
      "    ...\n",
      ")\n",
      "GROUP BY e.department_id\n",
      "HAVING COUNT(e.id) > 10\n",
      "```\n",
      "- Esta subconsulta trabaja con la tabla `Employee`.\n",
      "- Agrupa a los empleados (`e`) por su `department_id` y verifica la condición\n"
     ]
    }
   ],
   "source": [
    "user_msg = \"\"\"### ¿Puedes explicar qué hace este código? \n",
    "# Código: \n",
    "SELECT d.name\n",
    "FROM Department d\n",
    "WHERE d.id IN (\n",
    "    SELECT e.department_id\n",
    "    FROM Employee e\n",
    "    WHERE e.id IN (\n",
    "        SELECT sp.employee_id\n",
    "        FROM Salary_Payments sp\n",
    "        WHERE sp.date >= current_date - interval '3 months'\n",
    "    )\n",
    "    GROUP BY e.department_id\n",
    "    HAVING COUNT(e.id) > 10\n",
    ")\n",
    "# Respuesta: \n",
    "\"\"\"\n",
    "   \n",
    "response = client.chat.completions.create(\n",
    "    model=deployment_name,\n",
    "    messages=[\n",
    "        {\"role\": \"system\", \"content\": \"Eres un asistente útil.\"},\n",
    "        {\"role\": \"user\", \"content\": user_msg},\n",
    "    ],\n",
    "   max_tokens=250)\n",
    "\n",
    "print(response.choices[0].message.content)"
   ]
  },
  {
   "cell_type": "code",
   "execution_count": null,
   "metadata": {},
   "outputs": [],
   "source": []
  }
 ],
 "metadata": {
  "kernelspec": {
   "display_name": "Python 3",
   "language": "python",
   "name": "python3"
  },
  "language_info": {
   "codemirror_mode": {
    "name": "ipython",
    "version": 3
   },
   "file_extension": ".py",
   "mimetype": "text/x-python",
   "name": "python",
   "nbconvert_exporter": "python",
   "pygments_lexer": "ipython3",
   "version": "3.11.4"
  },
  "orig_nbformat": 4
 },
 "nbformat": 4,
 "nbformat_minor": 2
}