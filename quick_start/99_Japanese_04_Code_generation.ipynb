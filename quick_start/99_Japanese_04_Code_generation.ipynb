{
 "cells": [
  {
   "cell_type": "markdown",
   "metadata": {},
   "source": [
    "# テキストからSQLへのテスト"
   ]
  },
  {
   "cell_type": "code",
   "execution_count": 1,
   "metadata": {},
   "outputs": [],
   "source": [
    "import os\n",
    "from openai import AzureOpenAI\n",
    "from dotenv import load_dotenv\n",
    "load_dotenv()\n",
    "\n",
    "client = AzureOpenAI(\n",
    "    azure_endpoint = os.getenv(\"AZURE_OPENAI_ENDPOINT\",\"\"),\n",
    "    api_key        = os.getenv(\"AZURE_OPENAI_API_KEY\"),\n",
    "    api_version    = os.getenv(\"OPENAI_API_VERSION\")\n",
    ")\n",
    "\n",
    "deployment_name    = os.getenv('DEPLOYMENT_NAME')"
   ]
  },
  {
   "cell_type": "code",
   "execution_count": 2,
   "metadata": {},
   "outputs": [
    {
     "name": "stdout",
     "output_type": "stream",
     "text": [
      "過去3か月間に10人以上の従業員を雇用していた部門の名前をリストするには、次のSQLクエリを使用できます:\n",
      "\n",
      "```sql\n",
      "SELECT d.name AS department_name\n",
      "FROM Department d\n",
      "JOIN Employee e ON d.id = e.department_id\n",
      "WHERE e.id IN (\n",
      "    SELECT DISTINCT employee_id\n",
      "    FROM Salary_Payments\n",
      "    WHERE date >= CURRENT_DATE - INTERVAL '3 months'\n",
      ")\n",
      "GROUP BY d.id, d.name\n",
      "HAVING COUNT(e.id) > 10;\n",
      "```\n",
      "\n",
      "### 説明:\n",
      "1. **`Salary_Payments` サブクエリ**:\n",
      "   - 過去3か月間 (`date >= CURRENT_DATE - INTERVAL '3 months'`) に給与を受け取った従業員をフィルタリングします。\n",
      "   - `DISTINCT` を使用して、ユニークな従業員のみを考慮します。\n",
      "\n",
      "2. **`Employee` および `Department` テーブルの結合**:\n",
      "   - 従業員を関連する部門に関連付けるために、`Employee` テーブルと `Department` テーブルを結合します。\n",
      "\n",
      "3. **グループ化とカウント**:\n",
      "   - 部門ごとに結果をグループ化します (`GROUP BY d.id, d.name`)。\n",
      "   - `HAVING COUNT(e.id) > 10` を使用して、10人以上の従業員を持つ部門をフィルタリングします。\n",
      "\n",
      "4. **部門名の選択**:\n",
      "   - 条件を満たす部門名を選択します。\n"
     ]
    }
   ],
   "source": [
    "user_msg = \"\"\"### Postgres SQLテーブルとそのプロパティ:\n",
    "#\n",
    "# Employee(id, name, department_id)\n",
    "# Department(id, name, address)\n",
    "# Salary_Payments(id, employee_id, amount, date)\n",
    "#\n",
    "### 過去3か月間に10人以上の従業員を雇用していた部門の名前をリストするクエリを作成します。\n",
    "query:\n",
    "\"\"\"\n",
    "\n",
    "response = client.chat.completions.create(\n",
    "    model=deployment_name,\n",
    "    messages=[\n",
    "        {\"role\": \"system\", \"content\": \"You are a helpful assistant.\"},\n",
    "        {\"role\": \"user\", \"content\": user_msg},\n",
    "    ],\n",
    "  temperature=0,\n",
    "  max_tokens=500\n",
    ")\n",
    "\n",
    "print(response.choices[0].message.content)"
   ]
  },
  {
   "cell_type": "markdown",
   "metadata": {},
   "source": [
    "# SQLからテキストへのテスト"
   ]
  },
  {
   "cell_type": "code",
   "execution_count": 3,
   "metadata": {},
   "outputs": [
    {
     "name": "stdout",
     "output_type": "stream",
     "text": [
      "このSQLコードは、`Department`、`Employee`、および `Salary_Payments` の3つのテーブルからデータを分析およびクエリしています。以下は、このコードの内容の詳細な説明です:\n",
      "\n",
      "### 目標:\n",
      "このクエリは、次の条件を満たす**部門** (`Department.d.name`) の`name`を取得します:\n",
      "- **少なくとも10人の従業員**が、過去**3か月間**に**給与を受け取った**。\n",
      "  \n",
      "### クエリの内訳:\n",
      "#### 1. **メインクエリ:**\n",
      "```sql\n",
      "SELECT d.name\n",
      "FROM Department d\n",
      "WHERE d.id IN (\n",
      "    ...\n",
      ")\n",
      "```\n",
      "- この部分は、`Department` テーブルから部門の名前 (`d.name`) を取得します。\n",
      "- 条件として、部門の `id` が `WHERE` 節内の**サブクエリ**の結果と一致する必要があります。\n",
      "\n",
      "---\n",
      "\n",
      "#### 2. **最初のサブクエリ:**\n",
      "```sql\n",
      "SELECT e.department_id\n",
      "FROM Employee e\n",
      "WHERE e.id IN (\n",
      "    ...\n",
      ")\n",
      "GROUP BY e.department_id\n",
      "HAVING COUNT(e.id) > 10\n",
      "```\n",
      "- このサブクエリは、`Employee` テーブルを使用しています。\n",
      "- 従業員を `department_id` ごとにグループ化し、その条件をチェックします。\n"
     ]
    }
   ],
   "source": [
    "user_msg = \"\"\"###このコードが何をしているのか説明できますか?\n",
    "# コード: \n",
    "SELECT d.name\n",
    "FROM Department d\n",
    "WHERE d.id IN (\n",
    "    SELECT e.department_id\n",
    "    FROM Employee e\n",
    "    WHERE e.id IN (\n",
    "        SELECT sp.employee_id\n",
    "        FROM Salary_Payments sp\n",
    "        WHERE sp.date >= current_date - interval '3 months'\n",
    "    )\n",
    "    GROUP BY e.department_id\n",
    "    HAVING COUNT(e.id) > 10\n",
    ")\n",
    "# 回答: \n",
    "\"\"\"\n",
    "   \n",
    "response = client.chat.completions.create(\n",
    "    model=deployment_name,\n",
    "    messages=[\n",
    "        {\"role\": \"system\", \"content\": \"You are a helpful assistant.\"},\n",
    "        {\"role\": \"user\", \"content\": user_msg},\n",
    "    ],\n",
    "   max_tokens=250)\n",
    "\n",
    "print(response.choices[0].message.content)"
   ]
  },
  {
   "cell_type": "code",
   "execution_count": null,
   "metadata": {},
   "outputs": [],
   "source": []
  }
 ],
 "metadata": {
  "kernelspec": {
   "display_name": "Python 3",
   "language": "python",
   "name": "python3"
  },
  "language_info": {
   "codemirror_mode": {
    "name": "ipython",
    "version": 3
   },
   "file_extension": ".py",
   "mimetype": "text/x-python",
   "name": "python",
   "nbconvert_exporter": "python",
   "pygments_lexer": "ipython3",
   "version": "3.11.4"
  },
  "orig_nbformat": 4
 },
 "nbformat": 4,
 "nbformat_minor": 2
}